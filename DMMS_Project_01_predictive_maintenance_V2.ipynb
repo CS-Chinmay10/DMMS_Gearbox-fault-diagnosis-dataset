{
  "cells": [
    {
      "cell_type": "markdown",
      "metadata": {
        "id": "NnxGdR8sXSq8"
      },
      "source": [
        "# Gear tooth failure prediction"
      ]
    },
    {
      "cell_type": "markdown",
      "metadata": {
        "id": "wcO-gFFD8196"
      },
      "source": [
        "Dataset taken from Kaggle.\n",
        "\n",
        "\n",
        "https://www.kaggle.com/datasets/brjapon/gearbox-fault-diagnosis"
      ]
    },
    {
      "cell_type": "markdown",
      "metadata": {
        "id": "J5BQNCdX8197"
      },
      "source": [
        "## Loading Dataset\n",
        "The entire dataset zip file contains two folders - Healthy and BrokenTooth. As the name suggests, BrokenTooth folder contains the failure dataset while Healthy folder contains normal dataset.\n",
        "\n",
        "Each folder contains 10 files corresponding to applied load on the gears in percentage (0 - 90%). For our project, we have taken only the data corresponding to applied load of 50%."
      ]
    },
    {
      "cell_type": "code",
      "execution_count": 1,
      "metadata": {
        "id": "ZGog8GDuh25x"
      },
      "outputs": [],
      "source": [
        "# Import the required libraries.\n",
        "import pandas as pd\n",
        "import numpy as np\n",
        "import matplotlib.pyplot as plt\n",
        "from sklearn.preprocessing import StandardScaler\n",
        "from sklearn.svm import SVC\n",
        "from sklearn.feature_selection import RFECV\n",
        "from sklearn.model_selection import StratifiedKFold\n",
        "from sklearn.model_selection import train_test_split\n",
        "from sklearn.metrics import accuracy_score, confusion_matrix, f1_score, recall_score, classification_report, precision_score"
      ]
    },
    {
      "cell_type": "code",
      "execution_count": 2,
      "metadata": {
        "id": "3oLRldkbh5tY"
      },
      "outputs": [],
      "source": [
        "broken_dataset_url = \"https://raw.githubusercontent.com/CS-Chinmay10/DMMS_Gearbox-fault-diagnosis-dataset/main/broken/b30hz50.csv\"\n",
        "healthy_dataset_url = \"https://raw.githubusercontent.com/CS-Chinmay10/DMMS_Gearbox-fault-diagnosis-dataset/main/healthy/h30hz50.csv\""
      ]
    },
    {
      "cell_type": "code",
      "execution_count": 3,
      "metadata": {
        "id": "3mHIKAikh9J4"
      },
      "outputs": [],
      "source": [
        "broken_df = pd.read_csv(broken_dataset_url, header=0)  # Broken tooth (failure) dataset.\n",
        "healthy_df = pd.read_csv(healthy_dataset_url, header=0) # Healthy (normal) dataset.\n",
        "# Add applied load at the end of df.\n",
        "broken_df[\"applied_load\"] = 50 * np.ones((broken_df.shape[0], 1))\n",
        "healthy_df[\"applied_load\"] = 50 * np.ones((healthy_df.shape[0], 1))"
      ]
    },
    {
      "cell_type": "code",
      "execution_count": 4,
      "metadata": {
        "colab": {
          "base_uri": "https://localhost:8080/",
          "height": 424
        },
        "id": "fS9kdMIfjnh0",
        "outputId": "7d97360b-1962-4ecd-fe92-fbdfaef44258"
      },
      "outputs": [
        {
          "output_type": "execute_result",
          "data": {
            "text/plain": [
              "            a1        a2        a3         a4  applied_load\n",
              "0     -3.93468   6.55216 -1.237980  20.310300          50.0\n",
              "1      2.40285   9.99438 -3.242650   8.313200          50.0\n",
              "2      6.24273  -3.17577 -0.686974  -4.193820          50.0\n",
              "3     -3.99411 -14.14480  3.845360  -5.658600          50.0\n",
              "4      1.76551  -6.46492  5.096230  -9.001360          50.0\n",
              "...        ...       ...       ...        ...           ...\n",
              "94203 -1.46153   2.78470 -1.151670  -4.537800          50.0\n",
              "94204 -3.87952   0.85365  6.423880  -5.474920          50.0\n",
              "94205  1.73315   4.06958  5.364500   0.216419          50.0\n",
              "94206  8.97857  10.06520  1.552720   3.656620          50.0\n",
              "94207  6.15826   5.58468  2.412330   2.038780          50.0\n",
              "\n",
              "[94208 rows x 5 columns]"
            ],
            "text/html": [
              "\n",
              "  <div id=\"df-1ae31d7b-bb67-4a5b-838a-c3f2b92611a9\">\n",
              "    <div class=\"colab-df-container\">\n",
              "      <div>\n",
              "<style scoped>\n",
              "    .dataframe tbody tr th:only-of-type {\n",
              "        vertical-align: middle;\n",
              "    }\n",
              "\n",
              "    .dataframe tbody tr th {\n",
              "        vertical-align: top;\n",
              "    }\n",
              "\n",
              "    .dataframe thead th {\n",
              "        text-align: right;\n",
              "    }\n",
              "</style>\n",
              "<table border=\"1\" class=\"dataframe\">\n",
              "  <thead>\n",
              "    <tr style=\"text-align: right;\">\n",
              "      <th></th>\n",
              "      <th>a1</th>\n",
              "      <th>a2</th>\n",
              "      <th>a3</th>\n",
              "      <th>a4</th>\n",
              "      <th>applied_load</th>\n",
              "    </tr>\n",
              "  </thead>\n",
              "  <tbody>\n",
              "    <tr>\n",
              "      <th>0</th>\n",
              "      <td>-3.93468</td>\n",
              "      <td>6.55216</td>\n",
              "      <td>-1.237980</td>\n",
              "      <td>20.310300</td>\n",
              "      <td>50.0</td>\n",
              "    </tr>\n",
              "    <tr>\n",
              "      <th>1</th>\n",
              "      <td>2.40285</td>\n",
              "      <td>9.99438</td>\n",
              "      <td>-3.242650</td>\n",
              "      <td>8.313200</td>\n",
              "      <td>50.0</td>\n",
              "    </tr>\n",
              "    <tr>\n",
              "      <th>2</th>\n",
              "      <td>6.24273</td>\n",
              "      <td>-3.17577</td>\n",
              "      <td>-0.686974</td>\n",
              "      <td>-4.193820</td>\n",
              "      <td>50.0</td>\n",
              "    </tr>\n",
              "    <tr>\n",
              "      <th>3</th>\n",
              "      <td>-3.99411</td>\n",
              "      <td>-14.14480</td>\n",
              "      <td>3.845360</td>\n",
              "      <td>-5.658600</td>\n",
              "      <td>50.0</td>\n",
              "    </tr>\n",
              "    <tr>\n",
              "      <th>4</th>\n",
              "      <td>1.76551</td>\n",
              "      <td>-6.46492</td>\n",
              "      <td>5.096230</td>\n",
              "      <td>-9.001360</td>\n",
              "      <td>50.0</td>\n",
              "    </tr>\n",
              "    <tr>\n",
              "      <th>...</th>\n",
              "      <td>...</td>\n",
              "      <td>...</td>\n",
              "      <td>...</td>\n",
              "      <td>...</td>\n",
              "      <td>...</td>\n",
              "    </tr>\n",
              "    <tr>\n",
              "      <th>94203</th>\n",
              "      <td>-1.46153</td>\n",
              "      <td>2.78470</td>\n",
              "      <td>-1.151670</td>\n",
              "      <td>-4.537800</td>\n",
              "      <td>50.0</td>\n",
              "    </tr>\n",
              "    <tr>\n",
              "      <th>94204</th>\n",
              "      <td>-3.87952</td>\n",
              "      <td>0.85365</td>\n",
              "      <td>6.423880</td>\n",
              "      <td>-5.474920</td>\n",
              "      <td>50.0</td>\n",
              "    </tr>\n",
              "    <tr>\n",
              "      <th>94205</th>\n",
              "      <td>1.73315</td>\n",
              "      <td>4.06958</td>\n",
              "      <td>5.364500</td>\n",
              "      <td>0.216419</td>\n",
              "      <td>50.0</td>\n",
              "    </tr>\n",
              "    <tr>\n",
              "      <th>94206</th>\n",
              "      <td>8.97857</td>\n",
              "      <td>10.06520</td>\n",
              "      <td>1.552720</td>\n",
              "      <td>3.656620</td>\n",
              "      <td>50.0</td>\n",
              "    </tr>\n",
              "    <tr>\n",
              "      <th>94207</th>\n",
              "      <td>6.15826</td>\n",
              "      <td>5.58468</td>\n",
              "      <td>2.412330</td>\n",
              "      <td>2.038780</td>\n",
              "      <td>50.0</td>\n",
              "    </tr>\n",
              "  </tbody>\n",
              "</table>\n",
              "<p>94208 rows × 5 columns</p>\n",
              "</div>\n",
              "      <button class=\"colab-df-convert\" onclick=\"convertToInteractive('df-1ae31d7b-bb67-4a5b-838a-c3f2b92611a9')\"\n",
              "              title=\"Convert this dataframe to an interactive table.\"\n",
              "              style=\"display:none;\">\n",
              "        \n",
              "  <svg xmlns=\"http://www.w3.org/2000/svg\" height=\"24px\"viewBox=\"0 0 24 24\"\n",
              "       width=\"24px\">\n",
              "    <path d=\"M0 0h24v24H0V0z\" fill=\"none\"/>\n",
              "    <path d=\"M18.56 5.44l.94 2.06.94-2.06 2.06-.94-2.06-.94-.94-2.06-.94 2.06-2.06.94zm-11 1L8.5 8.5l.94-2.06 2.06-.94-2.06-.94L8.5 2.5l-.94 2.06-2.06.94zm10 10l.94 2.06.94-2.06 2.06-.94-2.06-.94-.94-2.06-.94 2.06-2.06.94z\"/><path d=\"M17.41 7.96l-1.37-1.37c-.4-.4-.92-.59-1.43-.59-.52 0-1.04.2-1.43.59L10.3 9.45l-7.72 7.72c-.78.78-.78 2.05 0 2.83L4 21.41c.39.39.9.59 1.41.59.51 0 1.02-.2 1.41-.59l7.78-7.78 2.81-2.81c.8-.78.8-2.07 0-2.86zM5.41 20L4 18.59l7.72-7.72 1.47 1.35L5.41 20z\"/>\n",
              "  </svg>\n",
              "      </button>\n",
              "      \n",
              "  <style>\n",
              "    .colab-df-container {\n",
              "      display:flex;\n",
              "      flex-wrap:wrap;\n",
              "      gap: 12px;\n",
              "    }\n",
              "\n",
              "    .colab-df-convert {\n",
              "      background-color: #E8F0FE;\n",
              "      border: none;\n",
              "      border-radius: 50%;\n",
              "      cursor: pointer;\n",
              "      display: none;\n",
              "      fill: #1967D2;\n",
              "      height: 32px;\n",
              "      padding: 0 0 0 0;\n",
              "      width: 32px;\n",
              "    }\n",
              "\n",
              "    .colab-df-convert:hover {\n",
              "      background-color: #E2EBFA;\n",
              "      box-shadow: 0px 1px 2px rgba(60, 64, 67, 0.3), 0px 1px 3px 1px rgba(60, 64, 67, 0.15);\n",
              "      fill: #174EA6;\n",
              "    }\n",
              "\n",
              "    [theme=dark] .colab-df-convert {\n",
              "      background-color: #3B4455;\n",
              "      fill: #D2E3FC;\n",
              "    }\n",
              "\n",
              "    [theme=dark] .colab-df-convert:hover {\n",
              "      background-color: #434B5C;\n",
              "      box-shadow: 0px 1px 3px 1px rgba(0, 0, 0, 0.15);\n",
              "      filter: drop-shadow(0px 1px 2px rgba(0, 0, 0, 0.3));\n",
              "      fill: #FFFFFF;\n",
              "    }\n",
              "  </style>\n",
              "\n",
              "      <script>\n",
              "        const buttonEl =\n",
              "          document.querySelector('#df-1ae31d7b-bb67-4a5b-838a-c3f2b92611a9 button.colab-df-convert');\n",
              "        buttonEl.style.display =\n",
              "          google.colab.kernel.accessAllowed ? 'block' : 'none';\n",
              "\n",
              "        async function convertToInteractive(key) {\n",
              "          const element = document.querySelector('#df-1ae31d7b-bb67-4a5b-838a-c3f2b92611a9');\n",
              "          const dataTable =\n",
              "            await google.colab.kernel.invokeFunction('convertToInteractive',\n",
              "                                                     [key], {});\n",
              "          if (!dataTable) return;\n",
              "\n",
              "          const docLinkHtml = 'Like what you see? Visit the ' +\n",
              "            '<a target=\"_blank\" href=https://colab.research.google.com/notebooks/data_table.ipynb>data table notebook</a>'\n",
              "            + ' to learn more about interactive tables.';\n",
              "          element.innerHTML = '';\n",
              "          dataTable['output_type'] = 'display_data';\n",
              "          await google.colab.output.renderOutput(dataTable, element);\n",
              "          const docLink = document.createElement('div');\n",
              "          docLink.innerHTML = docLinkHtml;\n",
              "          element.appendChild(docLink);\n",
              "        }\n",
              "      </script>\n",
              "    </div>\n",
              "  </div>\n",
              "  "
            ]
          },
          "metadata": {},
          "execution_count": 4
        }
      ],
      "source": [
        "broken_df"
      ]
    },
    {
      "cell_type": "code",
      "execution_count": 5,
      "metadata": {
        "colab": {
          "base_uri": "https://localhost:8080/",
          "height": 424
        },
        "id": "SkFOrJxpBdyw",
        "outputId": "8ee36e04-c323-4657-8197-f752f8a75e8f"
      },
      "outputs": [
        {
          "output_type": "execute_result",
          "data": {
            "text/plain": [
              "              a1        a2        a3         a4  applied_load\n",
              "0       2.144160 -1.958210 -0.190533  -4.584750          50.0\n",
              "1      -9.920150 -7.475190  1.794680  -7.472510          50.0\n",
              "2      -1.330590  0.751472 -3.557400   0.328149          50.0\n",
              "3       7.761710 -1.498460 -1.764630  10.991900          50.0\n",
              "4      -0.714011 -0.164771  9.650560   8.970950          50.0\n",
              "...          ...       ...       ...        ...           ...\n",
              "110843  3.245040 -2.692110  2.714350  -0.639589          50.0\n",
              "110844  1.347960 -2.303540  2.583290  -1.174450          50.0\n",
              "110845  0.003272 -3.241480 -1.423700  -0.610475          50.0\n",
              "110846 -0.031329 -3.361870 -1.493090  -2.147170          50.0\n",
              "110847  1.031390 -0.380219 -2.235860  -0.474274          50.0\n",
              "\n",
              "[110848 rows x 5 columns]"
            ],
            "text/html": [
              "\n",
              "  <div id=\"df-39e3ecda-51a1-4e3f-87e1-7c10162199d2\">\n",
              "    <div class=\"colab-df-container\">\n",
              "      <div>\n",
              "<style scoped>\n",
              "    .dataframe tbody tr th:only-of-type {\n",
              "        vertical-align: middle;\n",
              "    }\n",
              "\n",
              "    .dataframe tbody tr th {\n",
              "        vertical-align: top;\n",
              "    }\n",
              "\n",
              "    .dataframe thead th {\n",
              "        text-align: right;\n",
              "    }\n",
              "</style>\n",
              "<table border=\"1\" class=\"dataframe\">\n",
              "  <thead>\n",
              "    <tr style=\"text-align: right;\">\n",
              "      <th></th>\n",
              "      <th>a1</th>\n",
              "      <th>a2</th>\n",
              "      <th>a3</th>\n",
              "      <th>a4</th>\n",
              "      <th>applied_load</th>\n",
              "    </tr>\n",
              "  </thead>\n",
              "  <tbody>\n",
              "    <tr>\n",
              "      <th>0</th>\n",
              "      <td>2.144160</td>\n",
              "      <td>-1.958210</td>\n",
              "      <td>-0.190533</td>\n",
              "      <td>-4.584750</td>\n",
              "      <td>50.0</td>\n",
              "    </tr>\n",
              "    <tr>\n",
              "      <th>1</th>\n",
              "      <td>-9.920150</td>\n",
              "      <td>-7.475190</td>\n",
              "      <td>1.794680</td>\n",
              "      <td>-7.472510</td>\n",
              "      <td>50.0</td>\n",
              "    </tr>\n",
              "    <tr>\n",
              "      <th>2</th>\n",
              "      <td>-1.330590</td>\n",
              "      <td>0.751472</td>\n",
              "      <td>-3.557400</td>\n",
              "      <td>0.328149</td>\n",
              "      <td>50.0</td>\n",
              "    </tr>\n",
              "    <tr>\n",
              "      <th>3</th>\n",
              "      <td>7.761710</td>\n",
              "      <td>-1.498460</td>\n",
              "      <td>-1.764630</td>\n",
              "      <td>10.991900</td>\n",
              "      <td>50.0</td>\n",
              "    </tr>\n",
              "    <tr>\n",
              "      <th>4</th>\n",
              "      <td>-0.714011</td>\n",
              "      <td>-0.164771</td>\n",
              "      <td>9.650560</td>\n",
              "      <td>8.970950</td>\n",
              "      <td>50.0</td>\n",
              "    </tr>\n",
              "    <tr>\n",
              "      <th>...</th>\n",
              "      <td>...</td>\n",
              "      <td>...</td>\n",
              "      <td>...</td>\n",
              "      <td>...</td>\n",
              "      <td>...</td>\n",
              "    </tr>\n",
              "    <tr>\n",
              "      <th>110843</th>\n",
              "      <td>3.245040</td>\n",
              "      <td>-2.692110</td>\n",
              "      <td>2.714350</td>\n",
              "      <td>-0.639589</td>\n",
              "      <td>50.0</td>\n",
              "    </tr>\n",
              "    <tr>\n",
              "      <th>110844</th>\n",
              "      <td>1.347960</td>\n",
              "      <td>-2.303540</td>\n",
              "      <td>2.583290</td>\n",
              "      <td>-1.174450</td>\n",
              "      <td>50.0</td>\n",
              "    </tr>\n",
              "    <tr>\n",
              "      <th>110845</th>\n",
              "      <td>0.003272</td>\n",
              "      <td>-3.241480</td>\n",
              "      <td>-1.423700</td>\n",
              "      <td>-0.610475</td>\n",
              "      <td>50.0</td>\n",
              "    </tr>\n",
              "    <tr>\n",
              "      <th>110846</th>\n",
              "      <td>-0.031329</td>\n",
              "      <td>-3.361870</td>\n",
              "      <td>-1.493090</td>\n",
              "      <td>-2.147170</td>\n",
              "      <td>50.0</td>\n",
              "    </tr>\n",
              "    <tr>\n",
              "      <th>110847</th>\n",
              "      <td>1.031390</td>\n",
              "      <td>-0.380219</td>\n",
              "      <td>-2.235860</td>\n",
              "      <td>-0.474274</td>\n",
              "      <td>50.0</td>\n",
              "    </tr>\n",
              "  </tbody>\n",
              "</table>\n",
              "<p>110848 rows × 5 columns</p>\n",
              "</div>\n",
              "      <button class=\"colab-df-convert\" onclick=\"convertToInteractive('df-39e3ecda-51a1-4e3f-87e1-7c10162199d2')\"\n",
              "              title=\"Convert this dataframe to an interactive table.\"\n",
              "              style=\"display:none;\">\n",
              "        \n",
              "  <svg xmlns=\"http://www.w3.org/2000/svg\" height=\"24px\"viewBox=\"0 0 24 24\"\n",
              "       width=\"24px\">\n",
              "    <path d=\"M0 0h24v24H0V0z\" fill=\"none\"/>\n",
              "    <path d=\"M18.56 5.44l.94 2.06.94-2.06 2.06-.94-2.06-.94-.94-2.06-.94 2.06-2.06.94zm-11 1L8.5 8.5l.94-2.06 2.06-.94-2.06-.94L8.5 2.5l-.94 2.06-2.06.94zm10 10l.94 2.06.94-2.06 2.06-.94-2.06-.94-.94-2.06-.94 2.06-2.06.94z\"/><path d=\"M17.41 7.96l-1.37-1.37c-.4-.4-.92-.59-1.43-.59-.52 0-1.04.2-1.43.59L10.3 9.45l-7.72 7.72c-.78.78-.78 2.05 0 2.83L4 21.41c.39.39.9.59 1.41.59.51 0 1.02-.2 1.41-.59l7.78-7.78 2.81-2.81c.8-.78.8-2.07 0-2.86zM5.41 20L4 18.59l7.72-7.72 1.47 1.35L5.41 20z\"/>\n",
              "  </svg>\n",
              "      </button>\n",
              "      \n",
              "  <style>\n",
              "    .colab-df-container {\n",
              "      display:flex;\n",
              "      flex-wrap:wrap;\n",
              "      gap: 12px;\n",
              "    }\n",
              "\n",
              "    .colab-df-convert {\n",
              "      background-color: #E8F0FE;\n",
              "      border: none;\n",
              "      border-radius: 50%;\n",
              "      cursor: pointer;\n",
              "      display: none;\n",
              "      fill: #1967D2;\n",
              "      height: 32px;\n",
              "      padding: 0 0 0 0;\n",
              "      width: 32px;\n",
              "    }\n",
              "\n",
              "    .colab-df-convert:hover {\n",
              "      background-color: #E2EBFA;\n",
              "      box-shadow: 0px 1px 2px rgba(60, 64, 67, 0.3), 0px 1px 3px 1px rgba(60, 64, 67, 0.15);\n",
              "      fill: #174EA6;\n",
              "    }\n",
              "\n",
              "    [theme=dark] .colab-df-convert {\n",
              "      background-color: #3B4455;\n",
              "      fill: #D2E3FC;\n",
              "    }\n",
              "\n",
              "    [theme=dark] .colab-df-convert:hover {\n",
              "      background-color: #434B5C;\n",
              "      box-shadow: 0px 1px 3px 1px rgba(0, 0, 0, 0.15);\n",
              "      filter: drop-shadow(0px 1px 2px rgba(0, 0, 0, 0.3));\n",
              "      fill: #FFFFFF;\n",
              "    }\n",
              "  </style>\n",
              "\n",
              "      <script>\n",
              "        const buttonEl =\n",
              "          document.querySelector('#df-39e3ecda-51a1-4e3f-87e1-7c10162199d2 button.colab-df-convert');\n",
              "        buttonEl.style.display =\n",
              "          google.colab.kernel.accessAllowed ? 'block' : 'none';\n",
              "\n",
              "        async function convertToInteractive(key) {\n",
              "          const element = document.querySelector('#df-39e3ecda-51a1-4e3f-87e1-7c10162199d2');\n",
              "          const dataTable =\n",
              "            await google.colab.kernel.invokeFunction('convertToInteractive',\n",
              "                                                     [key], {});\n",
              "          if (!dataTable) return;\n",
              "\n",
              "          const docLinkHtml = 'Like what you see? Visit the ' +\n",
              "            '<a target=\"_blank\" href=https://colab.research.google.com/notebooks/data_table.ipynb>data table notebook</a>'\n",
              "            + ' to learn more about interactive tables.';\n",
              "          element.innerHTML = '';\n",
              "          dataTable['output_type'] = 'display_data';\n",
              "          await google.colab.output.renderOutput(dataTable, element);\n",
              "          const docLink = document.createElement('div');\n",
              "          docLink.innerHTML = docLinkHtml;\n",
              "          element.appendChild(docLink);\n",
              "        }\n",
              "      </script>\n",
              "    </div>\n",
              "  </div>\n",
              "  "
            ]
          },
          "metadata": {},
          "execution_count": 5
        }
      ],
      "source": [
        "healthy_df"
      ]
    },
    {
      "cell_type": "code",
      "execution_count": 6,
      "metadata": {
        "colab": {
          "base_uri": "https://localhost:8080/"
        },
        "id": "CQdVa8CNONxQ",
        "outputId": "8a31facc-3326-4663-941c-7d80cfeb99e3"
      },
      "outputs": [
        {
          "output_type": "stream",
          "name": "stdout",
          "text": [
            "a1              0\n",
            "a2              0\n",
            "a3              0\n",
            "a4              0\n",
            "applied_load    0\n",
            "dtype: int64\n"
          ]
        }
      ],
      "source": [
        "# Check to see if there are any null values.\n",
        "print(healthy_df.isna().sum())"
      ]
    },
    {
      "cell_type": "code",
      "execution_count": 7,
      "metadata": {
        "colab": {
          "base_uri": "https://localhost:8080/"
        },
        "id": "srAQi792OuXo",
        "outputId": "a9c1a0bc-d2d9-4b20-fd80-30c5c100da2a"
      },
      "outputs": [
        {
          "output_type": "stream",
          "name": "stdout",
          "text": [
            "a1              0\n",
            "a2              0\n",
            "a3              0\n",
            "a4              0\n",
            "applied_load    0\n",
            "dtype: int64\n"
          ]
        }
      ],
      "source": [
        "print(broken_df.isna().sum())"
      ]
    },
    {
      "cell_type": "markdown",
      "metadata": {
        "id": "WDj56wdt81-A"
      },
      "source": [
        "There are no null values present in the dataset."
      ]
    },
    {
      "cell_type": "markdown",
      "metadata": {
        "id": "mXYLXJ8181-A"
      },
      "source": [
        "## Feature engineering\n",
        "In predictive maintenance, normally the data obtained is a time-series data. In order to process it, various time and frequency domain features need to be computed so that the dataset can be better analyzed and provide more info.\n",
        "\n",
        "For doing this, we have used a third party library called TSFEL (abbreviation for Time Series Feature Extraction Library). TSFEL automatically extracts over 60 different features on the statistical, temporal and spectral domains."
      ]
    },
    {
      "cell_type": "code",
      "execution_count": 8,
      "metadata": {
        "colab": {
          "base_uri": "https://localhost:8080/"
        },
        "id": "5a1RTlcgQUsc",
        "outputId": "ea47add6-a895-4def-f654-2470ca1978f4",
        "scrolled": true
      },
      "outputs": [
        {
          "output_type": "stream",
          "name": "stdout",
          "text": [
            "Looking in indexes: https://pypi.org/simple, https://us-python.pkg.dev/colab-wheels/public/simple/\n",
            "Collecting tsfel\n",
            "  Downloading tsfel-0.1.4-py3-none-any.whl (46 kB)\n",
            "\u001b[K     |████████████████████████████████| 46 kB 2.1 MB/s \n",
            "\u001b[?25hRequirement already satisfied: gspread>=3.1.0 in /usr/local/lib/python3.7/dist-packages (from tsfel) (3.4.2)\n",
            "Requirement already satisfied: numpy>=1.18.5 in /usr/local/lib/python3.7/dist-packages (from tsfel) (1.21.6)\n",
            "Requirement already satisfied: setuptools>=47.1.1 in /usr/local/lib/python3.7/dist-packages (from tsfel) (57.4.0)\n",
            "Requirement already satisfied: Sphinx>=1.8.5 in /usr/local/lib/python3.7/dist-packages (from tsfel) (1.8.6)\n",
            "Requirement already satisfied: scipy>=1.5.1 in /usr/local/lib/python3.7/dist-packages (from tsfel) (1.7.3)\n",
            "Requirement already satisfied: ipython>=7.4.0 in /usr/local/lib/python3.7/dist-packages (from tsfel) (7.9.0)\n",
            "Requirement already satisfied: oauth2client>=4.1.3 in /usr/local/lib/python3.7/dist-packages (from tsfel) (4.1.3)\n",
            "Requirement already satisfied: pandas>=0.25.3 in /usr/local/lib/python3.7/dist-packages (from tsfel) (1.3.5)\n",
            "Requirement already satisfied: requests>=2.2.1 in /usr/local/lib/python3.7/dist-packages (from gspread>=3.1.0->tsfel) (2.23.0)\n",
            "Requirement already satisfied: google-auth in /usr/local/lib/python3.7/dist-packages (from gspread>=3.1.0->tsfel) (1.35.0)\n",
            "Requirement already satisfied: pygments in /usr/local/lib/python3.7/dist-packages (from ipython>=7.4.0->tsfel) (2.6.1)\n",
            "Requirement already satisfied: backcall in /usr/local/lib/python3.7/dist-packages (from ipython>=7.4.0->tsfel) (0.2.0)\n",
            "Collecting jedi>=0.10\n",
            "  Downloading jedi-0.18.1-py2.py3-none-any.whl (1.6 MB)\n",
            "\u001b[K     |████████████████████████████████| 1.6 MB 9.0 MB/s \n",
            "\u001b[?25hRequirement already satisfied: pexpect in /usr/local/lib/python3.7/dist-packages (from ipython>=7.4.0->tsfel) (4.8.0)\n",
            "Requirement already satisfied: pickleshare in /usr/local/lib/python3.7/dist-packages (from ipython>=7.4.0->tsfel) (0.7.5)\n",
            "Requirement already satisfied: prompt-toolkit<2.1.0,>=2.0.0 in /usr/local/lib/python3.7/dist-packages (from ipython>=7.4.0->tsfel) (2.0.10)\n",
            "Requirement already satisfied: traitlets>=4.2 in /usr/local/lib/python3.7/dist-packages (from ipython>=7.4.0->tsfel) (5.1.1)\n",
            "Requirement already satisfied: decorator in /usr/local/lib/python3.7/dist-packages (from ipython>=7.4.0->tsfel) (4.4.2)\n",
            "Requirement already satisfied: parso<0.9.0,>=0.8.0 in /usr/local/lib/python3.7/dist-packages (from jedi>=0.10->ipython>=7.4.0->tsfel) (0.8.3)\n",
            "Requirement already satisfied: six>=1.6.1 in /usr/local/lib/python3.7/dist-packages (from oauth2client>=4.1.3->tsfel) (1.15.0)\n",
            "Requirement already satisfied: httplib2>=0.9.1 in /usr/local/lib/python3.7/dist-packages (from oauth2client>=4.1.3->tsfel) (0.17.4)\n",
            "Requirement already satisfied: rsa>=3.1.4 in /usr/local/lib/python3.7/dist-packages (from oauth2client>=4.1.3->tsfel) (4.9)\n",
            "Requirement already satisfied: pyasn1>=0.1.7 in /usr/local/lib/python3.7/dist-packages (from oauth2client>=4.1.3->tsfel) (0.4.8)\n",
            "Requirement already satisfied: pyasn1-modules>=0.0.5 in /usr/local/lib/python3.7/dist-packages (from oauth2client>=4.1.3->tsfel) (0.2.8)\n",
            "Requirement already satisfied: python-dateutil>=2.7.3 in /usr/local/lib/python3.7/dist-packages (from pandas>=0.25.3->tsfel) (2.8.2)\n",
            "Requirement already satisfied: pytz>=2017.3 in /usr/local/lib/python3.7/dist-packages (from pandas>=0.25.3->tsfel) (2022.5)\n",
            "Requirement already satisfied: wcwidth in /usr/local/lib/python3.7/dist-packages (from prompt-toolkit<2.1.0,>=2.0.0->ipython>=7.4.0->tsfel) (0.2.5)\n",
            "Requirement already satisfied: idna<3,>=2.5 in /usr/local/lib/python3.7/dist-packages (from requests>=2.2.1->gspread>=3.1.0->tsfel) (2.10)\n",
            "Requirement already satisfied: urllib3!=1.25.0,!=1.25.1,<1.26,>=1.21.1 in /usr/local/lib/python3.7/dist-packages (from requests>=2.2.1->gspread>=3.1.0->tsfel) (1.24.3)\n",
            "Requirement already satisfied: chardet<4,>=3.0.2 in /usr/local/lib/python3.7/dist-packages (from requests>=2.2.1->gspread>=3.1.0->tsfel) (3.0.4)\n",
            "Requirement already satisfied: certifi>=2017.4.17 in /usr/local/lib/python3.7/dist-packages (from requests>=2.2.1->gspread>=3.1.0->tsfel) (2022.9.24)\n",
            "Requirement already satisfied: imagesize in /usr/local/lib/python3.7/dist-packages (from Sphinx>=1.8.5->tsfel) (1.4.1)\n",
            "Requirement already satisfied: snowballstemmer>=1.1 in /usr/local/lib/python3.7/dist-packages (from Sphinx>=1.8.5->tsfel) (2.2.0)\n",
            "Requirement already satisfied: Jinja2>=2.3 in /usr/local/lib/python3.7/dist-packages (from Sphinx>=1.8.5->tsfel) (2.11.3)\n",
            "Requirement already satisfied: packaging in /usr/local/lib/python3.7/dist-packages (from Sphinx>=1.8.5->tsfel) (21.3)\n",
            "Requirement already satisfied: sphinxcontrib-websupport in /usr/local/lib/python3.7/dist-packages (from Sphinx>=1.8.5->tsfel) (1.2.4)\n",
            "Requirement already satisfied: alabaster<0.8,>=0.7 in /usr/local/lib/python3.7/dist-packages (from Sphinx>=1.8.5->tsfel) (0.7.12)\n",
            "Requirement already satisfied: babel!=2.0,>=1.3 in /usr/local/lib/python3.7/dist-packages (from Sphinx>=1.8.5->tsfel) (2.10.3)\n",
            "Requirement already satisfied: docutils<0.18,>=0.11 in /usr/local/lib/python3.7/dist-packages (from Sphinx>=1.8.5->tsfel) (0.17.1)\n",
            "Requirement already satisfied: MarkupSafe>=0.23 in /usr/local/lib/python3.7/dist-packages (from Jinja2>=2.3->Sphinx>=1.8.5->tsfel) (2.0.1)\n",
            "Requirement already satisfied: cachetools<5.0,>=2.0.0 in /usr/local/lib/python3.7/dist-packages (from google-auth->gspread>=3.1.0->tsfel) (4.2.4)\n",
            "Requirement already satisfied: pyparsing!=3.0.5,>=2.0.2 in /usr/local/lib/python3.7/dist-packages (from packaging->Sphinx>=1.8.5->tsfel) (3.0.9)\n",
            "Requirement already satisfied: ptyprocess>=0.5 in /usr/local/lib/python3.7/dist-packages (from pexpect->ipython>=7.4.0->tsfel) (0.7.0)\n",
            "Requirement already satisfied: sphinxcontrib-serializinghtml in /usr/local/lib/python3.7/dist-packages (from sphinxcontrib-websupport->Sphinx>=1.8.5->tsfel) (1.1.5)\n",
            "Installing collected packages: jedi, tsfel\n",
            "Successfully installed jedi-0.18.1 tsfel-0.1.4\n"
          ]
        }
      ],
      "source": [
        "!pip install tsfel"
      ]
    },
    {
      "cell_type": "code",
      "execution_count": 9,
      "metadata": {
        "id": "AHFSKX2-vU8p"
      },
      "outputs": [],
      "source": [
        "import tsfel"
      ]
    },
    {
      "cell_type": "markdown",
      "metadata": {
        "id": "B7lSiFnv81-B"
      },
      "source": [
        "In order to extract the features, tsfel requires a configuration file, which is essentially a JSON file (similar to python dictionary). This file contains all the features that are to be computed. If only some features need to be computed, the same can be achieved by editing this JSON file in a code editor.\n",
        "\n",
        "Here, we are computing **all the possible features** that are available in TSFEL. Since we are computing all features, feature extraction takes time to complete. For us, it took **12 minutes** to complete on Google Colab."
      ]
    },
    {
      "cell_type": "code",
      "execution_count": 10,
      "metadata": {
        "id": "y3b68vJMvwdM"
      },
      "outputs": [],
      "source": [
        "cfg_file = tsfel.get_features_by_domain()"
      ]
    },
    {
      "cell_type": "markdown",
      "metadata": {
        "id": "Ezh2PD6U81-C"
      },
      "source": [
        "The features will be computed on the four accelerometer sensor columns with a sampling of 30 Hz and window_size of 20."
      ]
    },
    {
      "cell_type": "code",
      "execution_count": 11,
      "metadata": {
        "colab": {
          "base_uri": "https://localhost:8080/",
          "height": 122
        },
        "id": "O7NYTCh8v-Nn",
        "outputId": "32dd197d-a1e7-4c00-937e-305211780974"
      },
      "outputs": [
        {
          "output_type": "stream",
          "name": "stdout",
          "text": [
            "*** Feature extraction started ***\n"
          ]
        },
        {
          "output_type": "display_data",
          "data": {
            "text/plain": [
              "<IPython.core.display.HTML object>"
            ],
            "text/html": [
              "\n",
              "              <p>\n",
              "                  Progress: 100% Complete\n",
              "              <p/>            \n",
              "              <progress\n",
              "                  value='5542'\n",
              "                  max='5542',\n",
              "                  style='width: 25%',\n",
              "              >\n",
              "                  5542\n",
              "              </progress>\n",
              "\n",
              "    "
            ]
          },
          "metadata": {}
        },
        {
          "output_type": "stream",
          "name": "stdout",
          "text": [
            "\n",
            "*** Feature extraction finished ***\n"
          ]
        }
      ],
      "source": [
        "main_df_healthy = tsfel.time_series_features_extractor(cfg_file, healthy_df[[\"a1\", \"a2\", \"a3\", \"a4\"]], fs=30, window_size=20)"
      ]
    },
    {
      "cell_type": "code",
      "execution_count": 12,
      "metadata": {
        "id": "fkgyDP7YwXgu"
      },
      "outputs": [],
      "source": [
        "# Add label (0) at end of df.\n",
        "main_df_healthy[\"failure_label\"] = np.zeros((main_df_healthy.shape[0], 1))"
      ]
    },
    {
      "cell_type": "code",
      "execution_count": 13,
      "metadata": {
        "colab": {
          "base_uri": "https://localhost:8080/"
        },
        "id": "DbY4n5SVFk9G",
        "outputId": "c3513f23-b473-4548-be47-9f9a62fc67dd"
      },
      "outputs": [
        {
          "output_type": "execute_result",
          "data": {
            "text/plain": [
              "(5542, 581)"
            ]
          },
          "metadata": {},
          "execution_count": 13
        }
      ],
      "source": [
        "main_df_healthy.shape"
      ]
    },
    {
      "cell_type": "code",
      "execution_count": 14,
      "metadata": {
        "colab": {
          "base_uri": "https://localhost:8080/",
          "height": 122
        },
        "id": "6iO8ZQNtz8Hn",
        "outputId": "93a0639b-1445-44ae-ed55-bcfbca81cf97"
      },
      "outputs": [
        {
          "output_type": "stream",
          "name": "stdout",
          "text": [
            "*** Feature extraction started ***\n"
          ]
        },
        {
          "output_type": "display_data",
          "data": {
            "text/plain": [
              "<IPython.core.display.HTML object>"
            ],
            "text/html": [
              "\n",
              "              <p>\n",
              "                  Progress: 100% Complete\n",
              "              <p/>            \n",
              "              <progress\n",
              "                  value='4710'\n",
              "                  max='4710',\n",
              "                  style='width: 25%',\n",
              "              >\n",
              "                  4710\n",
              "              </progress>\n",
              "\n",
              "    "
            ]
          },
          "metadata": {}
        },
        {
          "output_type": "stream",
          "name": "stdout",
          "text": [
            "\n",
            "*** Feature extraction finished ***\n"
          ]
        }
      ],
      "source": [
        "# Repeat same with failure dataset.\n",
        "main_df_broken = tsfel.time_series_features_extractor(cfg_file, broken_df[[\"a1\", \"a2\", \"a3\", \"a4\"]], fs=30, window_size=20)"
      ]
    },
    {
      "cell_type": "code",
      "execution_count": 15,
      "metadata": {
        "id": "ImUkzQTi71Pi"
      },
      "outputs": [],
      "source": [
        "# Add label (1) to end of df.\n",
        "main_df_broken[\"failure_label\"] = np.ones((main_df_broken.shape[0], 1))"
      ]
    },
    {
      "cell_type": "code",
      "execution_count": 16,
      "metadata": {
        "colab": {
          "base_uri": "https://localhost:8080/"
        },
        "id": "x6ftI3asIFiq",
        "outputId": "e5af2799-3e37-4bae-d62a-d3c8363375b0"
      },
      "outputs": [
        {
          "output_type": "execute_result",
          "data": {
            "text/plain": [
              "(4710, 581)"
            ]
          },
          "metadata": {},
          "execution_count": 16
        }
      ],
      "source": [
        "main_df_broken.shape"
      ]
    },
    {
      "cell_type": "code",
      "execution_count": 17,
      "metadata": {
        "id": "GOEenSRf8KE_"
      },
      "outputs": [],
      "source": [
        "# Combine both time sampled dfs into single df.\n",
        "final_df = pd.concat([main_df_healthy, main_df_broken], axis=0, ignore_index=True)\n",
        "final_df.to_csv(\"final_df.csv\", index=False)"
      ]
    },
    {
      "cell_type": "markdown",
      "metadata": {
        "id": "zwdypPP18cnn"
      },
      "source": [
        "## Selecting the best features\n",
        "Not all the features extracted using TSFEL will have significant effect on predicting failure of gear tooth. So, only those features are selected which are helpful in predicting the failure.\n",
        "\n"
      ]
    },
    {
      "cell_type": "code",
      "execution_count": 18,
      "metadata": {
        "id": "38h5YK1C8ssm"
      },
      "outputs": [],
      "source": [
        "X = final_df.drop(\"failure_label\", axis=1)\n",
        "y = final_df.failure_label"
      ]
    },
    {
      "cell_type": "code",
      "execution_count": 19,
      "metadata": {
        "colab": {
          "base_uri": "https://localhost:8080/"
        },
        "id": "gNt8otiH-a8a",
        "outputId": "c9679a01-c201-41ee-8348-5b04f1fd9417"
      },
      "outputs": [
        {
          "output_type": "stream",
          "name": "stdout",
          "text": [
            "Shape of x1: (10252, 399)\n"
          ]
        }
      ],
      "source": [
        "# Extract the best features from the entire feature set.\n",
        "x1 = X\n",
        "y = final_df.failure_label\n",
        "df_correlated_features = tsfel.correlated_features(x1)\n",
        "x1.drop(df_correlated_features, axis=1, inplace=True)\n",
        "print(\"Shape of x1:\", x1.shape)"
      ]
    },
    {
      "cell_type": "markdown",
      "metadata": {
        "id": "OT3UzAyG81-H"
      },
      "source": [
        "Using **Recursive Feature Elimination with Cross Validation (RFECV)** model from scikit-learn library to eliminate features."
      ]
    },
    {
      "cell_type": "code",
      "execution_count": 20,
      "metadata": {
        "id": "s-d7D7tiBrNU"
      },
      "outputs": [],
      "source": [
        "rfecv = RFECV(estimator=SVC(kernel=\"linear\"), step=1, cv=StratifiedKFold(4),\n",
        "              scoring=\"accuracy\")"
      ]
    },
    {
      "cell_type": "code",
      "execution_count": 21,
      "metadata": {
        "id": "Yx_825T4CaAv"
      },
      "outputs": [],
      "source": [
        "rfetrain = rfecv.fit(x1, y)"
      ]
    },
    {
      "cell_type": "code",
      "execution_count": 22,
      "metadata": {
        "colab": {
          "base_uri": "https://localhost:8080/"
        },
        "id": "HQUnm0vdCe2r",
        "outputId": "26fcd36a-419f-4b2e-9ecf-51454abca2da"
      },
      "outputs": [
        {
          "output_type": "stream",
          "name": "stdout",
          "text": [
            "Number of optimal features: 68\n"
          ]
        }
      ],
      "source": [
        "print(\"Number of optimal features:\", rfecv.n_features_)"
      ]
    },
    {
      "cell_type": "markdown",
      "metadata": {
        "id": "tz02f1D_81-J"
      },
      "source": [
        "After getting the best features, the remaining features are eliminated from the dataset. "
      ]
    },
    {
      "cell_type": "code",
      "execution_count": 23,
      "metadata": {
        "id": "qsI8BbT9DVDq"
      },
      "outputs": [],
      "source": [
        "# Exporting the optimal features set as a csv file for later use.\n",
        "selected_features = x1.iloc[:, rfecv.support_]\n",
        "selected_features.to_csv(\"optimal_final_df.csv\", index=False)"
      ]
    },
    {
      "cell_type": "code",
      "execution_count": 24,
      "metadata": {
        "colab": {
          "base_uri": "https://localhost:8080/",
          "height": 463
        },
        "id": "DQhN_WqNDsQo",
        "outputId": "a6739de2-8469-4823-f65a-d548987bd57d"
      },
      "outputs": [
        {
          "output_type": "stream",
          "name": "stderr",
          "text": [
            "/usr/local/lib/python3.7/dist-packages/sklearn/utils/deprecation.py:103: FutureWarning: The `grid_scores_` attribute is deprecated in version 1.0 in favor of `cv_results_` and will be removed in version 1.2.\n",
            "  warnings.warn(msg, category=FutureWarning)\n"
          ]
        },
        {
          "output_type": "display_data",
          "data": {
            "text/plain": [
              "<Figure size 504x504 with 1 Axes>"
            ],
            "image/png": "[encoded data removed]"
          },
          "metadata": {
            "needs_background": "light"
          }
        }
      ],
      "source": [
        "# Plot for RFECV\n",
        "fig, axes = plt.subplots()\n",
        "fig.set_figwidth(7)\n",
        "fig.set_figheight(7)\n",
        "\n",
        "axes.plot(range(1, len(rfecv.grid_scores_) + 1), rfecv.grid_scores_, \n",
        "          color=\"green\", linewidth=3)\n",
        "plt.show()"
      ]
    },
    {
      "cell_type": "markdown",
      "metadata": {
        "id": "7Eaim9xv81-K"
      },
      "source": [
        "## Build classification model"
      ]
    },
    {
      "cell_type": "code",
      "execution_count": 25,
      "metadata": {
        "id": "ao9SZfctEip4"
      },
      "outputs": [],
      "source": [
        "# Load the dataset.\n",
        "optimal_df_url = \"https://raw.githubusercontent.com/CS-Chinmay10/DMMS_Gearbox-fault-diagnosis-dataset/main/optimal_final_df.csv\""
      ]
    },
    {
      "cell_type": "code",
      "execution_count": 26,
      "metadata": {
        "id": "TZBkLvhtRuTG"
      },
      "outputs": [],
      "source": [
        "optimal_df = pd.read_csv(optimal_df_url, header=0)  # Contains only features\n",
        "optimal_df.reset_index(inplace=True, drop=True)"
      ]
    },
    {
      "cell_type": "code",
      "execution_count": 27,
      "metadata": {
        "id": "aNXBnxyBSB5U"
      },
      "outputs": [],
      "source": [
        "y = final_df.failure_label  # Label: 0 - Healthy, 1 - BrokenTooth"
      ]
    },
    {
      "cell_type": "code",
      "execution_count": 28,
      "metadata": {
        "id": "JI4QmWlIWDww"
      },
      "outputs": [],
      "source": [
        "X_train_optimal, X_test_optimal, y_train, y_test = train_test_split(\n",
        "    optimal_df, y, test_size=0.3, random_state=100\n",
        ")"
      ]
    },
    {
      "cell_type": "code",
      "execution_count": 29,
      "metadata": {
        "id": "PP-LtTx3XVMY"
      },
      "outputs": [],
      "source": [
        "# Apply feature scaling\n",
        "scaler1 = StandardScaler()"
      ]
    },
    {
      "cell_type": "code",
      "execution_count": 30,
      "metadata": {
        "colab": {
          "base_uri": "https://localhost:8080/"
        },
        "id": "dCOAEJhrXweA",
        "outputId": "b658047a-5f64-46ff-c784-a52edc3bdfe8"
      },
      "outputs": [
        {
          "output_type": "execute_result",
          "data": {
            "text/plain": [
              "StandardScaler()"
            ]
          },
          "metadata": {},
          "execution_count": 30
        }
      ],
      "source": [
        "scaler1.fit(X_train_optimal)"
      ]
    },
    {
      "cell_type": "code",
      "execution_count": 31,
      "metadata": {
        "id": "c1bAGayXX0HR"
      },
      "outputs": [],
      "source": [
        "scaled_X_train_optimal = pd.DataFrame(scaler1.transform(X_train_optimal), columns=X_train_optimal.columns)"
      ]
    },
    {
      "cell_type": "code",
      "execution_count": 32,
      "metadata": {
        "id": "oXBZX6qgYAsI"
      },
      "outputs": [],
      "source": [
        "scaled_X_test_optimal = pd.DataFrame(scaler1.transform(X_test_optimal), columns=X_test_optimal.columns)"
      ]
    },
    {
      "cell_type": "code",
      "execution_count": 33,
      "metadata": {
        "colab": {
          "base_uri": "https://localhost:8080/",
          "height": 334
        },
        "id": "v8AjSLM-YNAo",
        "outputId": "c16de289-ae8e-4bed-f583-da9ac3159622"
      },
      "outputs": [
        {
          "output_type": "execute_result",
          "data": {
            "text/plain": [
              "   0_FFT mean coefficient_1  0_FFT mean coefficient_2  \\\n",
              "0                  1.937855                  0.775222   \n",
              "1                  2.463975                  0.046537   \n",
              "2                 -0.601632                 -0.674382   \n",
              "3                  7.173622                  7.435461   \n",
              "4                 -0.634001                  0.570619   \n",
              "\n",
              "   0_FFT mean coefficient_3  0_FFT mean coefficient_4  \\\n",
              "0                 -0.207503                 -0.021783   \n",
              "1                 -0.452737                 -0.496094   \n",
              "2                 -0.535537                 -0.465822   \n",
              "3                 -0.313966                 -0.395136   \n",
              "4                 -0.556254                 -0.515678   \n",
              "\n",
              "   0_FFT mean coefficient_5  0_Histogram_2  0_Histogram_5  0_Histogram_8  \\\n",
              "0                 -0.354873      -0.547282      -0.550943      -0.534645   \n",
              "1                 -0.505065      -0.547282      -0.550943      -0.534645   \n",
              "2                 -0.126242       2.903769      -0.550943       3.035955   \n",
              "3                 -0.503304      -0.547282      -0.550943      -0.534645   \n",
              "4                 -0.502625      -0.547282      -0.550943      -0.534645   \n",
              "\n",
              "   0_LPCC_6  0_Mean absolute diff  ...  3_Histogram_7  3_LPCC_0  3_LPCC_1  \\\n",
              "0 -1.221192              0.878755  ...      -0.623177 -1.164132 -1.655143   \n",
              "1 -0.180890             -0.798341  ...      -0.623177 -0.019909  1.943159   \n",
              "2  0.162368             -0.776520  ...       0.875455 -0.311002  1.232178   \n",
              "3 -0.951640              0.055176  ...      -0.623177 -0.721595  0.448687   \n",
              "4  0.011483             -0.481187  ...      -0.623177 -0.401030 -0.728905   \n",
              "\n",
              "   3_Mean absolute diff  3_Median absolute diff  3_Spectral kurtosis  \\\n",
              "0              2.478377                3.213810            -0.915064   \n",
              "1             -0.250521                0.054151             3.071223   \n",
              "2             -1.503545               -1.359160             1.053828   \n",
              "3              1.094166                1.006079             0.812997   \n",
              "4             -0.728026               -0.824544            -1.299975   \n",
              "\n",
              "   3_Spectral skewness  3_Wavelet energy_2  3_Wavelet energy_3  \\\n",
              "0            -2.187701            1.366079            1.971370   \n",
              "1             2.715172            1.700520            1.340225   \n",
              "2             2.088573           -0.627637           -0.297449   \n",
              "3             0.470869            0.986943            1.298572   \n",
              "4            -1.161763           -1.156642           -1.045322   \n",
              "\n",
              "   3_Zero crossing rate  \n",
              "0              1.716527  \n",
              "1             -0.881726  \n",
              "2              0.677226  \n",
              "3             -0.362075  \n",
              "4              1.196876  \n",
              "\n",
              "[5 rows x 68 columns]"
            ],
            "text/html": [
              "\n",
              "  <div id=\"df-5d153388-7ab5-4705-8dc1-35f346c86ff5\">\n",
              "    <div class=\"colab-df-container\">\n",
              "      <div>\n",
              "<style scoped>\n",
              "    .dataframe tbody tr th:only-of-type {\n",
              "        vertical-align: middle;\n",
              "    }\n",
              "\n",
              "    .dataframe tbody tr th {\n",
              "        vertical-align: top;\n",
              "    }\n",
              "\n",
              "    .dataframe thead th {\n",
              "        text-align: right;\n",
              "    }\n",
              "</style>\n",
              "<table border=\"1\" class=\"dataframe\">\n",
              "  <thead>\n",
              "    <tr style=\"text-align: right;\">\n",
              "      <th></th>\n",
              "      <th>0_FFT mean coefficient_1</th>\n",
              "      <th>0_FFT mean coefficient_2</th>\n",
              "      <th>0_FFT mean coefficient_3</th>\n",
              "      <th>0_FFT mean coefficient_4</th>\n",
              "      <th>0_FFT mean coefficient_5</th>\n",
              "      <th>0_Histogram_2</th>\n",
              "      <th>0_Histogram_5</th>\n",
              "      <th>0_Histogram_8</th>\n",
              "      <th>0_LPCC_6</th>\n",
              "      <th>0_Mean absolute diff</th>\n",
              "      <th>...</th>\n",
              "      <th>3_Histogram_7</th>\n",
              "      <th>3_LPCC_0</th>\n",
              "      <th>3_LPCC_1</th>\n",
              "      <th>3_Mean absolute diff</th>\n",
              "      <th>3_Median absolute diff</th>\n",
              "      <th>3_Spectral kurtosis</th>\n",
              "      <th>3_Spectral skewness</th>\n",
              "      <th>3_Wavelet energy_2</th>\n",
              "      <th>3_Wavelet energy_3</th>\n",
              "      <th>3_Zero crossing rate</th>\n",
              "    </tr>\n",
              "  </thead>\n",
              "  <tbody>\n",
              "    <tr>\n",
              "      <th>0</th>\n",
              "      <td>1.937855</td>\n",
              "      <td>0.775222</td>\n",
              "      <td>-0.207503</td>\n",
              "      <td>-0.021783</td>\n",
              "      <td>-0.354873</td>\n",
              "      <td>-0.547282</td>\n",
              "      <td>-0.550943</td>\n",
              "      <td>-0.534645</td>\n",
              "      <td>-1.221192</td>\n",
              "      <td>0.878755</td>\n",
              "      <td>...</td>\n",
              "      <td>-0.623177</td>\n",
              "      <td>-1.164132</td>\n",
              "      <td>-1.655143</td>\n",
              "      <td>2.478377</td>\n",
              "      <td>3.213810</td>\n",
              "      <td>-0.915064</td>\n",
              "      <td>-2.187701</td>\n",
              "      <td>1.366079</td>\n",
              "      <td>1.971370</td>\n",
              "      <td>1.716527</td>\n",
              "    </tr>\n",
              "    <tr>\n",
              "      <th>1</th>\n",
              "      <td>2.463975</td>\n",
              "      <td>0.046537</td>\n",
              "      <td>-0.452737</td>\n",
              "      <td>-0.496094</td>\n",
              "      <td>-0.505065</td>\n",
              "      <td>-0.547282</td>\n",
              "      <td>-0.550943</td>\n",
              "      <td>-0.534645</td>\n",
              "      <td>-0.180890</td>\n",
              "      <td>-0.798341</td>\n",
              "      <td>...</td>\n",
              "      <td>-0.623177</td>\n",
              "      <td>-0.019909</td>\n",
              "      <td>1.943159</td>\n",
              "      <td>-0.250521</td>\n",
              "      <td>0.054151</td>\n",
              "      <td>3.071223</td>\n",
              "      <td>2.715172</td>\n",
              "      <td>1.700520</td>\n",
              "      <td>1.340225</td>\n",
              "      <td>-0.881726</td>\n",
              "    </tr>\n",
              "    <tr>\n",
              "      <th>2</th>\n",
              "      <td>-0.601632</td>\n",
              "      <td>-0.674382</td>\n",
              "      <td>-0.535537</td>\n",
              "      <td>-0.465822</td>\n",
              "      <td>-0.126242</td>\n",
              "      <td>2.903769</td>\n",
              "      <td>-0.550943</td>\n",
              "      <td>3.035955</td>\n",
              "      <td>0.162368</td>\n",
              "      <td>-0.776520</td>\n",
              "      <td>...</td>\n",
              "      <td>0.875455</td>\n",
              "      <td>-0.311002</td>\n",
              "      <td>1.232178</td>\n",
              "      <td>-1.503545</td>\n",
              "      <td>-1.359160</td>\n",
              "      <td>1.053828</td>\n",
              "      <td>2.088573</td>\n",
              "      <td>-0.627637</td>\n",
              "      <td>-0.297449</td>\n",
              "      <td>0.677226</td>\n",
              "    </tr>\n",
              "    <tr>\n",
              "      <th>3</th>\n",
              "      <td>7.173622</td>\n",
              "      <td>7.435461</td>\n",
              "      <td>-0.313966</td>\n",
              "      <td>-0.395136</td>\n",
              "      <td>-0.503304</td>\n",
              "      <td>-0.547282</td>\n",
              "      <td>-0.550943</td>\n",
              "      <td>-0.534645</td>\n",
              "      <td>-0.951640</td>\n",
              "      <td>0.055176</td>\n",
              "      <td>...</td>\n",
              "      <td>-0.623177</td>\n",
              "      <td>-0.721595</td>\n",
              "      <td>0.448687</td>\n",
              "      <td>1.094166</td>\n",
              "      <td>1.006079</td>\n",
              "      <td>0.812997</td>\n",
              "      <td>0.470869</td>\n",
              "      <td>0.986943</td>\n",
              "      <td>1.298572</td>\n",
              "      <td>-0.362075</td>\n",
              "    </tr>\n",
              "    <tr>\n",
              "      <th>4</th>\n",
              "      <td>-0.634001</td>\n",
              "      <td>0.570619</td>\n",
              "      <td>-0.556254</td>\n",
              "      <td>-0.515678</td>\n",
              "      <td>-0.502625</td>\n",
              "      <td>-0.547282</td>\n",
              "      <td>-0.550943</td>\n",
              "      <td>-0.534645</td>\n",
              "      <td>0.011483</td>\n",
              "      <td>-0.481187</td>\n",
              "      <td>...</td>\n",
              "      <td>-0.623177</td>\n",
              "      <td>-0.401030</td>\n",
              "      <td>-0.728905</td>\n",
              "      <td>-0.728026</td>\n",
              "      <td>-0.824544</td>\n",
              "      <td>-1.299975</td>\n",
              "      <td>-1.161763</td>\n",
              "      <td>-1.156642</td>\n",
              "      <td>-1.045322</td>\n",
              "      <td>1.196876</td>\n",
              "    </tr>\n",
              "  </tbody>\n",
              "</table>\n",
              "<p>5 rows × 68 columns</p>\n",
              "</div>\n",
              "      <button class=\"colab-df-convert\" onclick=\"convertToInteractive('df-5d153388-7ab5-4705-8dc1-35f346c86ff5')\"\n",
              "              title=\"Convert this dataframe to an interactive table.\"\n",
              "              style=\"display:none;\">\n",
              "        \n",
              "  <svg xmlns=\"http://www.w3.org/2000/svg\" height=\"24px\"viewBox=\"0 0 24 24\"\n",
              "       width=\"24px\">\n",
              "    <path d=\"M0 0h24v24H0V0z\" fill=\"none\"/>\n",
              "    <path d=\"M18.56 5.44l.94 2.06.94-2.06 2.06-.94-2.06-.94-.94-2.06-.94 2.06-2.06.94zm-11 1L8.5 8.5l.94-2.06 2.06-.94-2.06-.94L8.5 2.5l-.94 2.06-2.06.94zm10 10l.94 2.06.94-2.06 2.06-.94-2.06-.94-.94-2.06-.94 2.06-2.06.94z\"/><path d=\"M17.41 7.96l-1.37-1.37c-.4-.4-.92-.59-1.43-.59-.52 0-1.04.2-1.43.59L10.3 9.45l-7.72 7.72c-.78.78-.78 2.05 0 2.83L4 21.41c.39.39.9.59 1.41.59.51 0 1.02-.2 1.41-.59l7.78-7.78 2.81-2.81c.8-.78.8-2.07 0-2.86zM5.41 20L4 18.59l7.72-7.72 1.47 1.35L5.41 20z\"/>\n",
              "  </svg>\n",
              "      </button>\n",
              "      \n",
              "  <style>\n",
              "    .colab-df-container {\n",
              "      display:flex;\n",
              "      flex-wrap:wrap;\n",
              "      gap: 12px;\n",
              "    }\n",
              "\n",
              "    .colab-df-convert {\n",
              "      background-color: #E8F0FE;\n",
              "      border: none;\n",
              "      border-radius: 50%;\n",
              "      cursor: pointer;\n",
              "      display: none;\n",
              "      fill: #1967D2;\n",
              "      height: 32px;\n",
              "      padding: 0 0 0 0;\n",
              "      width: 32px;\n",
              "    }\n",
              "\n",
              "    .colab-df-convert:hover {\n",
              "      background-color: #E2EBFA;\n",
              "      box-shadow: 0px 1px 2px rgba(60, 64, 67, 0.3), 0px 1px 3px 1px rgba(60, 64, 67, 0.15);\n",
              "      fill: #174EA6;\n",
              "    }\n",
              "\n",
              "    [theme=dark] .colab-df-convert {\n",
              "      background-color: #3B4455;\n",
              "      fill: #D2E3FC;\n",
              "    }\n",
              "\n",
              "    [theme=dark] .colab-df-convert:hover {\n",
              "      background-color: #434B5C;\n",
              "      box-shadow: 0px 1px 3px 1px rgba(0, 0, 0, 0.15);\n",
              "      filter: drop-shadow(0px 1px 2px rgba(0, 0, 0, 0.3));\n",
              "      fill: #FFFFFF;\n",
              "    }\n",
              "  </style>\n",
              "\n",
              "      <script>\n",
              "        const buttonEl =\n",
              "          document.querySelector('#df-5d153388-7ab5-4705-8dc1-35f346c86ff5 button.colab-df-convert');\n",
              "        buttonEl.style.display =\n",
              "          google.colab.kernel.accessAllowed ? 'block' : 'none';\n",
              "\n",
              "        async function convertToInteractive(key) {\n",
              "          const element = document.querySelector('#df-5d153388-7ab5-4705-8dc1-35f346c86ff5');\n",
              "          const dataTable =\n",
              "            await google.colab.kernel.invokeFunction('convertToInteractive',\n",
              "                                                     [key], {});\n",
              "          if (!dataTable) return;\n",
              "\n",
              "          const docLinkHtml = 'Like what you see? Visit the ' +\n",
              "            '<a target=\"_blank\" href=https://colab.research.google.com/notebooks/data_table.ipynb>data table notebook</a>'\n",
              "            + ' to learn more about interactive tables.';\n",
              "          element.innerHTML = '';\n",
              "          dataTable['output_type'] = 'display_data';\n",
              "          await google.colab.output.renderOutput(dataTable, element);\n",
              "          const docLink = document.createElement('div');\n",
              "          docLink.innerHTML = docLinkHtml;\n",
              "          element.appendChild(docLink);\n",
              "        }\n",
              "      </script>\n",
              "    </div>\n",
              "  </div>\n",
              "  "
            ]
          },
          "metadata": {},
          "execution_count": 33
        }
      ],
      "source": [
        "scaled_X_train_optimal.head()"
      ]
    },
    {
      "cell_type": "code",
      "execution_count": 34,
      "metadata": {
        "colab": {
          "base_uri": "https://localhost:8080/",
          "height": 334
        },
        "id": "jF2Nca7pYSGf",
        "outputId": "9a6633e5-977f-4238-ee73-141b967c1fa0"
      },
      "outputs": [
        {
          "output_type": "execute_result",
          "data": {
            "text/plain": [
              "   0_FFT mean coefficient_1  0_FFT mean coefficient_2  \\\n",
              "0                 -0.615865                 -0.564857   \n",
              "1                 -0.694057                 -0.541895   \n",
              "2                 -0.675247                  0.469088   \n",
              "3                  0.304504                 -0.401686   \n",
              "4                 -0.297214                 -0.415561   \n",
              "\n",
              "   0_FFT mean coefficient_3  0_FFT mean coefficient_4  \\\n",
              "0                  0.518000                 -0.485667   \n",
              "1                 -0.369317                 -0.496068   \n",
              "2                  1.679617                 -0.246453   \n",
              "3                 -0.559494                  0.414535   \n",
              "4                  1.150910                 -0.421528   \n",
              "\n",
              "   0_FFT mean coefficient_5  0_Histogram_2  0_Histogram_5  0_Histogram_8  \\\n",
              "0                 -0.397379      -0.547282      -0.550943      -0.534645   \n",
              "1                  0.063937      -0.547282      -0.550943      -0.534645   \n",
              "2                 -0.430847      -0.547282      -0.550943      -0.534645   \n",
              "3                  0.318229      -0.547282       1.156124      -0.534645   \n",
              "4                 -0.405975       1.178244      -0.550943      -0.534645   \n",
              "\n",
              "   0_LPCC_6  0_Mean absolute diff  ...  3_Histogram_7  3_LPCC_0  3_LPCC_1  \\\n",
              "0  0.707769             -0.824965  ...      -0.623177 -0.374995  0.638113   \n",
              "1 -0.069631             -0.430262  ...      -0.623177 -1.213049  0.694857   \n",
              "2  1.880417              1.786035  ...      -0.623177  1.562603 -0.884865   \n",
              "3  0.315604              1.086893  ...      -0.623177 -0.558536  1.239462   \n",
              "4  1.951621             -0.451138  ...       2.374086 -0.637068 -0.702485   \n",
              "\n",
              "   3_Mean absolute diff  3_Median absolute diff  3_Spectral kurtosis  \\\n",
              "0             -0.902547               -1.079842            -0.731382   \n",
              "1             -0.855896               -0.919459             0.140002   \n",
              "2              0.989423                0.940755            -0.511964   \n",
              "3             -0.936759               -0.801150             2.679604   \n",
              "4             -0.228921               -0.425670             0.139364   \n",
              "\n",
              "   3_Spectral skewness  3_Wavelet energy_2  3_Wavelet energy_3  \\\n",
              "0            -0.019261           -0.587512           -0.559209   \n",
              "1             1.093993           -0.190553           -0.332912   \n",
              "2            -0.653537            0.537631            0.790927   \n",
              "3             3.143983            2.601544            3.533628   \n",
              "4             0.290972           -0.559803           -1.058349   \n",
              "\n",
              "   3_Zero crossing rate  \n",
              "0              0.157575  \n",
              "1             -0.881726  \n",
              "2              1.196876  \n",
              "3             -1.401376  \n",
              "4             -0.362075  \n",
              "\n",
              "[5 rows x 68 columns]"
            ],
            "text/html": [
              "\n",
              "  <div id=\"df-d81d1a3b-ad0e-4eda-b115-35311116c582\">\n",
              "    <div class=\"colab-df-container\">\n",
              "      <div>\n",
              "<style scoped>\n",
              "    .dataframe tbody tr th:only-of-type {\n",
              "        vertical-align: middle;\n",
              "    }\n",
              "\n",
              "    .dataframe tbody tr th {\n",
              "        vertical-align: top;\n",
              "    }\n",
              "\n",
              "    .dataframe thead th {\n",
              "        text-align: right;\n",
              "    }\n",
              "</style>\n",
              "<table border=\"1\" class=\"dataframe\">\n",
              "  <thead>\n",
              "    <tr style=\"text-align: right;\">\n",
              "      <th></th>\n",
              "      <th>0_FFT mean coefficient_1</th>\n",
              "      <th>0_FFT mean coefficient_2</th>\n",
              "      <th>0_FFT mean coefficient_3</th>\n",
              "      <th>0_FFT mean coefficient_4</th>\n",
              "      <th>0_FFT mean coefficient_5</th>\n",
              "      <th>0_Histogram_2</th>\n",
              "      <th>0_Histogram_5</th>\n",
              "      <th>0_Histogram_8</th>\n",
              "      <th>0_LPCC_6</th>\n",
              "      <th>0_Mean absolute diff</th>\n",
              "      <th>...</th>\n",
              "      <th>3_Histogram_7</th>\n",
              "      <th>3_LPCC_0</th>\n",
              "      <th>3_LPCC_1</th>\n",
              "      <th>3_Mean absolute diff</th>\n",
              "      <th>3_Median absolute diff</th>\n",
              "      <th>3_Spectral kurtosis</th>\n",
              "      <th>3_Spectral skewness</th>\n",
              "      <th>3_Wavelet energy_2</th>\n",
              "      <th>3_Wavelet energy_3</th>\n",
              "      <th>3_Zero crossing rate</th>\n",
              "    </tr>\n",
              "  </thead>\n",
              "  <tbody>\n",
              "    <tr>\n",
              "      <th>0</th>\n",
              "      <td>-0.615865</td>\n",
              "      <td>-0.564857</td>\n",
              "      <td>0.518000</td>\n",
              "      <td>-0.485667</td>\n",
              "      <td>-0.397379</td>\n",
              "      <td>-0.547282</td>\n",
              "      <td>-0.550943</td>\n",
              "      <td>-0.534645</td>\n",
              "      <td>0.707769</td>\n",
              "      <td>-0.824965</td>\n",
              "      <td>...</td>\n",
              "      <td>-0.623177</td>\n",
              "      <td>-0.374995</td>\n",
              "      <td>0.638113</td>\n",
              "      <td>-0.902547</td>\n",
              "      <td>-1.079842</td>\n",
              "      <td>-0.731382</td>\n",
              "      <td>-0.019261</td>\n",
              "      <td>-0.587512</td>\n",
              "      <td>-0.559209</td>\n",
              "      <td>0.157575</td>\n",
              "    </tr>\n",
              "    <tr>\n",
              "      <th>1</th>\n",
              "      <td>-0.694057</td>\n",
              "      <td>-0.541895</td>\n",
              "      <td>-0.369317</td>\n",
              "      <td>-0.496068</td>\n",
              "      <td>0.063937</td>\n",
              "      <td>-0.547282</td>\n",
              "      <td>-0.550943</td>\n",
              "      <td>-0.534645</td>\n",
              "      <td>-0.069631</td>\n",
              "      <td>-0.430262</td>\n",
              "      <td>...</td>\n",
              "      <td>-0.623177</td>\n",
              "      <td>-1.213049</td>\n",
              "      <td>0.694857</td>\n",
              "      <td>-0.855896</td>\n",
              "      <td>-0.919459</td>\n",
              "      <td>0.140002</td>\n",
              "      <td>1.093993</td>\n",
              "      <td>-0.190553</td>\n",
              "      <td>-0.332912</td>\n",
              "      <td>-0.881726</td>\n",
              "    </tr>\n",
              "    <tr>\n",
              "      <th>2</th>\n",
              "      <td>-0.675247</td>\n",
              "      <td>0.469088</td>\n",
              "      <td>1.679617</td>\n",
              "      <td>-0.246453</td>\n",
              "      <td>-0.430847</td>\n",
              "      <td>-0.547282</td>\n",
              "      <td>-0.550943</td>\n",
              "      <td>-0.534645</td>\n",
              "      <td>1.880417</td>\n",
              "      <td>1.786035</td>\n",
              "      <td>...</td>\n",
              "      <td>-0.623177</td>\n",
              "      <td>1.562603</td>\n",
              "      <td>-0.884865</td>\n",
              "      <td>0.989423</td>\n",
              "      <td>0.940755</td>\n",
              "      <td>-0.511964</td>\n",
              "      <td>-0.653537</td>\n",
              "      <td>0.537631</td>\n",
              "      <td>0.790927</td>\n",
              "      <td>1.196876</td>\n",
              "    </tr>\n",
              "    <tr>\n",
              "      <th>3</th>\n",
              "      <td>0.304504</td>\n",
              "      <td>-0.401686</td>\n",
              "      <td>-0.559494</td>\n",
              "      <td>0.414535</td>\n",
              "      <td>0.318229</td>\n",
              "      <td>-0.547282</td>\n",
              "      <td>1.156124</td>\n",
              "      <td>-0.534645</td>\n",
              "      <td>0.315604</td>\n",
              "      <td>1.086893</td>\n",
              "      <td>...</td>\n",
              "      <td>-0.623177</td>\n",
              "      <td>-0.558536</td>\n",
              "      <td>1.239462</td>\n",
              "      <td>-0.936759</td>\n",
              "      <td>-0.801150</td>\n",
              "      <td>2.679604</td>\n",
              "      <td>3.143983</td>\n",
              "      <td>2.601544</td>\n",
              "      <td>3.533628</td>\n",
              "      <td>-1.401376</td>\n",
              "    </tr>\n",
              "    <tr>\n",
              "      <th>4</th>\n",
              "      <td>-0.297214</td>\n",
              "      <td>-0.415561</td>\n",
              "      <td>1.150910</td>\n",
              "      <td>-0.421528</td>\n",
              "      <td>-0.405975</td>\n",
              "      <td>1.178244</td>\n",
              "      <td>-0.550943</td>\n",
              "      <td>-0.534645</td>\n",
              "      <td>1.951621</td>\n",
              "      <td>-0.451138</td>\n",
              "      <td>...</td>\n",
              "      <td>2.374086</td>\n",
              "      <td>-0.637068</td>\n",
              "      <td>-0.702485</td>\n",
              "      <td>-0.228921</td>\n",
              "      <td>-0.425670</td>\n",
              "      <td>0.139364</td>\n",
              "      <td>0.290972</td>\n",
              "      <td>-0.559803</td>\n",
              "      <td>-1.058349</td>\n",
              "      <td>-0.362075</td>\n",
              "    </tr>\n",
              "  </tbody>\n",
              "</table>\n",
              "<p>5 rows × 68 columns</p>\n",
              "</div>\n",
              "      <button class=\"colab-df-convert\" onclick=\"convertToInteractive('df-d81d1a3b-ad0e-4eda-b115-35311116c582')\"\n",
              "              title=\"Convert this dataframe to an interactive table.\"\n",
              "              style=\"display:none;\">\n",
              "        \n",
              "  <svg xmlns=\"http://www.w3.org/2000/svg\" height=\"24px\"viewBox=\"0 0 24 24\"\n",
              "       width=\"24px\">\n",
              "    <path d=\"M0 0h24v24H0V0z\" fill=\"none\"/>\n",
              "    <path d=\"M18.56 5.44l.94 2.06.94-2.06 2.06-.94-2.06-.94-.94-2.06-.94 2.06-2.06.94zm-11 1L8.5 8.5l.94-2.06 2.06-.94-2.06-.94L8.5 2.5l-.94 2.06-2.06.94zm10 10l.94 2.06.94-2.06 2.06-.94-2.06-.94-.94-2.06-.94 2.06-2.06.94z\"/><path d=\"M17.41 7.96l-1.37-1.37c-.4-.4-.92-.59-1.43-.59-.52 0-1.04.2-1.43.59L10.3 9.45l-7.72 7.72c-.78.78-.78 2.05 0 2.83L4 21.41c.39.39.9.59 1.41.59.51 0 1.02-.2 1.41-.59l7.78-7.78 2.81-2.81c.8-.78.8-2.07 0-2.86zM5.41 20L4 18.59l7.72-7.72 1.47 1.35L5.41 20z\"/>\n",
              "  </svg>\n",
              "      </button>\n",
              "      \n",
              "  <style>\n",
              "    .colab-df-container {\n",
              "      display:flex;\n",
              "      flex-wrap:wrap;\n",
              "      gap: 12px;\n",
              "    }\n",
              "\n",
              "    .colab-df-convert {\n",
              "      background-color: #E8F0FE;\n",
              "      border: none;\n",
              "      border-radius: 50%;\n",
              "      cursor: pointer;\n",
              "      display: none;\n",
              "      fill: #1967D2;\n",
              "      height: 32px;\n",
              "      padding: 0 0 0 0;\n",
              "      width: 32px;\n",
              "    }\n",
              "\n",
              "    .colab-df-convert:hover {\n",
              "      background-color: #E2EBFA;\n",
              "      box-shadow: 0px 1px 2px rgba(60, 64, 67, 0.3), 0px 1px 3px 1px rgba(60, 64, 67, 0.15);\n",
              "      fill: #174EA6;\n",
              "    }\n",
              "\n",
              "    [theme=dark] .colab-df-convert {\n",
              "      background-color: #3B4455;\n",
              "      fill: #D2E3FC;\n",
              "    }\n",
              "\n",
              "    [theme=dark] .colab-df-convert:hover {\n",
              "      background-color: #434B5C;\n",
              "      box-shadow: 0px 1px 3px 1px rgba(0, 0, 0, 0.15);\n",
              "      filter: drop-shadow(0px 1px 2px rgba(0, 0, 0, 0.3));\n",
              "      fill: #FFFFFF;\n",
              "    }\n",
              "  </style>\n",
              "\n",
              "      <script>\n",
              "        const buttonEl =\n",
              "          document.querySelector('#df-d81d1a3b-ad0e-4eda-b115-35311116c582 button.colab-df-convert');\n",
              "        buttonEl.style.display =\n",
              "          google.colab.kernel.accessAllowed ? 'block' : 'none';\n",
              "\n",
              "        async function convertToInteractive(key) {\n",
              "          const element = document.querySelector('#df-d81d1a3b-ad0e-4eda-b115-35311116c582');\n",
              "          const dataTable =\n",
              "            await google.colab.kernel.invokeFunction('convertToInteractive',\n",
              "                                                     [key], {});\n",
              "          if (!dataTable) return;\n",
              "\n",
              "          const docLinkHtml = 'Like what you see? Visit the ' +\n",
              "            '<a target=\"_blank\" href=https://colab.research.google.com/notebooks/data_table.ipynb>data table notebook</a>'\n",
              "            + ' to learn more about interactive tables.';\n",
              "          element.innerHTML = '';\n",
              "          dataTable['output_type'] = 'display_data';\n",
              "          await google.colab.output.renderOutput(dataTable, element);\n",
              "          const docLink = document.createElement('div');\n",
              "          docLink.innerHTML = docLinkHtml;\n",
              "          element.appendChild(docLink);\n",
              "        }\n",
              "      </script>\n",
              "    </div>\n",
              "  </div>\n",
              "  "
            ]
          },
          "metadata": {},
          "execution_count": 34
        }
      ],
      "source": [
        "scaled_X_test_optimal.head()"
      ]
    },
    {
      "cell_type": "markdown",
      "metadata": {
        "id": "3OE2NAZ2ZVUY"
      },
      "source": [
        "We used different classification models so that the model which gives the best performance can be selected."
      ]
    },
    {
      "cell_type": "markdown",
      "metadata": {
        "id": "W6rIxtzt81-N"
      },
      "source": [
        "### Model 1: Support Vector Classifier using linear kernel"
      ]
    },
    {
      "cell_type": "code",
      "execution_count": 35,
      "metadata": {
        "colab": {
          "base_uri": "https://localhost:8080/"
        },
        "id": "Ya3KiZdlZF2-",
        "outputId": "6d74305f-91cd-40fe-9a8c-05990d13467a"
      },
      "outputs": [
        {
          "output_type": "execute_result",
          "data": {
            "text/plain": [
              "SVC(kernel='linear', random_state=100)"
            ]
          },
          "metadata": {},
          "execution_count": 35
        }
      ],
      "source": [
        "lin_clf = SVC(kernel=\"linear\", random_state=100)\n",
        "lin_clf.fit(scaled_X_train_optimal, y_train)"
      ]
    },
    {
      "cell_type": "code",
      "execution_count": 36,
      "metadata": {
        "id": "iateR4sjZ1_F"
      },
      "outputs": [],
      "source": [
        "# Generate predictions for test set.\n",
        "lin_clf_preds = lin_clf.predict(scaled_X_test_optimal)"
      ]
    },
    {
      "cell_type": "code",
      "execution_count": 37,
      "metadata": {
        "colab": {
          "base_uri": "https://localhost:8080/"
        },
        "id": "lywh2tksaOGk",
        "outputId": "5ce5f120-4d44-4dac-ac21-651fed5c9839"
      },
      "outputs": [
        {
          "output_type": "stream",
          "name": "stdout",
          "text": [
            "0.997074122236671\n"
          ]
        }
      ],
      "source": [
        "# Assess the accuracy score obtained on test set.\n",
        "lin_acc_score = accuracy_score(y_test, lin_clf_preds)\n",
        "print(lin_acc_score)"
      ]
    },
    {
      "cell_type": "code",
      "execution_count": 38,
      "metadata": {
        "colab": {
          "base_uri": "https://localhost:8080/"
        },
        "id": "C6lqNSrsmj9H",
        "outputId": "79ae290c-c74a-4d9f-d0cf-5c2c9ba56855"
      },
      "outputs": [
        {
          "output_type": "stream",
          "name": "stdout",
          "text": [
            "0.9944367176634215\n"
          ]
        }
      ],
      "source": [
        "# Precision score\n",
        "lin_prec_score = precision_score(y_test, lin_clf_preds)\n",
        "print(lin_prec_score)"
      ]
    },
    {
      "cell_type": "code",
      "execution_count": 39,
      "metadata": {
        "colab": {
          "base_uri": "https://localhost:8080/"
        },
        "id": "vAwyAbIRaT0b",
        "outputId": "0906d0df-dd9e-44af-b1e1-f36525993693"
      },
      "outputs": [
        {
          "output_type": "stream",
          "name": "stdout",
          "text": [
            "[[1637    8]\n",
            " [   1 1430]]\n"
          ]
        }
      ],
      "source": [
        "# Confusion matrix\n",
        "print(confusion_matrix(y_test, lin_clf_preds))"
      ]
    },
    {
      "cell_type": "code",
      "execution_count": 40,
      "metadata": {
        "colab": {
          "base_uri": "https://localhost:8080/"
        },
        "id": "YJGO-Dpuawmy",
        "outputId": "377330a1-3e21-4860-8204-2979a423e5d5"
      },
      "outputs": [
        {
          "output_type": "stream",
          "name": "stdout",
          "text": [
            "0.9968630184733357\n"
          ]
        }
      ],
      "source": [
        "# f1_score\n",
        "lin_f1_score = f1_score(y_test, lin_clf_preds)\n",
        "print(lin_f1_score)"
      ]
    },
    {
      "cell_type": "code",
      "execution_count": 41,
      "metadata": {
        "colab": {
          "base_uri": "https://localhost:8080/"
        },
        "id": "VdDmHz05a_XR",
        "outputId": "164c8b97-ee65-4dd1-a50a-c97f175fd9d4"
      },
      "outputs": [
        {
          "output_type": "stream",
          "name": "stdout",
          "text": [
            "0.9993011879804332\n"
          ]
        }
      ],
      "source": [
        "# Recall score\n",
        "lin_recall_score = recall_score(y_test, lin_clf_preds)\n",
        "print(lin_recall_score)"
      ]
    },
    {
      "cell_type": "code",
      "execution_count": 42,
      "metadata": {
        "colab": {
          "base_uri": "https://localhost:8080/"
        },
        "id": "QxrPz7vNbEvJ",
        "outputId": "6ed3fabf-c939-44ef-c516-bbf6ac5843d8"
      },
      "outputs": [
        {
          "output_type": "stream",
          "name": "stdout",
          "text": [
            "              precision    recall  f1-score   support\n",
            "\n",
            "         0.0    0.99939   0.99514   0.99726      1645\n",
            "         1.0    0.99444   0.99930   0.99686      1431\n",
            "\n",
            "    accuracy                        0.99707      3076\n",
            "   macro avg    0.99691   0.99722   0.99706      3076\n",
            "weighted avg    0.99709   0.99707   0.99707      3076\n",
            "\n"
          ]
        }
      ],
      "source": [
        "# Classification report\n",
        "print(classification_report(y_test, lin_clf_preds, digits=5))"
      ]
    },
    {
      "cell_type": "markdown",
      "metadata": {
        "id": "DKfJ6_jQ81-P"
      },
      "source": [
        "### Model 2: Support Vector Classifier using RBF kernel"
      ]
    },
    {
      "cell_type": "code",
      "execution_count": 43,
      "metadata": {
        "id": "pjbfy7tKck7Q"
      },
      "outputs": [],
      "source": [
        "rbf_clf = SVC(kernel=\"rbf\", random_state=100)"
      ]
    },
    {
      "cell_type": "code",
      "execution_count": 44,
      "metadata": {
        "colab": {
          "base_uri": "https://localhost:8080/"
        },
        "id": "-Ac2dkXHhEpn",
        "outputId": "ac7c826e-ae6c-456f-b335-0c80a586894f"
      },
      "outputs": [
        {
          "output_type": "execute_result",
          "data": {
            "text/plain": [
              "SVC(random_state=100)"
            ]
          },
          "metadata": {},
          "execution_count": 44
        }
      ],
      "source": [
        "# Training\n",
        "rbf_clf.fit(scaled_X_train_optimal, y_train)"
      ]
    },
    {
      "cell_type": "code",
      "execution_count": 45,
      "metadata": {
        "id": "g1GZt2dOhHYf"
      },
      "outputs": [],
      "source": [
        "# Generate predictions for test set.\n",
        "rbf_clf_preds = rbf_clf.predict(scaled_X_test_optimal)"
      ]
    },
    {
      "cell_type": "code",
      "execution_count": 46,
      "metadata": {
        "colab": {
          "base_uri": "https://localhost:8080/"
        },
        "id": "PZY9ySj0hNf3",
        "outputId": "899c0138-dff9-43ee-dde3-52d4c883fc1b"
      },
      "outputs": [
        {
          "output_type": "stream",
          "name": "stdout",
          "text": [
            "0.9931729518855656\n"
          ]
        }
      ],
      "source": [
        "# Assess the accuracy score obtained on test set.\n",
        "rbf_acc_score = accuracy_score(y_test, rbf_clf_preds)\n",
        "print(rbf_acc_score)"
      ]
    },
    {
      "cell_type": "code",
      "execution_count": 47,
      "metadata": {
        "colab": {
          "base_uri": "https://localhost:8080/"
        },
        "id": "YhGAgZpnnIs-",
        "outputId": "0c22e320-cf66-465e-8a9e-3c0a0804f0c8"
      },
      "outputs": [
        {
          "output_type": "stream",
          "name": "stdout",
          "text": [
            "0.9889042995839112\n"
          ]
        }
      ],
      "source": [
        "# Precision score\n",
        "rbf_prec_score = precision_score(y_test, rbf_clf_preds)\n",
        "print(rbf_prec_score)"
      ]
    },
    {
      "cell_type": "code",
      "execution_count": 48,
      "metadata": {
        "colab": {
          "base_uri": "https://localhost:8080/"
        },
        "id": "FEhcImfThSkm",
        "outputId": "52f1be2a-1ae7-47fc-94a4-0ec4d89bb5c2"
      },
      "outputs": [
        {
          "output_type": "stream",
          "name": "stdout",
          "text": [
            "[[1629   16]\n",
            " [   5 1426]]\n"
          ]
        }
      ],
      "source": [
        "# Confusion matrix\n",
        "print(confusion_matrix(y_test, rbf_clf_preds))"
      ]
    },
    {
      "cell_type": "code",
      "execution_count": 49,
      "metadata": {
        "colab": {
          "base_uri": "https://localhost:8080/"
        },
        "id": "A0qEhgDIhqxu",
        "outputId": "0f99ed49-9a51-4e3f-be86-25a641de8e31"
      },
      "outputs": [
        {
          "output_type": "stream",
          "name": "stdout",
          "text": [
            "0.9926905673512009\n"
          ]
        }
      ],
      "source": [
        "# f1_score\n",
        "rbf_f1_score = f1_score(y_test, rbf_clf_preds)\n",
        "print(rbf_f1_score)"
      ]
    },
    {
      "cell_type": "code",
      "execution_count": 50,
      "metadata": {
        "colab": {
          "base_uri": "https://localhost:8080/"
        },
        "id": "Bs5vQr1HhvYd",
        "outputId": "84365369-9a37-4ba8-ed9c-392bcfd73d19"
      },
      "outputs": [
        {
          "output_type": "stream",
          "name": "stdout",
          "text": [
            "0.9965059399021663\n"
          ]
        }
      ],
      "source": [
        "# Recall score\n",
        "rbf_recall_score = recall_score(y_test, rbf_clf_preds)\n",
        "print(rbf_recall_score)"
      ]
    },
    {
      "cell_type": "code",
      "execution_count": 51,
      "metadata": {
        "colab": {
          "base_uri": "https://localhost:8080/"
        },
        "id": "b1EyQbjkhyXd",
        "outputId": "758c2696-f802-41bd-f2ac-ccf6101a7865"
      },
      "outputs": [
        {
          "output_type": "stream",
          "name": "stdout",
          "text": [
            "              precision    recall  f1-score   support\n",
            "\n",
            "         0.0    0.99694   0.99027   0.99360      1645\n",
            "         1.0    0.98890   0.99651   0.99269      1431\n",
            "\n",
            "    accuracy                        0.99317      3076\n",
            "   macro avg    0.99292   0.99339   0.99314      3076\n",
            "weighted avg    0.99320   0.99317   0.99317      3076\n",
            "\n"
          ]
        }
      ],
      "source": [
        "# Classification report\n",
        "print(classification_report(y_test, rbf_clf_preds, digits=5))"
      ]
    },
    {
      "cell_type": "markdown",
      "metadata": {
        "id": "DKBbGbWw81-V"
      },
      "source": [
        "### Model 3: MLPClassifier (using Neural Network)"
      ]
    },
    {
      "cell_type": "code",
      "execution_count": 52,
      "metadata": {
        "id": "hgHPCx1Oh002"
      },
      "outputs": [],
      "source": [
        "# Model 3: Neural Network Implementation\n",
        "from sklearn.neural_network import MLPClassifier"
      ]
    },
    {
      "cell_type": "code",
      "execution_count": 53,
      "metadata": {
        "id": "b2uy0muhiKet"
      },
      "outputs": [],
      "source": [
        "nn_clf = MLPClassifier(max_iter=1000, random_state=100)"
      ]
    },
    {
      "cell_type": "code",
      "execution_count": 54,
      "metadata": {
        "colab": {
          "base_uri": "https://localhost:8080/"
        },
        "id": "fSuP-LaniRmF",
        "outputId": "9f22d752-129f-43e0-f383-422454394d13"
      },
      "outputs": [
        {
          "output_type": "execute_result",
          "data": {
            "text/plain": [
              "MLPClassifier(max_iter=1000, random_state=100)"
            ]
          },
          "metadata": {},
          "execution_count": 54
        }
      ],
      "source": [
        "nn_clf.fit(scaled_X_train_optimal, y_train)"
      ]
    },
    {
      "cell_type": "code",
      "execution_count": 55,
      "metadata": {
        "id": "WuJaVLqKiVDk"
      },
      "outputs": [],
      "source": [
        "# Generate predictions for test set.\n",
        "nn_clf_preds = nn_clf.predict(scaled_X_test_optimal)"
      ]
    },
    {
      "cell_type": "code",
      "execution_count": 56,
      "metadata": {
        "colab": {
          "base_uri": "https://localhost:8080/"
        },
        "id": "SQYhcdHmiaok",
        "outputId": "c5178398-ab7f-434d-93a2-0e6152d8837a"
      },
      "outputs": [
        {
          "output_type": "stream",
          "name": "stdout",
          "text": [
            "0.9960988296488946\n"
          ]
        }
      ],
      "source": [
        "# Assess the accuracy score obtained on test set.\n",
        "nn_acc_score = accuracy_score(y_test, nn_clf_preds)\n",
        "print(nn_acc_score)"
      ]
    },
    {
      "cell_type": "code",
      "execution_count": 57,
      "metadata": {
        "colab": {
          "base_uri": "https://localhost:8080/"
        },
        "id": "EFfv64EYniiU",
        "outputId": "3e5a1b7b-209d-4a87-ec17-32c06be221aa"
      },
      "outputs": [
        {
          "output_type": "stream",
          "name": "stdout",
          "text": [
            "0.9937369519832986\n"
          ]
        }
      ],
      "source": [
        "# Precision score\n",
        "nn_prec_score = precision_score(y_test, nn_clf_preds)\n",
        "print(nn_prec_score)"
      ]
    },
    {
      "cell_type": "code",
      "execution_count": 58,
      "metadata": {
        "colab": {
          "base_uri": "https://localhost:8080/"
        },
        "id": "CvlIldKFidLc",
        "outputId": "ece501c2-1616-474e-d849-bd3a8b21758d"
      },
      "outputs": [
        {
          "output_type": "stream",
          "name": "stdout",
          "text": [
            "[[1636    9]\n",
            " [   3 1428]]\n"
          ]
        }
      ],
      "source": [
        "# Confusion matrix\n",
        "print(confusion_matrix(y_test, nn_clf_preds))"
      ]
    },
    {
      "cell_type": "code",
      "execution_count": 59,
      "metadata": {
        "colab": {
          "base_uri": "https://localhost:8080/"
        },
        "id": "6AjqC94nigB0",
        "outputId": "eca3a422-edf7-4220-8806-f5d10bcd5496"
      },
      "outputs": [
        {
          "output_type": "stream",
          "name": "stdout",
          "text": [
            "0.9958158995815899\n"
          ]
        }
      ],
      "source": [
        "# f1_score\n",
        "nn_f1_score = f1_score(y_test, nn_clf_preds)\n",
        "print(nn_f1_score)"
      ]
    },
    {
      "cell_type": "code",
      "execution_count": 60,
      "metadata": {
        "colab": {
          "base_uri": "https://localhost:8080/"
        },
        "id": "1L1zvvIDiiS0",
        "outputId": "208c0412-705f-41e1-a18c-1cd6820b63de"
      },
      "outputs": [
        {
          "output_type": "stream",
          "name": "stdout",
          "text": [
            "0.9979035639412998\n"
          ]
        }
      ],
      "source": [
        "# Recall score\n",
        "nn_recall_score = recall_score(y_test, nn_clf_preds)\n",
        "print(nn_recall_score)"
      ]
    },
    {
      "cell_type": "code",
      "execution_count": 61,
      "metadata": {
        "colab": {
          "base_uri": "https://localhost:8080/"
        },
        "id": "LDtUcPHZikl0",
        "outputId": "309c757b-1071-49e8-d7fc-9ceae883c57d"
      },
      "outputs": [
        {
          "output_type": "stream",
          "name": "stdout",
          "text": [
            "              precision    recall  f1-score   support\n",
            "\n",
            "         0.0    0.99817   0.99453   0.99635      1645\n",
            "         1.0    0.99374   0.99790   0.99582      1431\n",
            "\n",
            "    accuracy                        0.99610      3076\n",
            "   macro avg    0.99595   0.99622   0.99608      3076\n",
            "weighted avg    0.99611   0.99610   0.99610      3076\n",
            "\n"
          ]
        }
      ],
      "source": [
        "# Classification report\n",
        "print(classification_report(y_test, nn_clf_preds, digits=5))"
      ]
    },
    {
      "cell_type": "markdown",
      "metadata": {
        "id": "7uWM_j4a81-X"
      },
      "source": [
        "### Model 4: Decision Tree Classifier"
      ]
    },
    {
      "cell_type": "code",
      "execution_count": 62,
      "metadata": {
        "id": "iXfYMw63im5k"
      },
      "outputs": [],
      "source": [
        "# Model 4: Decision Tree Classification\n",
        "from sklearn.tree import DecisionTreeClassifier"
      ]
    },
    {
      "cell_type": "code",
      "execution_count": 63,
      "metadata": {
        "id": "0ZWxCdBYjKYT"
      },
      "outputs": [],
      "source": [
        "dtc_clf = DecisionTreeClassifier(criterion=\"entropy\")"
      ]
    },
    {
      "cell_type": "code",
      "execution_count": 64,
      "metadata": {
        "colab": {
          "base_uri": "https://localhost:8080/"
        },
        "id": "peg4ruaNjPvD",
        "outputId": "76130455-2945-4a64-866b-acf6789a47c6"
      },
      "outputs": [
        {
          "output_type": "execute_result",
          "data": {
            "text/plain": [
              "DecisionTreeClassifier(criterion='entropy')"
            ]
          },
          "metadata": {},
          "execution_count": 64
        }
      ],
      "source": [
        "dtc_clf.fit(scaled_X_train_optimal, y_train)"
      ]
    },
    {
      "cell_type": "code",
      "execution_count": 65,
      "metadata": {
        "id": "WghkeTdxjS5S"
      },
      "outputs": [],
      "source": [
        "# Generate predictions for test set.\n",
        "dtc_clf_preds = dtc_clf.predict(scaled_X_test_optimal)"
      ]
    },
    {
      "cell_type": "code",
      "execution_count": 66,
      "metadata": {
        "colab": {
          "base_uri": "https://localhost:8080/"
        },
        "id": "xzs2jpxyk4WQ",
        "outputId": "fb61395b-0659-49a5-8f8a-9441893b3de3"
      },
      "outputs": [
        {
          "output_type": "stream",
          "name": "stdout",
          "text": [
            "0.9791937581274383\n"
          ]
        }
      ],
      "source": [
        "# Assess the accuracy score obtained on test set.\n",
        "dtc_acc_score = accuracy_score(y_test, dtc_clf_preds)\n",
        "print(dtc_acc_score)"
      ]
    },
    {
      "cell_type": "code",
      "execution_count": 67,
      "metadata": {
        "colab": {
          "base_uri": "https://localhost:8080/"
        },
        "id": "5VDd5xYX6vl4",
        "outputId": "a6ce7e7f-1d52-47fc-fd5f-710530355089"
      },
      "outputs": [
        {
          "output_type": "stream",
          "name": "stdout",
          "text": [
            "0.9769713886950454\n"
          ]
        }
      ],
      "source": [
        "# Precision score\n",
        "dtc_prec_score = precision_score(y_test, dtc_clf_preds)\n",
        "print(dtc_prec_score)"
      ]
    },
    {
      "cell_type": "code",
      "execution_count": 68,
      "metadata": {
        "colab": {
          "base_uri": "https://localhost:8080/"
        },
        "id": "dz02PMqOk7_A",
        "outputId": "f683d133-d22a-4240-a41b-a08594cfd051"
      },
      "outputs": [
        {
          "output_type": "stream",
          "name": "stdout",
          "text": [
            "[[1612   33]\n",
            " [  31 1400]]\n"
          ]
        }
      ],
      "source": [
        "# Confusion matrix\n",
        "print(confusion_matrix(y_test, dtc_clf_preds))"
      ]
    },
    {
      "cell_type": "code",
      "execution_count": 69,
      "metadata": {
        "colab": {
          "base_uri": "https://localhost:8080/"
        },
        "id": "QjE28zUxlTUv",
        "outputId": "3e04d9c6-2316-4285-bc3c-adabf4610da3"
      },
      "outputs": [
        {
          "output_type": "stream",
          "name": "stdout",
          "text": [
            "0.9776536312849162\n"
          ]
        }
      ],
      "source": [
        "# f1_score\n",
        "dtc_f1_score = f1_score(y_test, dtc_clf_preds)\n",
        "print(dtc_f1_score)"
      ]
    },
    {
      "cell_type": "code",
      "execution_count": 70,
      "metadata": {
        "colab": {
          "base_uri": "https://localhost:8080/"
        },
        "id": "3BTpXWIjlVmX",
        "outputId": "c17bff91-95d7-4957-f40f-2c57e1f74574"
      },
      "outputs": [
        {
          "output_type": "stream",
          "name": "stdout",
          "text": [
            "0.9783368273934312\n"
          ]
        }
      ],
      "source": [
        "# Recall score\n",
        "dtc_recall_score = recall_score(y_test, dtc_clf_preds)\n",
        "print(dtc_recall_score)"
      ]
    },
    {
      "cell_type": "code",
      "execution_count": 71,
      "metadata": {
        "colab": {
          "base_uri": "https://localhost:8080/"
        },
        "id": "_YEUFl9SlX-n",
        "outputId": "10b79225-34f5-4c47-acc0-d7dfd07c421c"
      },
      "outputs": [
        {
          "output_type": "stream",
          "name": "stdout",
          "text": [
            "              precision    recall  f1-score   support\n",
            "\n",
            "         0.0    0.98113   0.97994   0.98054      1645\n",
            "         1.0    0.97697   0.97834   0.97765      1431\n",
            "\n",
            "    accuracy                        0.97919      3076\n",
            "   macro avg    0.97905   0.97914   0.97909      3076\n",
            "weighted avg    0.97920   0.97919   0.97919      3076\n",
            "\n"
          ]
        }
      ],
      "source": [
        "# Classification report\n",
        "print(classification_report(y_test, dtc_clf_preds, digits=5))"
      ]
    },
    {
      "cell_type": "markdown",
      "metadata": {
        "id": "IVwEDBT081-a"
      },
      "source": [
        "### Summary of model performance"
      ]
    },
    {
      "cell_type": "code",
      "execution_count": 72,
      "metadata": {
        "id": "PNz056OFlanm"
      },
      "outputs": [],
      "source": [
        "lin_performance_data = [lin_acc_score, lin_prec_score, lin_recall_score, lin_f1_score]\n",
        "rbf_performance_data = [rbf_acc_score, rbf_prec_score, rbf_recall_score, rbf_f1_score]\n",
        "nn_performance_data = [nn_acc_score, nn_prec_score, nn_recall_score, nn_f1_score]\n",
        "dtc_performance_data = [dtc_acc_score, dtc_prec_score, dtc_recall_score, dtc_f1_score]\n"
      ]
    },
    {
      "cell_type": "code",
      "execution_count": 73,
      "metadata": {
        "id": "78wQUXRK6n9_"
      },
      "outputs": [],
      "source": [
        "performance_df = pd.DataFrame([lin_performance_data, rbf_performance_data, nn_performance_data, dtc_performance_data],\n",
        "                       columns=[\"Accuracy\", \"Precision\", \"Recall\", \"F1\"],\n",
        "                       index=[\"SVC Linear Kernel\", \"SVC RBF Kernel\", \"MLPClassifier\", \"Decision Tree Classifier\"])"
      ]
    },
    {
      "cell_type": "code",
      "execution_count": 74,
      "metadata": {
        "colab": {
          "base_uri": "https://localhost:8080/",
          "height": 175
        },
        "id": "7DcN02Xr6-Kk",
        "outputId": "422aa491-3db2-4e33-c18a-d8b78dca6e77"
      },
      "outputs": [
        {
          "output_type": "execute_result",
          "data": {
            "text/plain": [
              "                          Accuracy  Precision    Recall        F1\n",
              "SVC Linear Kernel         0.997074   0.994437  0.999301  0.996863\n",
              "SVC RBF Kernel            0.993173   0.988904  0.996506  0.992691\n",
              "MLPClassifier             0.996099   0.993737  0.997904  0.995816\n",
              "Decision Tree Classifier  0.979194   0.976971  0.978337  0.977654"
            ],
            "text/html": [
              "\n",
              "  <div id=\"df-0f4574cc-7022-4b3c-a540-6981e1c0e84f\">\n",
              "    <div class=\"colab-df-container\">\n",
              "      <div>\n",
              "<style scoped>\n",
              "    .dataframe tbody tr th:only-of-type {\n",
              "        vertical-align: middle;\n",
              "    }\n",
              "\n",
              "    .dataframe tbody tr th {\n",
              "        vertical-align: top;\n",
              "    }\n",
              "\n",
              "    .dataframe thead th {\n",
              "        text-align: right;\n",
              "    }\n",
              "</style>\n",
              "<table border=\"1\" class=\"dataframe\">\n",
              "  <thead>\n",
              "    <tr style=\"text-align: right;\">\n",
              "      <th></th>\n",
              "      <th>Accuracy</th>\n",
              "      <th>Precision</th>\n",
              "      <th>Recall</th>\n",
              "      <th>F1</th>\n",
              "    </tr>\n",
              "  </thead>\n",
              "  <tbody>\n",
              "    <tr>\n",
              "      <th>SVC Linear Kernel</th>\n",
              "      <td>0.997074</td>\n",
              "      <td>0.994437</td>\n",
              "      <td>0.999301</td>\n",
              "      <td>0.996863</td>\n",
              "    </tr>\n",
              "    <tr>\n",
              "      <th>SVC RBF Kernel</th>\n",
              "      <td>0.993173</td>\n",
              "      <td>0.988904</td>\n",
              "      <td>0.996506</td>\n",
              "      <td>0.992691</td>\n",
              "    </tr>\n",
              "    <tr>\n",
              "      <th>MLPClassifier</th>\n",
              "      <td>0.996099</td>\n",
              "      <td>0.993737</td>\n",
              "      <td>0.997904</td>\n",
              "      <td>0.995816</td>\n",
              "    </tr>\n",
              "    <tr>\n",
              "      <th>Decision Tree Classifier</th>\n",
              "      <td>0.979194</td>\n",
              "      <td>0.976971</td>\n",
              "      <td>0.978337</td>\n",
              "      <td>0.977654</td>\n",
              "    </tr>\n",
              "  </tbody>\n",
              "</table>\n",
              "</div>\n",
              "      <button class=\"colab-df-convert\" onclick=\"convertToInteractive('df-0f4574cc-7022-4b3c-a540-6981e1c0e84f')\"\n",
              "              title=\"Convert this dataframe to an interactive table.\"\n",
              "              style=\"display:none;\">\n",
              "        \n",
              "  <svg xmlns=\"http://www.w3.org/2000/svg\" height=\"24px\"viewBox=\"0 0 24 24\"\n",
              "       width=\"24px\">\n",
              "    <path d=\"M0 0h24v24H0V0z\" fill=\"none\"/>\n",
              "    <path d=\"M18.56 5.44l.94 2.06.94-2.06 2.06-.94-2.06-.94-.94-2.06-.94 2.06-2.06.94zm-11 1L8.5 8.5l.94-2.06 2.06-.94-2.06-.94L8.5 2.5l-.94 2.06-2.06.94zm10 10l.94 2.06.94-2.06 2.06-.94-2.06-.94-.94-2.06-.94 2.06-2.06.94z\"/><path d=\"M17.41 7.96l-1.37-1.37c-.4-.4-.92-.59-1.43-.59-.52 0-1.04.2-1.43.59L10.3 9.45l-7.72 7.72c-.78.78-.78 2.05 0 2.83L4 21.41c.39.39.9.59 1.41.59.51 0 1.02-.2 1.41-.59l7.78-7.78 2.81-2.81c.8-.78.8-2.07 0-2.86zM5.41 20L4 18.59l7.72-7.72 1.47 1.35L5.41 20z\"/>\n",
              "  </svg>\n",
              "      </button>\n",
              "      \n",
              "  <style>\n",
              "    .colab-df-container {\n",
              "      display:flex;\n",
              "      flex-wrap:wrap;\n",
              "      gap: 12px;\n",
              "    }\n",
              "\n",
              "    .colab-df-convert {\n",
              "      background-color: #E8F0FE;\n",
              "      border: none;\n",
              "      border-radius: 50%;\n",
              "      cursor: pointer;\n",
              "      display: none;\n",
              "      fill: #1967D2;\n",
              "      height: 32px;\n",
              "      padding: 0 0 0 0;\n",
              "      width: 32px;\n",
              "    }\n",
              "\n",
              "    .colab-df-convert:hover {\n",
              "      background-color: #E2EBFA;\n",
              "      box-shadow: 0px 1px 2px rgba(60, 64, 67, 0.3), 0px 1px 3px 1px rgba(60, 64, 67, 0.15);\n",
              "      fill: #174EA6;\n",
              "    }\n",
              "\n",
              "    [theme=dark] .colab-df-convert {\n",
              "      background-color: #3B4455;\n",
              "      fill: #D2E3FC;\n",
              "    }\n",
              "\n",
              "    [theme=dark] .colab-df-convert:hover {\n",
              "      background-color: #434B5C;\n",
              "      box-shadow: 0px 1px 3px 1px rgba(0, 0, 0, 0.15);\n",
              "      filter: drop-shadow(0px 1px 2px rgba(0, 0, 0, 0.3));\n",
              "      fill: #FFFFFF;\n",
              "    }\n",
              "  </style>\n",
              "\n",
              "      <script>\n",
              "        const buttonEl =\n",
              "          document.querySelector('#df-0f4574cc-7022-4b3c-a540-6981e1c0e84f button.colab-df-convert');\n",
              "        buttonEl.style.display =\n",
              "          google.colab.kernel.accessAllowed ? 'block' : 'none';\n",
              "\n",
              "        async function convertToInteractive(key) {\n",
              "          const element = document.querySelector('#df-0f4574cc-7022-4b3c-a540-6981e1c0e84f');\n",
              "          const dataTable =\n",
              "            await google.colab.kernel.invokeFunction('convertToInteractive',\n",
              "                                                     [key], {});\n",
              "          if (!dataTable) return;\n",
              "\n",
              "          const docLinkHtml = 'Like what you see? Visit the ' +\n",
              "            '<a target=\"_blank\" href=https://colab.research.google.com/notebooks/data_table.ipynb>data table notebook</a>'\n",
              "            + ' to learn more about interactive tables.';\n",
              "          element.innerHTML = '';\n",
              "          dataTable['output_type'] = 'display_data';\n",
              "          await google.colab.output.renderOutput(dataTable, element);\n",
              "          const docLink = document.createElement('div');\n",
              "          docLink.innerHTML = docLinkHtml;\n",
              "          element.appendChild(docLink);\n",
              "        }\n",
              "      </script>\n",
              "    </div>\n",
              "  </div>\n",
              "  "
            ]
          },
          "metadata": {},
          "execution_count": 74
        }
      ],
      "source": [
        "performance_df"
      ]
    },
    {
      "cell_type": "markdown",
      "metadata": {
        "id": "PmowM8naC7fN"
      },
      "source": [
        "From above table, it can be seen that SVC using linear kernel gave the best scores in all the metrics. Hence, it can be used as the model for predicting failure of gear tooth."
      ]
    },
    {
      "cell_type": "code",
      "execution_count": 74,
      "metadata": {
        "id": "nLF3azDH81-c"
      },
      "outputs": [],
      "source": []
    }
  ],
  "metadata": {
    "colab": {
      "collapsed_sections": [],
      "provenance": []
    },
    "kernelspec": {
      "display_name": "Python 3 (ipykernel)",
      "language": "python",
      "name": "python3"
    },
    "language_info": {
      "codemirror_mode": {
        "name": "ipython",
        "version": 3
      },
      "file_extension": ".py",
      "mimetype": "text/x-python",
      "name": "python",
      "nbconvert_exporter": "python",
      "pygments_lexer": "ipython3",
      "version": "3.10.5"
    }
  },
  "nbformat": 4,
  "nbformat_minor": 0
}