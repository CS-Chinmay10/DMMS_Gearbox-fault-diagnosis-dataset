{
  "nbformat": 4,
  "nbformat_minor": 0,
  "metadata": {
    "colab": {
      "provenance": [],
      "collapsed_sections": []
    },
    "kernelspec": {
      "name": "python3",
      "display_name": "Python 3"
    },
    "language_info": {
      "name": "python"
    }
  },
  "cells": [
    {
      "cell_type": "code",
      "execution_count": 1,
      "metadata": {
        "id": "NnxGdR8sXSq8"
      },
      "outputs": [],
      "source": [
        "# Dataset name: Gearbox Fault Diagnosis Data"
      ]
    },
    {
      "cell_type": "code",
      "source": [
        "import pandas as pd\n",
        "import numpy as np\n",
        "import matplotlib.pyplot as plt"
      ],
      "metadata": {
        "id": "ZGog8GDuh25x"
      },
      "execution_count": 2,
      "outputs": []
    },
    {
      "cell_type": "code",
      "source": [
        "broken_dataset_url = \"https://raw.githubusercontent.com/CS-Chinmay10/DMMS_Gearbox-fault-diagnosis-dataset/main/broken/b30hz50.csv\"\n",
        "healthy_dataset_url = \"https://raw.githubusercontent.com/CS-Chinmay10/DMMS_Gearbox-fault-diagnosis-dataset/main/healthy/h30hz50.csv\""
      ],
      "metadata": {
        "id": "3oLRldkbh5tY"
      },
      "execution_count": 3,
      "outputs": []
    },
    {
      "cell_type": "code",
      "source": [
        "broken_df = pd.read_csv(broken_dataset_url, header=0)\n",
        "healthy_df = pd.read_csv(healthy_dataset_url, header=0)\n",
        "broken_df[\"applied_load\"] = 50 * np.ones((broken_df.shape[0], 1))\n",
        "healthy_df[\"applied_load\"] = 50 * np.ones((healthy_df.shape[0], 1))"
      ],
      "metadata": {
        "id": "3mHIKAikh9J4"
      },
      "execution_count": 4,
      "outputs": []
    },
    {
      "cell_type": "code",
      "source": [
        "broken_df"
      ],
      "metadata": {
        "id": "fS9kdMIfjnh0",
        "colab": {
          "base_uri": "https://localhost:8080/",
          "height": 424
        },
        "outputId": "3ccc1281-3a34-4837-fdc6-44db8ffd3bbd"
      },
      "execution_count": 5,
      "outputs": [
        {
          "output_type": "execute_result",
          "data": {
            "text/plain": [
              "            a1        a2        a3         a4  applied_load\n",
              "0     -3.93468   6.55216 -1.237980  20.310300          50.0\n",
              "1      2.40285   9.99438 -3.242650   8.313200          50.0\n",
              "2      6.24273  -3.17577 -0.686974  -4.193820          50.0\n",
              "3     -3.99411 -14.14480  3.845360  -5.658600          50.0\n",
              "4      1.76551  -6.46492  5.096230  -9.001360          50.0\n",
              "...        ...       ...       ...        ...           ...\n",
              "94203 -1.46153   2.78470 -1.151670  -4.537800          50.0\n",
              "94204 -3.87952   0.85365  6.423880  -5.474920          50.0\n",
              "94205  1.73315   4.06958  5.364500   0.216419          50.0\n",
              "94206  8.97857  10.06520  1.552720   3.656620          50.0\n",
              "94207  6.15826   5.58468  2.412330   2.038780          50.0\n",
              "\n",
              "[94208 rows x 5 columns]"
            ],
            "text/html": [
              "\n",
              "  <div id=\"df-7b4bfcaf-57a3-4cbb-b5b5-fb9bb6c4d17c\">\n",
              "    <div class=\"colab-df-container\">\n",
              "      <div>\n",
              "<style scoped>\n",
              "    .dataframe tbody tr th:only-of-type {\n",
              "        vertical-align: middle;\n",
              "    }\n",
              "\n",
              "    .dataframe tbody tr th {\n",
              "        vertical-align: top;\n",
              "    }\n",
              "\n",
              "    .dataframe thead th {\n",
              "        text-align: right;\n",
              "    }\n",
              "</style>\n",
              "<table border=\"1\" class=\"dataframe\">\n",
              "  <thead>\n",
              "    <tr style=\"text-align: right;\">\n",
              "      <th></th>\n",
              "      <th>a1</th>\n",
              "      <th>a2</th>\n",
              "      <th>a3</th>\n",
              "      <th>a4</th>\n",
              "      <th>applied_load</th>\n",
              "    </tr>\n",
              "  </thead>\n",
              "  <tbody>\n",
              "    <tr>\n",
              "      <th>0</th>\n",
              "      <td>-3.93468</td>\n",
              "      <td>6.55216</td>\n",
              "      <td>-1.237980</td>\n",
              "      <td>20.310300</td>\n",
              "      <td>50.0</td>\n",
              "    </tr>\n",
              "    <tr>\n",
              "      <th>1</th>\n",
              "      <td>2.40285</td>\n",
              "      <td>9.99438</td>\n",
              "      <td>-3.242650</td>\n",
              "      <td>8.313200</td>\n",
              "      <td>50.0</td>\n",
              "    </tr>\n",
              "    <tr>\n",
              "      <th>2</th>\n",
              "      <td>6.24273</td>\n",
              "      <td>-3.17577</td>\n",
              "      <td>-0.686974</td>\n",
              "      <td>-4.193820</td>\n",
              "      <td>50.0</td>\n",
              "    </tr>\n",
              "    <tr>\n",
              "      <th>3</th>\n",
              "      <td>-3.99411</td>\n",
              "      <td>-14.14480</td>\n",
              "      <td>3.845360</td>\n",
              "      <td>-5.658600</td>\n",
              "      <td>50.0</td>\n",
              "    </tr>\n",
              "    <tr>\n",
              "      <th>4</th>\n",
              "      <td>1.76551</td>\n",
              "      <td>-6.46492</td>\n",
              "      <td>5.096230</td>\n",
              "      <td>-9.001360</td>\n",
              "      <td>50.0</td>\n",
              "    </tr>\n",
              "    <tr>\n",
              "      <th>...</th>\n",
              "      <td>...</td>\n",
              "      <td>...</td>\n",
              "      <td>...</td>\n",
              "      <td>...</td>\n",
              "      <td>...</td>\n",
              "    </tr>\n",
              "    <tr>\n",
              "      <th>94203</th>\n",
              "      <td>-1.46153</td>\n",
              "      <td>2.78470</td>\n",
              "      <td>-1.151670</td>\n",
              "      <td>-4.537800</td>\n",
              "      <td>50.0</td>\n",
              "    </tr>\n",
              "    <tr>\n",
              "      <th>94204</th>\n",
              "      <td>-3.87952</td>\n",
              "      <td>0.85365</td>\n",
              "      <td>6.423880</td>\n",
              "      <td>-5.474920</td>\n",
              "      <td>50.0</td>\n",
              "    </tr>\n",
              "    <tr>\n",
              "      <th>94205</th>\n",
              "      <td>1.73315</td>\n",
              "      <td>4.06958</td>\n",
              "      <td>5.364500</td>\n",
              "      <td>0.216419</td>\n",
              "      <td>50.0</td>\n",
              "    </tr>\n",
              "    <tr>\n",
              "      <th>94206</th>\n",
              "      <td>8.97857</td>\n",
              "      <td>10.06520</td>\n",
              "      <td>1.552720</td>\n",
              "      <td>3.656620</td>\n",
              "      <td>50.0</td>\n",
              "    </tr>\n",
              "    <tr>\n",
              "      <th>94207</th>\n",
              "      <td>6.15826</td>\n",
              "      <td>5.58468</td>\n",
              "      <td>2.412330</td>\n",
              "      <td>2.038780</td>\n",
              "      <td>50.0</td>\n",
              "    </tr>\n",
              "  </tbody>\n",
              "</table>\n",
              "<p>94208 rows × 5 columns</p>\n",
              "</div>\n",
              "      <button class=\"colab-df-convert\" onclick=\"convertToInteractive('df-7b4bfcaf-57a3-4cbb-b5b5-fb9bb6c4d17c')\"\n",
              "              title=\"Convert this dataframe to an interactive table.\"\n",
              "              style=\"display:none;\">\n",
              "        \n",
              "  <svg xmlns=\"http://www.w3.org/2000/svg\" height=\"24px\"viewBox=\"0 0 24 24\"\n",
              "       width=\"24px\">\n",
              "    <path d=\"M0 0h24v24H0V0z\" fill=\"none\"/>\n",
              "    <path d=\"M18.56 5.44l.94 2.06.94-2.06 2.06-.94-2.06-.94-.94-2.06-.94 2.06-2.06.94zm-11 1L8.5 8.5l.94-2.06 2.06-.94-2.06-.94L8.5 2.5l-.94 2.06-2.06.94zm10 10l.94 2.06.94-2.06 2.06-.94-2.06-.94-.94-2.06-.94 2.06-2.06.94z\"/><path d=\"M17.41 7.96l-1.37-1.37c-.4-.4-.92-.59-1.43-.59-.52 0-1.04.2-1.43.59L10.3 9.45l-7.72 7.72c-.78.78-.78 2.05 0 2.83L4 21.41c.39.39.9.59 1.41.59.51 0 1.02-.2 1.41-.59l7.78-7.78 2.81-2.81c.8-.78.8-2.07 0-2.86zM5.41 20L4 18.59l7.72-7.72 1.47 1.35L5.41 20z\"/>\n",
              "  </svg>\n",
              "      </button>\n",
              "      \n",
              "  <style>\n",
              "    .colab-df-container {\n",
              "      display:flex;\n",
              "      flex-wrap:wrap;\n",
              "      gap: 12px;\n",
              "    }\n",
              "\n",
              "    .colab-df-convert {\n",
              "      background-color: #E8F0FE;\n",
              "      border: none;\n",
              "      border-radius: 50%;\n",
              "      cursor: pointer;\n",
              "      display: none;\n",
              "      fill: #1967D2;\n",
              "      height: 32px;\n",
              "      padding: 0 0 0 0;\n",
              "      width: 32px;\n",
              "    }\n",
              "\n",
              "    .colab-df-convert:hover {\n",
              "      background-color: #E2EBFA;\n",
              "      box-shadow: 0px 1px 2px rgba(60, 64, 67, 0.3), 0px 1px 3px 1px rgba(60, 64, 67, 0.15);\n",
              "      fill: #174EA6;\n",
              "    }\n",
              "\n",
              "    [theme=dark] .colab-df-convert {\n",
              "      background-color: #3B4455;\n",
              "      fill: #D2E3FC;\n",
              "    }\n",
              "\n",
              "    [theme=dark] .colab-df-convert:hover {\n",
              "      background-color: #434B5C;\n",
              "      box-shadow: 0px 1px 3px 1px rgba(0, 0, 0, 0.15);\n",
              "      filter: drop-shadow(0px 1px 2px rgba(0, 0, 0, 0.3));\n",
              "      fill: #FFFFFF;\n",
              "    }\n",
              "  </style>\n",
              "\n",
              "      <script>\n",
              "        const buttonEl =\n",
              "          document.querySelector('#df-7b4bfcaf-57a3-4cbb-b5b5-fb9bb6c4d17c button.colab-df-convert');\n",
              "        buttonEl.style.display =\n",
              "          google.colab.kernel.accessAllowed ? 'block' : 'none';\n",
              "\n",
              "        async function convertToInteractive(key) {\n",
              "          const element = document.querySelector('#df-7b4bfcaf-57a3-4cbb-b5b5-fb9bb6c4d17c');\n",
              "          const dataTable =\n",
              "            await google.colab.kernel.invokeFunction('convertToInteractive',\n",
              "                                                     [key], {});\n",
              "          if (!dataTable) return;\n",
              "\n",
              "          const docLinkHtml = 'Like what you see? Visit the ' +\n",
              "            '<a target=\"_blank\" href=https://colab.research.google.com/notebooks/data_table.ipynb>data table notebook</a>'\n",
              "            + ' to learn more about interactive tables.';\n",
              "          element.innerHTML = '';\n",
              "          dataTable['output_type'] = 'display_data';\n",
              "          await google.colab.output.renderOutput(dataTable, element);\n",
              "          const docLink = document.createElement('div');\n",
              "          docLink.innerHTML = docLinkHtml;\n",
              "          element.appendChild(docLink);\n",
              "        }\n",
              "      </script>\n",
              "    </div>\n",
              "  </div>\n",
              "  "
            ]
          },
          "metadata": {},
          "execution_count": 5
        }
      ]
    },
    {
      "cell_type": "code",
      "source": [
        "healthy_df"
      ],
      "metadata": {
        "colab": {
          "base_uri": "https://localhost:8080/",
          "height": 424
        },
        "id": "SkFOrJxpBdyw",
        "outputId": "0410cc38-501b-40a1-c43e-6924b8e859e6"
      },
      "execution_count": 6,
      "outputs": [
        {
          "output_type": "execute_result",
          "data": {
            "text/plain": [
              "              a1        a2        a3         a4  applied_load\n",
              "0       2.144160 -1.958210 -0.190533  -4.584750          50.0\n",
              "1      -9.920150 -7.475190  1.794680  -7.472510          50.0\n",
              "2      -1.330590  0.751472 -3.557400   0.328149          50.0\n",
              "3       7.761710 -1.498460 -1.764630  10.991900          50.0\n",
              "4      -0.714011 -0.164771  9.650560   8.970950          50.0\n",
              "...          ...       ...       ...        ...           ...\n",
              "110843  3.245040 -2.692110  2.714350  -0.639589          50.0\n",
              "110844  1.347960 -2.303540  2.583290  -1.174450          50.0\n",
              "110845  0.003272 -3.241480 -1.423700  -0.610475          50.0\n",
              "110846 -0.031329 -3.361870 -1.493090  -2.147170          50.0\n",
              "110847  1.031390 -0.380219 -2.235860  -0.474274          50.0\n",
              "\n",
              "[110848 rows x 5 columns]"
            ],
            "text/html": [
              "\n",
              "  <div id=\"df-97f2e205-6585-4fe7-9ade-7ff278b6dcbd\">\n",
              "    <div class=\"colab-df-container\">\n",
              "      <div>\n",
              "<style scoped>\n",
              "    .dataframe tbody tr th:only-of-type {\n",
              "        vertical-align: middle;\n",
              "    }\n",
              "\n",
              "    .dataframe tbody tr th {\n",
              "        vertical-align: top;\n",
              "    }\n",
              "\n",
              "    .dataframe thead th {\n",
              "        text-align: right;\n",
              "    }\n",
              "</style>\n",
              "<table border=\"1\" class=\"dataframe\">\n",
              "  <thead>\n",
              "    <tr style=\"text-align: right;\">\n",
              "      <th></th>\n",
              "      <th>a1</th>\n",
              "      <th>a2</th>\n",
              "      <th>a3</th>\n",
              "      <th>a4</th>\n",
              "      <th>applied_load</th>\n",
              "    </tr>\n",
              "  </thead>\n",
              "  <tbody>\n",
              "    <tr>\n",
              "      <th>0</th>\n",
              "      <td>2.144160</td>\n",
              "      <td>-1.958210</td>\n",
              "      <td>-0.190533</td>\n",
              "      <td>-4.584750</td>\n",
              "      <td>50.0</td>\n",
              "    </tr>\n",
              "    <tr>\n",
              "      <th>1</th>\n",
              "      <td>-9.920150</td>\n",
              "      <td>-7.475190</td>\n",
              "      <td>1.794680</td>\n",
              "      <td>-7.472510</td>\n",
              "      <td>50.0</td>\n",
              "    </tr>\n",
              "    <tr>\n",
              "      <th>2</th>\n",
              "      <td>-1.330590</td>\n",
              "      <td>0.751472</td>\n",
              "      <td>-3.557400</td>\n",
              "      <td>0.328149</td>\n",
              "      <td>50.0</td>\n",
              "    </tr>\n",
              "    <tr>\n",
              "      <th>3</th>\n",
              "      <td>7.761710</td>\n",
              "      <td>-1.498460</td>\n",
              "      <td>-1.764630</td>\n",
              "      <td>10.991900</td>\n",
              "      <td>50.0</td>\n",
              "    </tr>\n",
              "    <tr>\n",
              "      <th>4</th>\n",
              "      <td>-0.714011</td>\n",
              "      <td>-0.164771</td>\n",
              "      <td>9.650560</td>\n",
              "      <td>8.970950</td>\n",
              "      <td>50.0</td>\n",
              "    </tr>\n",
              "    <tr>\n",
              "      <th>...</th>\n",
              "      <td>...</td>\n",
              "      <td>...</td>\n",
              "      <td>...</td>\n",
              "      <td>...</td>\n",
              "      <td>...</td>\n",
              "    </tr>\n",
              "    <tr>\n",
              "      <th>110843</th>\n",
              "      <td>3.245040</td>\n",
              "      <td>-2.692110</td>\n",
              "      <td>2.714350</td>\n",
              "      <td>-0.639589</td>\n",
              "      <td>50.0</td>\n",
              "    </tr>\n",
              "    <tr>\n",
              "      <th>110844</th>\n",
              "      <td>1.347960</td>\n",
              "      <td>-2.303540</td>\n",
              "      <td>2.583290</td>\n",
              "      <td>-1.174450</td>\n",
              "      <td>50.0</td>\n",
              "    </tr>\n",
              "    <tr>\n",
              "      <th>110845</th>\n",
              "      <td>0.003272</td>\n",
              "      <td>-3.241480</td>\n",
              "      <td>-1.423700</td>\n",
              "      <td>-0.610475</td>\n",
              "      <td>50.0</td>\n",
              "    </tr>\n",
              "    <tr>\n",
              "      <th>110846</th>\n",
              "      <td>-0.031329</td>\n",
              "      <td>-3.361870</td>\n",
              "      <td>-1.493090</td>\n",
              "      <td>-2.147170</td>\n",
              "      <td>50.0</td>\n",
              "    </tr>\n",
              "    <tr>\n",
              "      <th>110847</th>\n",
              "      <td>1.031390</td>\n",
              "      <td>-0.380219</td>\n",
              "      <td>-2.235860</td>\n",
              "      <td>-0.474274</td>\n",
              "      <td>50.0</td>\n",
              "    </tr>\n",
              "  </tbody>\n",
              "</table>\n",
              "<p>110848 rows × 5 columns</p>\n",
              "</div>\n",
              "      <button class=\"colab-df-convert\" onclick=\"convertToInteractive('df-97f2e205-6585-4fe7-9ade-7ff278b6dcbd')\"\n",
              "              title=\"Convert this dataframe to an interactive table.\"\n",
              "              style=\"display:none;\">\n",
              "        \n",
              "  <svg xmlns=\"http://www.w3.org/2000/svg\" height=\"24px\"viewBox=\"0 0 24 24\"\n",
              "       width=\"24px\">\n",
              "    <path d=\"M0 0h24v24H0V0z\" fill=\"none\"/>\n",
              "    <path d=\"M18.56 5.44l.94 2.06.94-2.06 2.06-.94-2.06-.94-.94-2.06-.94 2.06-2.06.94zm-11 1L8.5 8.5l.94-2.06 2.06-.94-2.06-.94L8.5 2.5l-.94 2.06-2.06.94zm10 10l.94 2.06.94-2.06 2.06-.94-2.06-.94-.94-2.06-.94 2.06-2.06.94z\"/><path d=\"M17.41 7.96l-1.37-1.37c-.4-.4-.92-.59-1.43-.59-.52 0-1.04.2-1.43.59L10.3 9.45l-7.72 7.72c-.78.78-.78 2.05 0 2.83L4 21.41c.39.39.9.59 1.41.59.51 0 1.02-.2 1.41-.59l7.78-7.78 2.81-2.81c.8-.78.8-2.07 0-2.86zM5.41 20L4 18.59l7.72-7.72 1.47 1.35L5.41 20z\"/>\n",
              "  </svg>\n",
              "      </button>\n",
              "      \n",
              "  <style>\n",
              "    .colab-df-container {\n",
              "      display:flex;\n",
              "      flex-wrap:wrap;\n",
              "      gap: 12px;\n",
              "    }\n",
              "\n",
              "    .colab-df-convert {\n",
              "      background-color: #E8F0FE;\n",
              "      border: none;\n",
              "      border-radius: 50%;\n",
              "      cursor: pointer;\n",
              "      display: none;\n",
              "      fill: #1967D2;\n",
              "      height: 32px;\n",
              "      padding: 0 0 0 0;\n",
              "      width: 32px;\n",
              "    }\n",
              "\n",
              "    .colab-df-convert:hover {\n",
              "      background-color: #E2EBFA;\n",
              "      box-shadow: 0px 1px 2px rgba(60, 64, 67, 0.3), 0px 1px 3px 1px rgba(60, 64, 67, 0.15);\n",
              "      fill: #174EA6;\n",
              "    }\n",
              "\n",
              "    [theme=dark] .colab-df-convert {\n",
              "      background-color: #3B4455;\n",
              "      fill: #D2E3FC;\n",
              "    }\n",
              "\n",
              "    [theme=dark] .colab-df-convert:hover {\n",
              "      background-color: #434B5C;\n",
              "      box-shadow: 0px 1px 3px 1px rgba(0, 0, 0, 0.15);\n",
              "      filter: drop-shadow(0px 1px 2px rgba(0, 0, 0, 0.3));\n",
              "      fill: #FFFFFF;\n",
              "    }\n",
              "  </style>\n",
              "\n",
              "      <script>\n",
              "        const buttonEl =\n",
              "          document.querySelector('#df-97f2e205-6585-4fe7-9ade-7ff278b6dcbd button.colab-df-convert');\n",
              "        buttonEl.style.display =\n",
              "          google.colab.kernel.accessAllowed ? 'block' : 'none';\n",
              "\n",
              "        async function convertToInteractive(key) {\n",
              "          const element = document.querySelector('#df-97f2e205-6585-4fe7-9ade-7ff278b6dcbd');\n",
              "          const dataTable =\n",
              "            await google.colab.kernel.invokeFunction('convertToInteractive',\n",
              "                                                     [key], {});\n",
              "          if (!dataTable) return;\n",
              "\n",
              "          const docLinkHtml = 'Like what you see? Visit the ' +\n",
              "            '<a target=\"_blank\" href=https://colab.research.google.com/notebooks/data_table.ipynb>data table notebook</a>'\n",
              "            + ' to learn more about interactive tables.';\n",
              "          element.innerHTML = '';\n",
              "          dataTable['output_type'] = 'display_data';\n",
              "          await google.colab.output.renderOutput(dataTable, element);\n",
              "          const docLink = document.createElement('div');\n",
              "          docLink.innerHTML = docLinkHtml;\n",
              "          element.appendChild(docLink);\n",
              "        }\n",
              "      </script>\n",
              "    </div>\n",
              "  </div>\n",
              "  "
            ]
          },
          "metadata": {},
          "execution_count": 6
        }
      ]
    },
    {
      "cell_type": "code",
      "source": [
        "# Export to csv\n",
        "healthy_df.to_csv(\"h50_data.csv\", index=False)\n",
        "broken_df.to_csv(\"b50_data.csv\", index=False)"
      ],
      "metadata": {
        "id": "F32GU-2EwPHi"
      },
      "execution_count": 7,
      "outputs": []
    },
    {
      "cell_type": "code",
      "source": [
        "# Check to see if there are any null values.\n",
        "print(healthy_df.isna().sum())"
      ],
      "metadata": {
        "colab": {
          "base_uri": "https://localhost:8080/"
        },
        "id": "CQdVa8CNONxQ",
        "outputId": "d94cf817-7859-4d9e-c1d9-83755ebd3d2d"
      },
      "execution_count": 8,
      "outputs": [
        {
          "output_type": "stream",
          "name": "stdout",
          "text": [
            "a1              0\n",
            "a2              0\n",
            "a3              0\n",
            "a4              0\n",
            "applied_load    0\n",
            "dtype: int64\n"
          ]
        }
      ]
    },
    {
      "cell_type": "code",
      "source": [
        "print(broken_df.isna().sum())"
      ],
      "metadata": {
        "colab": {
          "base_uri": "https://localhost:8080/"
        },
        "id": "srAQi792OuXo",
        "outputId": "f95178fd-c5aa-4903-b523-811eb89e66cc"
      },
      "execution_count": 9,
      "outputs": [
        {
          "output_type": "stream",
          "name": "stdout",
          "text": [
            "a1              0\n",
            "a2              0\n",
            "a3              0\n",
            "a4              0\n",
            "applied_load    0\n",
            "dtype: int64\n"
          ]
        }
      ]
    },
    {
      "cell_type": "code",
      "source": [
        "# Visualize correlation in the dataset.\n",
        "corr = healthy_df.corr()\n",
        "corr.style.background_gradient(cmap=\"coolwarm\")     # Healthy "
      ],
      "metadata": {
        "colab": {
          "base_uri": "https://localhost:8080/",
          "height": 276
        },
        "id": "FnXEZrIWOxvX",
        "outputId": "99e2bb86-12e5-4c9a-f015-d32cd17fb06a"
      },
      "execution_count": 10,
      "outputs": [
        {
          "output_type": "stream",
          "name": "stderr",
          "text": [
            "/usr/local/lib/python3.7/dist-packages/pandas/io/formats/style.py:2813: RuntimeWarning: All-NaN slice encountered\n",
            "  smin = np.nanmin(gmap) if vmin is None else vmin\n",
            "/usr/local/lib/python3.7/dist-packages/pandas/io/formats/style.py:2814: RuntimeWarning: All-NaN slice encountered\n",
            "  smax = np.nanmax(gmap) if vmax is None else vmax\n"
          ]
        },
        {
          "output_type": "execute_result",
          "data": {
            "text/plain": [
              "<pandas.io.formats.style.Styler at 0x7f797d5c3a10>"
            ],
            "text/html": [
              "<style type=\"text/css\">\n",
              "#T_3db7b_row0_col0, #T_3db7b_row1_col1, #T_3db7b_row2_col2, #T_3db7b_row3_col3 {\n",
              "  background-color: #b40426;\n",
              "  color: #f1f1f1;\n",
              "}\n",
              "#T_3db7b_row0_col1 {\n",
              "  background-color: #6c8ff1;\n",
              "  color: #f1f1f1;\n",
              "}\n",
              "#T_3db7b_row0_col2 {\n",
              "  background-color: #6282ea;\n",
              "  color: #f1f1f1;\n",
              "}\n",
              "#T_3db7b_row0_col3 {\n",
              "  background-color: #8badfd;\n",
              "  color: #000000;\n",
              "}\n",
              "#T_3db7b_row0_col4, #T_3db7b_row1_col4, #T_3db7b_row2_col4, #T_3db7b_row3_col4, #T_3db7b_row4_col0, #T_3db7b_row4_col1, #T_3db7b_row4_col2, #T_3db7b_row4_col3, #T_3db7b_row4_col4 {\n",
              "  background-color: #000000;\n",
              "  color: #f1f1f1;\n",
              "}\n",
              "#T_3db7b_row1_col0 {\n",
              "  background-color: #455cce;\n",
              "  color: #f1f1f1;\n",
              "}\n",
              "#T_3db7b_row1_col2, #T_3db7b_row2_col0, #T_3db7b_row2_col1, #T_3db7b_row2_col3 {\n",
              "  background-color: #3b4cc0;\n",
              "  color: #f1f1f1;\n",
              "}\n",
              "#T_3db7b_row1_col3 {\n",
              "  background-color: #b9d0f9;\n",
              "  color: #000000;\n",
              "}\n",
              "#T_3db7b_row3_col0 {\n",
              "  background-color: #7da0f9;\n",
              "  color: #f1f1f1;\n",
              "}\n",
              "#T_3db7b_row3_col1 {\n",
              "  background-color: #cad8ef;\n",
              "  color: #000000;\n",
              "}\n",
              "#T_3db7b_row3_col2 {\n",
              "  background-color: #5470de;\n",
              "  color: #f1f1f1;\n",
              "}\n",
              "</style>\n",
              "<table id=\"T_3db7b_\" class=\"dataframe\">\n",
              "  <thead>\n",
              "    <tr>\n",
              "      <th class=\"blank level0\" >&nbsp;</th>\n",
              "      <th class=\"col_heading level0 col0\" >a1</th>\n",
              "      <th class=\"col_heading level0 col1\" >a2</th>\n",
              "      <th class=\"col_heading level0 col2\" >a3</th>\n",
              "      <th class=\"col_heading level0 col3\" >a4</th>\n",
              "      <th class=\"col_heading level0 col4\" >applied_load</th>\n",
              "    </tr>\n",
              "  </thead>\n",
              "  <tbody>\n",
              "    <tr>\n",
              "      <th id=\"T_3db7b_level0_row0\" class=\"row_heading level0 row0\" >a1</th>\n",
              "      <td id=\"T_3db7b_row0_col0\" class=\"data row0 col0\" >1.000000</td>\n",
              "      <td id=\"T_3db7b_row0_col1\" class=\"data row0 col1\" >-0.033382</td>\n",
              "      <td id=\"T_3db7b_row0_col2\" class=\"data row0 col2\" >-0.072445</td>\n",
              "      <td id=\"T_3db7b_row0_col3\" class=\"data row0 col3\" >0.148111</td>\n",
              "      <td id=\"T_3db7b_row0_col4\" class=\"data row0 col4\" >nan</td>\n",
              "    </tr>\n",
              "    <tr>\n",
              "      <th id=\"T_3db7b_level0_row1\" class=\"row_heading level0 row1\" >a2</th>\n",
              "      <td id=\"T_3db7b_row1_col0\" class=\"data row1 col0\" >-0.033382</td>\n",
              "      <td id=\"T_3db7b_row1_col1\" class=\"data row1 col1\" >1.000000</td>\n",
              "      <td id=\"T_3db7b_row1_col2\" class=\"data row1 col2\" >-0.228943</td>\n",
              "      <td id=\"T_3db7b_row1_col3\" class=\"data row1 col3\" >0.300243</td>\n",
              "      <td id=\"T_3db7b_row1_col4\" class=\"data row1 col4\" >nan</td>\n",
              "    </tr>\n",
              "    <tr>\n",
              "      <th id=\"T_3db7b_level0_row2\" class=\"row_heading level0 row2\" >a3</th>\n",
              "      <td id=\"T_3db7b_row2_col0\" class=\"data row2 col0\" >-0.072445</td>\n",
              "      <td id=\"T_3db7b_row2_col1\" class=\"data row2 col1\" >-0.228943</td>\n",
              "      <td id=\"T_3db7b_row2_col2\" class=\"data row2 col2\" >1.000000</td>\n",
              "      <td id=\"T_3db7b_row2_col3\" class=\"data row2 col3\" >-0.126441</td>\n",
              "      <td id=\"T_3db7b_row2_col4\" class=\"data row2 col4\" >nan</td>\n",
              "    </tr>\n",
              "    <tr>\n",
              "      <th id=\"T_3db7b_level0_row3\" class=\"row_heading level0 row3\" >a4</th>\n",
              "      <td id=\"T_3db7b_row3_col0\" class=\"data row3 col0\" >0.148111</td>\n",
              "      <td id=\"T_3db7b_row3_col1\" class=\"data row3 col1\" >0.300243</td>\n",
              "      <td id=\"T_3db7b_row3_col2\" class=\"data row3 col2\" >-0.126441</td>\n",
              "      <td id=\"T_3db7b_row3_col3\" class=\"data row3 col3\" >1.000000</td>\n",
              "      <td id=\"T_3db7b_row3_col4\" class=\"data row3 col4\" >nan</td>\n",
              "    </tr>\n",
              "    <tr>\n",
              "      <th id=\"T_3db7b_level0_row4\" class=\"row_heading level0 row4\" >applied_load</th>\n",
              "      <td id=\"T_3db7b_row4_col0\" class=\"data row4 col0\" >nan</td>\n",
              "      <td id=\"T_3db7b_row4_col1\" class=\"data row4 col1\" >nan</td>\n",
              "      <td id=\"T_3db7b_row4_col2\" class=\"data row4 col2\" >nan</td>\n",
              "      <td id=\"T_3db7b_row4_col3\" class=\"data row4 col3\" >nan</td>\n",
              "      <td id=\"T_3db7b_row4_col4\" class=\"data row4 col4\" >nan</td>\n",
              "    </tr>\n",
              "  </tbody>\n",
              "</table>\n"
            ]
          },
          "metadata": {},
          "execution_count": 10
        }
      ]
    },
    {
      "cell_type": "code",
      "source": [
        "corr2 = broken_df.corr()\n",
        "corr2.style.background_gradient(cmap=\"coolwarm\")    # Broken"
      ],
      "metadata": {
        "colab": {
          "base_uri": "https://localhost:8080/",
          "height": 206
        },
        "id": "Ui4H4G8hP5CF",
        "outputId": "29f7a6e3-a0b6-4d56-9316-ca89d260c46f"
      },
      "execution_count": 11,
      "outputs": [
        {
          "output_type": "execute_result",
          "data": {
            "text/plain": [
              "<pandas.io.formats.style.Styler at 0x7f797d5c36d0>"
            ],
            "text/html": [
              "<style type=\"text/css\">\n",
              "#T_279c5_row0_col0, #T_279c5_row1_col1, #T_279c5_row2_col2, #T_279c5_row3_col3 {\n",
              "  background-color: #b40426;\n",
              "  color: #f1f1f1;\n",
              "}\n",
              "#T_279c5_row0_col1, #T_279c5_row0_col3, #T_279c5_row1_col0, #T_279c5_row1_col2 {\n",
              "  background-color: #3b4cc0;\n",
              "  color: #f1f1f1;\n",
              "}\n",
              "#T_279c5_row0_col2 {\n",
              "  background-color: #799cf8;\n",
              "  color: #f1f1f1;\n",
              "}\n",
              "#T_279c5_row0_col4, #T_279c5_row1_col4, #T_279c5_row2_col4, #T_279c5_row3_col4, #T_279c5_row4_col0, #T_279c5_row4_col1, #T_279c5_row4_col2, #T_279c5_row4_col3, #T_279c5_row4_col4 {\n",
              "  background-color: #000000;\n",
              "  color: #f1f1f1;\n",
              "}\n",
              "#T_279c5_row1_col3 {\n",
              "  background-color: #c3d5f4;\n",
              "  color: #000000;\n",
              "}\n",
              "#T_279c5_row2_col0 {\n",
              "  background-color: #86a9fc;\n",
              "  color: #f1f1f1;\n",
              "}\n",
              "#T_279c5_row2_col1 {\n",
              "  background-color: #485fd1;\n",
              "  color: #f1f1f1;\n",
              "}\n",
              "#T_279c5_row2_col3 {\n",
              "  background-color: #5a78e4;\n",
              "  color: #f1f1f1;\n",
              "}\n",
              "#T_279c5_row3_col0 {\n",
              "  background-color: #5572df;\n",
              "  color: #f1f1f1;\n",
              "}\n",
              "#T_279c5_row3_col1 {\n",
              "  background-color: #d2dbe8;\n",
              "  color: #000000;\n",
              "}\n",
              "#T_279c5_row3_col2 {\n",
              "  background-color: #688aef;\n",
              "  color: #f1f1f1;\n",
              "}\n",
              "</style>\n",
              "<table id=\"T_279c5_\" class=\"dataframe\">\n",
              "  <thead>\n",
              "    <tr>\n",
              "      <th class=\"blank level0\" >&nbsp;</th>\n",
              "      <th class=\"col_heading level0 col0\" >a1</th>\n",
              "      <th class=\"col_heading level0 col1\" >a2</th>\n",
              "      <th class=\"col_heading level0 col2\" >a3</th>\n",
              "      <th class=\"col_heading level0 col3\" >a4</th>\n",
              "      <th class=\"col_heading level0 col4\" >applied_load</th>\n",
              "    </tr>\n",
              "  </thead>\n",
              "  <tbody>\n",
              "    <tr>\n",
              "      <th id=\"T_279c5_level0_row0\" class=\"row_heading level0 row0\" >a1</th>\n",
              "      <td id=\"T_279c5_row0_col0\" class=\"data row0 col0\" >1.000000</td>\n",
              "      <td id=\"T_279c5_row0_col1\" class=\"data row0 col1\" >-0.314108</td>\n",
              "      <td id=\"T_279c5_row0_col2\" class=\"data row0 col2\" >-0.011019</td>\n",
              "      <td id=\"T_279c5_row0_col3\" class=\"data row0 col3\" >-0.197977</td>\n",
              "      <td id=\"T_279c5_row0_col4\" class=\"data row0 col4\" >nan</td>\n",
              "    </tr>\n",
              "    <tr>\n",
              "      <th id=\"T_279c5_level0_row1\" class=\"row_heading level0 row1\" >a2</th>\n",
              "      <td id=\"T_279c5_row1_col0\" class=\"data row1 col0\" >-0.314108</td>\n",
              "      <td id=\"T_279c5_row1_col1\" class=\"data row1 col1\" >1.000000</td>\n",
              "      <td id=\"T_279c5_row1_col2\" class=\"data row1 col2\" >-0.254381</td>\n",
              "      <td id=\"T_279c5_row1_col3\" class=\"data row1 col3\" >0.289166</td>\n",
              "      <td id=\"T_279c5_row1_col4\" class=\"data row1 col4\" >nan</td>\n",
              "    </tr>\n",
              "    <tr>\n",
              "      <th id=\"T_279c5_level0_row2\" class=\"row_heading level0 row2\" >a3</th>\n",
              "      <td id=\"T_279c5_row2_col0\" class=\"data row2 col0\" >-0.011019</td>\n",
              "      <td id=\"T_279c5_row2_col1\" class=\"data row2 col1\" >-0.254381</td>\n",
              "      <td id=\"T_279c5_row2_col2\" class=\"data row2 col2\" >1.000000</td>\n",
              "      <td id=\"T_279c5_row2_col3\" class=\"data row2 col3\" >-0.072557</td>\n",
              "      <td id=\"T_279c5_row2_col4\" class=\"data row2 col4\" >nan</td>\n",
              "    </tr>\n",
              "    <tr>\n",
              "      <th id=\"T_279c5_level0_row3\" class=\"row_heading level0 row3\" >a4</th>\n",
              "      <td id=\"T_279c5_row3_col0\" class=\"data row3 col0\" >-0.197977</td>\n",
              "      <td id=\"T_279c5_row3_col1\" class=\"data row3 col1\" >0.289166</td>\n",
              "      <td id=\"T_279c5_row3_col2\" class=\"data row3 col2\" >-0.072557</td>\n",
              "      <td id=\"T_279c5_row3_col3\" class=\"data row3 col3\" >1.000000</td>\n",
              "      <td id=\"T_279c5_row3_col4\" class=\"data row3 col4\" >nan</td>\n",
              "    </tr>\n",
              "    <tr>\n",
              "      <th id=\"T_279c5_level0_row4\" class=\"row_heading level0 row4\" >applied_load</th>\n",
              "      <td id=\"T_279c5_row4_col0\" class=\"data row4 col0\" >nan</td>\n",
              "      <td id=\"T_279c5_row4_col1\" class=\"data row4 col1\" >nan</td>\n",
              "      <td id=\"T_279c5_row4_col2\" class=\"data row4 col2\" >nan</td>\n",
              "      <td id=\"T_279c5_row4_col3\" class=\"data row4 col3\" >nan</td>\n",
              "      <td id=\"T_279c5_row4_col4\" class=\"data row4 col4\" >nan</td>\n",
              "    </tr>\n",
              "  </tbody>\n",
              "</table>\n"
            ]
          },
          "metadata": {},
          "execution_count": 11
        }
      ]
    },
    {
      "cell_type": "code",
      "source": [
        "!pip install tsfel"
      ],
      "metadata": {
        "colab": {
          "base_uri": "https://localhost:8080/"
        },
        "id": "5a1RTlcgQUsc",
        "outputId": "7d32b92f-0c76-474b-ca38-c20a10b8012f"
      },
      "execution_count": 12,
      "outputs": [
        {
          "output_type": "stream",
          "name": "stdout",
          "text": [
            "Looking in indexes: https://pypi.org/simple, https://us-python.pkg.dev/colab-wheels/public/simple/\n",
            "Collecting tsfel\n",
            "  Downloading tsfel-0.1.4-py3-none-any.whl (46 kB)\n",
            "\u001b[K     |████████████████████████████████| 46 kB 2.3 MB/s \n",
            "\u001b[?25hRequirement already satisfied: Sphinx>=1.8.5 in /usr/local/lib/python3.7/dist-packages (from tsfel) (1.8.6)\n",
            "Requirement already satisfied: ipython>=7.4.0 in /usr/local/lib/python3.7/dist-packages (from tsfel) (7.9.0)\n",
            "Requirement already satisfied: pandas>=0.25.3 in /usr/local/lib/python3.7/dist-packages (from tsfel) (1.3.5)\n",
            "Requirement already satisfied: gspread>=3.1.0 in /usr/local/lib/python3.7/dist-packages (from tsfel) (3.4.2)\n",
            "Requirement already satisfied: numpy>=1.18.5 in /usr/local/lib/python3.7/dist-packages (from tsfel) (1.21.6)\n",
            "Requirement already satisfied: scipy>=1.5.1 in /usr/local/lib/python3.7/dist-packages (from tsfel) (1.7.3)\n",
            "Requirement already satisfied: setuptools>=47.1.1 in /usr/local/lib/python3.7/dist-packages (from tsfel) (57.4.0)\n",
            "Requirement already satisfied: oauth2client>=4.1.3 in /usr/local/lib/python3.7/dist-packages (from tsfel) (4.1.3)\n",
            "Requirement already satisfied: google-auth in /usr/local/lib/python3.7/dist-packages (from gspread>=3.1.0->tsfel) (1.35.0)\n",
            "Requirement already satisfied: requests>=2.2.1 in /usr/local/lib/python3.7/dist-packages (from gspread>=3.1.0->tsfel) (2.23.0)\n",
            "Requirement already satisfied: decorator in /usr/local/lib/python3.7/dist-packages (from ipython>=7.4.0->tsfel) (4.4.2)\n",
            "Requirement already satisfied: pickleshare in /usr/local/lib/python3.7/dist-packages (from ipython>=7.4.0->tsfel) (0.7.5)\n",
            "Requirement already satisfied: traitlets>=4.2 in /usr/local/lib/python3.7/dist-packages (from ipython>=7.4.0->tsfel) (5.1.1)\n",
            "Requirement already satisfied: prompt-toolkit<2.1.0,>=2.0.0 in /usr/local/lib/python3.7/dist-packages (from ipython>=7.4.0->tsfel) (2.0.10)\n",
            "Collecting jedi>=0.10\n",
            "  Downloading jedi-0.18.1-py2.py3-none-any.whl (1.6 MB)\n",
            "\u001b[K     |████████████████████████████████| 1.6 MB 7.6 MB/s \n",
            "\u001b[?25hRequirement already satisfied: pygments in /usr/local/lib/python3.7/dist-packages (from ipython>=7.4.0->tsfel) (2.6.1)\n",
            "Requirement already satisfied: backcall in /usr/local/lib/python3.7/dist-packages (from ipython>=7.4.0->tsfel) (0.2.0)\n",
            "Requirement already satisfied: pexpect in /usr/local/lib/python3.7/dist-packages (from ipython>=7.4.0->tsfel) (4.8.0)\n",
            "Requirement already satisfied: parso<0.9.0,>=0.8.0 in /usr/local/lib/python3.7/dist-packages (from jedi>=0.10->ipython>=7.4.0->tsfel) (0.8.3)\n",
            "Requirement already satisfied: rsa>=3.1.4 in /usr/local/lib/python3.7/dist-packages (from oauth2client>=4.1.3->tsfel) (4.9)\n",
            "Requirement already satisfied: pyasn1-modules>=0.0.5 in /usr/local/lib/python3.7/dist-packages (from oauth2client>=4.1.3->tsfel) (0.2.8)\n",
            "Requirement already satisfied: pyasn1>=0.1.7 in /usr/local/lib/python3.7/dist-packages (from oauth2client>=4.1.3->tsfel) (0.4.8)\n",
            "Requirement already satisfied: six>=1.6.1 in /usr/local/lib/python3.7/dist-packages (from oauth2client>=4.1.3->tsfel) (1.15.0)\n",
            "Requirement already satisfied: httplib2>=0.9.1 in /usr/local/lib/python3.7/dist-packages (from oauth2client>=4.1.3->tsfel) (0.17.4)\n",
            "Requirement already satisfied: pytz>=2017.3 in /usr/local/lib/python3.7/dist-packages (from pandas>=0.25.3->tsfel) (2022.5)\n",
            "Requirement already satisfied: python-dateutil>=2.7.3 in /usr/local/lib/python3.7/dist-packages (from pandas>=0.25.3->tsfel) (2.8.2)\n",
            "Requirement already satisfied: wcwidth in /usr/local/lib/python3.7/dist-packages (from prompt-toolkit<2.1.0,>=2.0.0->ipython>=7.4.0->tsfel) (0.2.5)\n",
            "Requirement already satisfied: certifi>=2017.4.17 in /usr/local/lib/python3.7/dist-packages (from requests>=2.2.1->gspread>=3.1.0->tsfel) (2022.9.24)\n",
            "Requirement already satisfied: urllib3!=1.25.0,!=1.25.1,<1.26,>=1.21.1 in /usr/local/lib/python3.7/dist-packages (from requests>=2.2.1->gspread>=3.1.0->tsfel) (1.24.3)\n",
            "Requirement already satisfied: idna<3,>=2.5 in /usr/local/lib/python3.7/dist-packages (from requests>=2.2.1->gspread>=3.1.0->tsfel) (2.10)\n",
            "Requirement already satisfied: chardet<4,>=3.0.2 in /usr/local/lib/python3.7/dist-packages (from requests>=2.2.1->gspread>=3.1.0->tsfel) (3.0.4)\n",
            "Requirement already satisfied: docutils<0.18,>=0.11 in /usr/local/lib/python3.7/dist-packages (from Sphinx>=1.8.5->tsfel) (0.17.1)\n",
            "Requirement already satisfied: snowballstemmer>=1.1 in /usr/local/lib/python3.7/dist-packages (from Sphinx>=1.8.5->tsfel) (2.2.0)\n",
            "Requirement already satisfied: alabaster<0.8,>=0.7 in /usr/local/lib/python3.7/dist-packages (from Sphinx>=1.8.5->tsfel) (0.7.12)\n",
            "Requirement already satisfied: imagesize in /usr/local/lib/python3.7/dist-packages (from Sphinx>=1.8.5->tsfel) (1.4.1)\n",
            "Requirement already satisfied: babel!=2.0,>=1.3 in /usr/local/lib/python3.7/dist-packages (from Sphinx>=1.8.5->tsfel) (2.10.3)\n",
            "Requirement already satisfied: sphinxcontrib-websupport in /usr/local/lib/python3.7/dist-packages (from Sphinx>=1.8.5->tsfel) (1.2.4)\n",
            "Requirement already satisfied: Jinja2>=2.3 in /usr/local/lib/python3.7/dist-packages (from Sphinx>=1.8.5->tsfel) (2.11.3)\n",
            "Requirement already satisfied: packaging in /usr/local/lib/python3.7/dist-packages (from Sphinx>=1.8.5->tsfel) (21.3)\n",
            "Requirement already satisfied: MarkupSafe>=0.23 in /usr/local/lib/python3.7/dist-packages (from Jinja2>=2.3->Sphinx>=1.8.5->tsfel) (2.0.1)\n",
            "Requirement already satisfied: cachetools<5.0,>=2.0.0 in /usr/local/lib/python3.7/dist-packages (from google-auth->gspread>=3.1.0->tsfel) (4.2.4)\n",
            "Requirement already satisfied: pyparsing!=3.0.5,>=2.0.2 in /usr/local/lib/python3.7/dist-packages (from packaging->Sphinx>=1.8.5->tsfel) (3.0.9)\n",
            "Requirement already satisfied: ptyprocess>=0.5 in /usr/local/lib/python3.7/dist-packages (from pexpect->ipython>=7.4.0->tsfel) (0.7.0)\n",
            "Requirement already satisfied: sphinxcontrib-serializinghtml in /usr/local/lib/python3.7/dist-packages (from sphinxcontrib-websupport->Sphinx>=1.8.5->tsfel) (1.1.5)\n",
            "Installing collected packages: jedi, tsfel\n",
            "Successfully installed jedi-0.18.1 tsfel-0.1.4\n"
          ]
        }
      ]
    },
    {
      "cell_type": "code",
      "source": [
        "import tsfel"
      ],
      "metadata": {
        "id": "AHFSKX2-vU8p"
      },
      "execution_count": 13,
      "outputs": []
    },
    {
      "cell_type": "code",
      "source": [
        "cfg_file = tsfel.get_features_by_domain()"
      ],
      "metadata": {
        "id": "y3b68vJMvwdM"
      },
      "execution_count": 14,
      "outputs": []
    },
    {
      "cell_type": "code",
      "source": [
        "main_df_healthy = tsfel.time_series_features_extractor(cfg_file, healthy_df[[\"a1\", \"a2\", \"a3\", \"a4\"]], fs=30, window_size=20)"
      ],
      "metadata": {
        "colab": {
          "base_uri": "https://localhost:8080/",
          "height": 122
        },
        "id": "O7NYTCh8v-Nn",
        "outputId": "17f9c252-4f32-4fcf-e0a5-748d715e9865"
      },
      "execution_count": 15,
      "outputs": [
        {
          "output_type": "stream",
          "name": "stdout",
          "text": [
            "*** Feature extraction started ***\n"
          ]
        },
        {
          "output_type": "display_data",
          "data": {
            "text/plain": [
              "<IPython.core.display.HTML object>"
            ],
            "text/html": [
              "\n",
              "              <p>\n",
              "                  Progress: 100% Complete\n",
              "              <p/>            \n",
              "              <progress\n",
              "                  value='5542'\n",
              "                  max='5542',\n",
              "                  style='width: 25%',\n",
              "              >\n",
              "                  5542\n",
              "              </progress>\n",
              "\n",
              "    "
            ]
          },
          "metadata": {}
        },
        {
          "output_type": "stream",
          "name": "stdout",
          "text": [
            "\n",
            "*** Feature extraction finished ***\n"
          ]
        }
      ]
    },
    {
      "cell_type": "code",
      "source": [
        "main_df_healthy[\"failure_label\"] = np.zeros((main_df_healthy.shape[0], 1))  # Add label at end of df."
      ],
      "metadata": {
        "id": "fkgyDP7YwXgu"
      },
      "execution_count": 16,
      "outputs": []
    },
    {
      "cell_type": "code",
      "source": [
        "main_df_healthy.shape"
      ],
      "metadata": {
        "colab": {
          "base_uri": "https://localhost:8080/"
        },
        "id": "DbY4n5SVFk9G",
        "outputId": "43fdbce7-eaca-4feb-9f2d-a85d1b31ab2f"
      },
      "execution_count": 17,
      "outputs": [
        {
          "output_type": "execute_result",
          "data": {
            "text/plain": [
              "(5542, 581)"
            ]
          },
          "metadata": {},
          "execution_count": 17
        }
      ]
    },
    {
      "cell_type": "code",
      "source": [
        "main_df_broken = tsfel.time_series_features_extractor(cfg_file, broken_df[[\"a1\", \"a2\", \"a3\", \"a4\"]], fs=30, window_size=20)"
      ],
      "metadata": {
        "colab": {
          "base_uri": "https://localhost:8080/",
          "height": 122
        },
        "id": "6iO8ZQNtz8Hn",
        "outputId": "f8662bac-260e-48c9-ea5a-7424afb8589d"
      },
      "execution_count": 18,
      "outputs": [
        {
          "output_type": "stream",
          "name": "stdout",
          "text": [
            "*** Feature extraction started ***\n"
          ]
        },
        {
          "output_type": "display_data",
          "data": {
            "text/plain": [
              "<IPython.core.display.HTML object>"
            ],
            "text/html": [
              "\n",
              "              <p>\n",
              "                  Progress: 100% Complete\n",
              "              <p/>            \n",
              "              <progress\n",
              "                  value='4710'\n",
              "                  max='4710',\n",
              "                  style='width: 25%',\n",
              "              >\n",
              "                  4710\n",
              "              </progress>\n",
              "\n",
              "    "
            ]
          },
          "metadata": {}
        },
        {
          "output_type": "stream",
          "name": "stdout",
          "text": [
            "\n",
            "*** Feature extraction finished ***\n"
          ]
        }
      ]
    },
    {
      "cell_type": "code",
      "source": [
        "main_df_broken[\"failure_label\"] = np.ones((main_df_broken.shape[0], 1))"
      ],
      "metadata": {
        "id": "ImUkzQTi71Pi"
      },
      "execution_count": 19,
      "outputs": []
    },
    {
      "cell_type": "code",
      "source": [
        "main_df_broken.shape"
      ],
      "metadata": {
        "colab": {
          "base_uri": "https://localhost:8080/"
        },
        "id": "x6ftI3asIFiq",
        "outputId": "3294d44e-e600-4305-cccb-3e7d5c948b4b"
      },
      "execution_count": 20,
      "outputs": [
        {
          "output_type": "execute_result",
          "data": {
            "text/plain": [
              "(4710, 581)"
            ]
          },
          "metadata": {},
          "execution_count": 20
        }
      ]
    },
    {
      "cell_type": "code",
      "source": [
        "# Combine both main_df into final_df.\n",
        "final_df = pd.concat([main_df_healthy, main_df_broken], axis=0, ignore_index=True)\n",
        "final_df.to_csv(\"final_df.csv\", index=False)"
      ],
      "metadata": {
        "id": "GOEenSRf8KE_"
      },
      "execution_count": 21,
      "outputs": []
    },
    {
      "cell_type": "code",
      "source": [],
      "metadata": {
        "id": "zwdypPP18cnn"
      },
      "execution_count": null,
      "outputs": []
    },
    {
      "cell_type": "code",
      "source": [
        "# Splitting the dataset into train and test set.\n",
        "from sklearn.model_selection import train_test_split"
      ],
      "metadata": {
        "id": "052D8Une8lrZ"
      },
      "execution_count": 22,
      "outputs": []
    },
    {
      "cell_type": "code",
      "source": [
        "X = final_df.drop(\"failure_label\", axis=1)\n",
        "y = final_df.failure_label"
      ],
      "metadata": {
        "id": "38h5YK1C8ssm"
      },
      "execution_count": 23,
      "outputs": []
    },
    {
      "cell_type": "code",
      "source": [
        "X_train, X_test, y_train, y_test = train_test_split(X, y, test_size=0.30, random_state=100)"
      ],
      "metadata": {
        "id": "bpOnIlLM85ht"
      },
      "execution_count": 24,
      "outputs": []
    },
    {
      "cell_type": "code",
      "source": [
        "print(\"Shape of X_train:\", X_train.shape)\n",
        "print(\"Shape of X_test:\", X_test.shape)"
      ],
      "metadata": {
        "colab": {
          "base_uri": "https://localhost:8080/"
        },
        "id": "OQ8RfyC387oF",
        "outputId": "435ea0be-4be1-443a-b81c-4485f6dac775"
      },
      "execution_count": 25,
      "outputs": [
        {
          "output_type": "stream",
          "name": "stdout",
          "text": [
            "Shape of X_train: (7176, 580)\n",
            "Shape of X_test: (3076, 580)\n"
          ]
        }
      ]
    },
    {
      "cell_type": "code",
      "source": [
        "# Feature scaling\n",
        "from sklearn.preprocessing import StandardScaler\n",
        "scaler = StandardScaler()"
      ],
      "metadata": {
        "id": "xF1KijFC9f_I"
      },
      "execution_count": 27,
      "outputs": []
    },
    {
      "cell_type": "code",
      "source": [
        "scaler.fit(X_train)"
      ],
      "metadata": {
        "colab": {
          "base_uri": "https://localhost:8080/"
        },
        "id": "St9b4lb6-Gmb",
        "outputId": "5c8e7cbd-d752-4ca6-fe90-5b36ead6628e"
      },
      "execution_count": 28,
      "outputs": [
        {
          "output_type": "execute_result",
          "data": {
            "text/plain": [
              "StandardScaler()"
            ]
          },
          "metadata": {},
          "execution_count": 28
        }
      ]
    },
    {
      "cell_type": "code",
      "source": [
        "scaled_X_train_df = pd.DataFrame(scaler.transform(X_train), columns=X_train.columns)"
      ],
      "metadata": {
        "id": "mcwErig6-QPi"
      },
      "execution_count": 29,
      "outputs": []
    },
    {
      "cell_type": "code",
      "source": [
        "# Extract the best features from the entire feature set.\n",
        "x1 = X\n",
        "y = final_df.failure_label\n",
        "df_correlated_features = tsfel.correlated_features(x1)\n",
        "x1.drop(df_correlated_features, axis=1, inplace=True)\n",
        "print(\"Shape of x1:\", x1.shape)"
      ],
      "metadata": {
        "colab": {
          "base_uri": "https://localhost:8080/"
        },
        "id": "gNt8otiH-a8a",
        "outputId": "51302cd4-3c7b-4ed6-dcec-b3ffec1b3bfc"
      },
      "execution_count": 30,
      "outputs": [
        {
          "output_type": "stream",
          "name": "stdout",
          "text": [
            "Shape of x1: (10252, 399)\n"
          ]
        }
      ]
    },
    {
      "cell_type": "code",
      "source": [
        "# Using ML to extract the best features.\n",
        "from sklearn.feature_selection import RFECV\n",
        "from sklearn.svm import SVC\n",
        "from sklearn.model_selection import StratifiedKFold, KFold"
      ],
      "metadata": {
        "id": "4HCMBjC3BcKK"
      },
      "execution_count": 31,
      "outputs": []
    },
    {
      "cell_type": "code",
      "source": [
        "rfecv = RFECV(estimator=SVC(kernel=\"linear\"), step=1, cv=StratifiedKFold(4),\n",
        "              scoring=\"accuracy\")"
      ],
      "metadata": {
        "id": "s-d7D7tiBrNU"
      },
      "execution_count": 32,
      "outputs": []
    },
    {
      "cell_type": "code",
      "source": [
        "rfetrain = rfecv.fit(x1, y)"
      ],
      "metadata": {
        "id": "Yx_825T4CaAv"
      },
      "execution_count": 33,
      "outputs": []
    },
    {
      "cell_type": "code",
      "source": [
        "print(\"Number of optimal features:\", rfecv.n_features_)"
      ],
      "metadata": {
        "colab": {
          "base_uri": "https://localhost:8080/"
        },
        "id": "HQUnm0vdCe2r",
        "outputId": "84963f9f-d8a4-4e5c-8527-965bea6da488"
      },
      "execution_count": 34,
      "outputs": [
        {
          "output_type": "stream",
          "name": "stdout",
          "text": [
            "Number of optimal features: 68\n"
          ]
        }
      ]
    },
    {
      "cell_type": "code",
      "source": [
        "# Exporting the optimal features as a csv file for later use.\n",
        "selected_features = x1.iloc[:, rfecv.support_]\n",
        "selected_features.to_csv(\"optimal_final_df.csv\", index=False)"
      ],
      "metadata": {
        "id": "qsI8BbT9DVDq"
      },
      "execution_count": 35,
      "outputs": []
    },
    {
      "cell_type": "code",
      "source": [
        "# Plot for RFECV\n",
        "fig, axes = plt.subplots()\n",
        "fig.set_figwidth(7)\n",
        "fig.set_figheight(7)\n",
        "\n",
        "axes.plot(range(1, len(rfecv.grid_scores_) + 1), rfecv.grid_scores_, \n",
        "          color=\"green\", linewidth=3)\n",
        "plt.show()"
      ],
      "metadata": {
        "colab": {
          "base_uri": "https://localhost:8080/",
          "height": 463
        },
        "id": "DQhN_WqNDsQo",
        "outputId": "ce5797f7-a2ae-4c12-a833-d9eefaa27a94"
      },
      "execution_count": 37,
      "outputs": [
        {
          "output_type": "stream",
          "name": "stderr",
          "text": [
            "/usr/local/lib/python3.7/dist-packages/sklearn/utils/deprecation.py:103: FutureWarning: The `grid_scores_` attribute is deprecated in version 1.0 in favor of `cv_results_` and will be removed in version 1.2.\n",
            "  warnings.warn(msg, category=FutureWarning)\n"
          ]
        },
        {
          "output_type": "display_data",
          "data": {
            "text/plain": [
              "<Figure size 504x504 with 1 Axes>"
            ],
            "image/png": "[encoded data removed]"
          },
          "metadata": {
            "needs_background": "light"
          }
        }
      ]
    },
    {
      "cell_type": "code",
      "source": [
        "# Start building the classification model."
      ],
      "metadata": {
        "id": "H6EFpoHORPoQ"
      },
      "execution_count": null,
      "outputs": []
    },
    {
      "cell_type": "code",
      "source": [
        "optimal_df_url = \"https://raw.githubusercontent.com/CS-Chinmay10/DMMS_Gearbox-fault-diagnosis-dataset/main/optimal_final_df.csv\""
      ],
      "metadata": {
        "id": "ao9SZfctEip4"
      },
      "execution_count": 54,
      "outputs": []
    },
    {
      "cell_type": "code",
      "source": [
        "optimal_df = pd.read_csv(optimal_df_url, header=0)  # Contains only features\n",
        "optimal_df.reset_index(inplace=True, drop=True)"
      ],
      "metadata": {
        "id": "TZBkLvhtRuTG"
      },
      "execution_count": 55,
      "outputs": []
    },
    {
      "cell_type": "code",
      "source": [
        "y = final_df.failure_label  # Label: 0 - Healthy, 1 - BrokenTooth"
      ],
      "metadata": {
        "id": "aNXBnxyBSB5U"
      },
      "execution_count": 56,
      "outputs": []
    },
    {
      "cell_type": "code",
      "source": [
        "X_train_optimal, X_test_optimal, y_train_optimal, y_test_optimal = train_test_split(\n",
        "    optimal_df, y, test_size=0.3, random_state=100\n",
        ")"
      ],
      "metadata": {
        "id": "JI4QmWlIWDww"
      },
      "execution_count": 57,
      "outputs": []
    },
    {
      "cell_type": "code",
      "source": [
        "# Apply feature scaling\n",
        "scaler1 = StandardScaler()"
      ],
      "metadata": {
        "id": "PP-LtTx3XVMY"
      },
      "execution_count": 59,
      "outputs": []
    },
    {
      "cell_type": "code",
      "source": [
        "scaler1.fit(X_train_optimal)"
      ],
      "metadata": {
        "colab": {
          "base_uri": "https://localhost:8080/"
        },
        "id": "dCOAEJhrXweA",
        "outputId": "ac5f71eb-4387-4c24-9e17-e60b01e68ec6"
      },
      "execution_count": 60,
      "outputs": [
        {
          "output_type": "execute_result",
          "data": {
            "text/plain": [
              "StandardScaler()"
            ]
          },
          "metadata": {},
          "execution_count": 60
        }
      ]
    },
    {
      "cell_type": "code",
      "source": [
        "scaled_X_train_optimal = pd.DataFrame(scaler1.transform(X_train_optimal), columns=X_train_optimal.columns)"
      ],
      "metadata": {
        "id": "c1bAGayXX0HR"
      },
      "execution_count": 61,
      "outputs": []
    },
    {
      "cell_type": "code",
      "source": [
        "scaled_X_test_optimal = pd.DataFrame(scaler1.transform(X_test_optimal), columns=X_test_optimal.columns)"
      ],
      "metadata": {
        "id": "oXBZX6qgYAsI"
      },
      "execution_count": 63,
      "outputs": []
    },
    {
      "cell_type": "code",
      "source": [
        "scaled_X_train_optimal.head()"
      ],
      "metadata": {
        "colab": {
          "base_uri": "https://localhost:8080/",
          "height": 334
        },
        "id": "v8AjSLM-YNAo",
        "outputId": "da4c59fa-d6e7-4c0a-bc1b-37c7bce74b2c"
      },
      "execution_count": 67,
      "outputs": [
        {
          "output_type": "execute_result",
          "data": {
            "text/plain": [
              "   0_FFT mean coefficient_1  0_FFT mean coefficient_2  \\\n",
              "0                  1.937855                  0.775222   \n",
              "1                  2.463975                  0.046537   \n",
              "2                 -0.601632                 -0.674382   \n",
              "3                  7.173622                  7.435461   \n",
              "4                 -0.634001                  0.570619   \n",
              "\n",
              "   0_FFT mean coefficient_3  0_FFT mean coefficient_4  \\\n",
              "0                 -0.207503                 -0.021783   \n",
              "1                 -0.452737                 -0.496094   \n",
              "2                 -0.535537                 -0.465822   \n",
              "3                 -0.313966                 -0.395136   \n",
              "4                 -0.556254                 -0.515678   \n",
              "\n",
              "   0_FFT mean coefficient_5  0_Histogram_2  0_Histogram_5  0_Histogram_8  \\\n",
              "0                 -0.354873      -0.547282      -0.550943      -0.534645   \n",
              "1                 -0.505065      -0.547282      -0.550943      -0.534645   \n",
              "2                 -0.126242       2.903769      -0.550943       3.035955   \n",
              "3                 -0.503304      -0.547282      -0.550943      -0.534645   \n",
              "4                 -0.502625      -0.547282      -0.550943      -0.534645   \n",
              "\n",
              "   0_LPCC_6  0_Mean absolute diff  ...  3_Histogram_7  3_LPCC_0  3_LPCC_1  \\\n",
              "0 -1.221192              0.878755  ...      -0.623177 -1.164132 -1.655143   \n",
              "1 -0.180890             -0.798341  ...      -0.623177 -0.019909  1.943159   \n",
              "2  0.162368             -0.776520  ...       0.875455 -0.311002  1.232178   \n",
              "3 -0.951640              0.055176  ...      -0.623177 -0.721595  0.448687   \n",
              "4  0.011483             -0.481187  ...      -0.623177 -0.401030 -0.728905   \n",
              "\n",
              "   3_Mean absolute diff  3_Median absolute diff  3_Spectral kurtosis  \\\n",
              "0              2.478377                3.213810            -0.915064   \n",
              "1             -0.250521                0.054151             3.071223   \n",
              "2             -1.503545               -1.359160             1.053828   \n",
              "3              1.094166                1.006079             0.812997   \n",
              "4             -0.728026               -0.824544            -1.299975   \n",
              "\n",
              "   3_Spectral skewness  3_Wavelet energy_2  3_Wavelet energy_3  \\\n",
              "0            -2.187701            1.366079            1.971370   \n",
              "1             2.715172            1.700520            1.340225   \n",
              "2             2.088573           -0.627637           -0.297449   \n",
              "3             0.470869            0.986943            1.298572   \n",
              "4            -1.161763           -1.156642           -1.045322   \n",
              "\n",
              "   3_Zero crossing rate  \n",
              "0              1.716527  \n",
              "1             -0.881726  \n",
              "2              0.677226  \n",
              "3             -0.362075  \n",
              "4              1.196876  \n",
              "\n",
              "[5 rows x 68 columns]"
            ],
            "text/html": [
              "\n",
              "  <div id=\"df-af3014a8-58bc-4a12-9857-40e3f5244eee\">\n",
              "    <div class=\"colab-df-container\">\n",
              "      <div>\n",
              "<style scoped>\n",
              "    .dataframe tbody tr th:only-of-type {\n",
              "        vertical-align: middle;\n",
              "    }\n",
              "\n",
              "    .dataframe tbody tr th {\n",
              "        vertical-align: top;\n",
              "    }\n",
              "\n",
              "    .dataframe thead th {\n",
              "        text-align: right;\n",
              "    }\n",
              "</style>\n",
              "<table border=\"1\" class=\"dataframe\">\n",
              "  <thead>\n",
              "    <tr style=\"text-align: right;\">\n",
              "      <th></th>\n",
              "      <th>0_FFT mean coefficient_1</th>\n",
              "      <th>0_FFT mean coefficient_2</th>\n",
              "      <th>0_FFT mean coefficient_3</th>\n",
              "      <th>0_FFT mean coefficient_4</th>\n",
              "      <th>0_FFT mean coefficient_5</th>\n",
              "      <th>0_Histogram_2</th>\n",
              "      <th>0_Histogram_5</th>\n",
              "      <th>0_Histogram_8</th>\n",
              "      <th>0_LPCC_6</th>\n",
              "      <th>0_Mean absolute diff</th>\n",
              "      <th>...</th>\n",
              "      <th>3_Histogram_7</th>\n",
              "      <th>3_LPCC_0</th>\n",
              "      <th>3_LPCC_1</th>\n",
              "      <th>3_Mean absolute diff</th>\n",
              "      <th>3_Median absolute diff</th>\n",
              "      <th>3_Spectral kurtosis</th>\n",
              "      <th>3_Spectral skewness</th>\n",
              "      <th>3_Wavelet energy_2</th>\n",
              "      <th>3_Wavelet energy_3</th>\n",
              "      <th>3_Zero crossing rate</th>\n",
              "    </tr>\n",
              "  </thead>\n",
              "  <tbody>\n",
              "    <tr>\n",
              "      <th>0</th>\n",
              "      <td>1.937855</td>\n",
              "      <td>0.775222</td>\n",
              "      <td>-0.207503</td>\n",
              "      <td>-0.021783</td>\n",
              "      <td>-0.354873</td>\n",
              "      <td>-0.547282</td>\n",
              "      <td>-0.550943</td>\n",
              "      <td>-0.534645</td>\n",
              "      <td>-1.221192</td>\n",
              "      <td>0.878755</td>\n",
              "      <td>...</td>\n",
              "      <td>-0.623177</td>\n",
              "      <td>-1.164132</td>\n",
              "      <td>-1.655143</td>\n",
              "      <td>2.478377</td>\n",
              "      <td>3.213810</td>\n",
              "      <td>-0.915064</td>\n",
              "      <td>-2.187701</td>\n",
              "      <td>1.366079</td>\n",
              "      <td>1.971370</td>\n",
              "      <td>1.716527</td>\n",
              "    </tr>\n",
              "    <tr>\n",
              "      <th>1</th>\n",
              "      <td>2.463975</td>\n",
              "      <td>0.046537</td>\n",
              "      <td>-0.452737</td>\n",
              "      <td>-0.496094</td>\n",
              "      <td>-0.505065</td>\n",
              "      <td>-0.547282</td>\n",
              "      <td>-0.550943</td>\n",
              "      <td>-0.534645</td>\n",
              "      <td>-0.180890</td>\n",
              "      <td>-0.798341</td>\n",
              "      <td>...</td>\n",
              "      <td>-0.623177</td>\n",
              "      <td>-0.019909</td>\n",
              "      <td>1.943159</td>\n",
              "      <td>-0.250521</td>\n",
              "      <td>0.054151</td>\n",
              "      <td>3.071223</td>\n",
              "      <td>2.715172</td>\n",
              "      <td>1.700520</td>\n",
              "      <td>1.340225</td>\n",
              "      <td>-0.881726</td>\n",
              "    </tr>\n",
              "    <tr>\n",
              "      <th>2</th>\n",
              "      <td>-0.601632</td>\n",
              "      <td>-0.674382</td>\n",
              "      <td>-0.535537</td>\n",
              "      <td>-0.465822</td>\n",
              "      <td>-0.126242</td>\n",
              "      <td>2.903769</td>\n",
              "      <td>-0.550943</td>\n",
              "      <td>3.035955</td>\n",
              "      <td>0.162368</td>\n",
              "      <td>-0.776520</td>\n",
              "      <td>...</td>\n",
              "      <td>0.875455</td>\n",
              "      <td>-0.311002</td>\n",
              "      <td>1.232178</td>\n",
              "      <td>-1.503545</td>\n",
              "      <td>-1.359160</td>\n",
              "      <td>1.053828</td>\n",
              "      <td>2.088573</td>\n",
              "      <td>-0.627637</td>\n",
              "      <td>-0.297449</td>\n",
              "      <td>0.677226</td>\n",
              "    </tr>\n",
              "    <tr>\n",
              "      <th>3</th>\n",
              "      <td>7.173622</td>\n",
              "      <td>7.435461</td>\n",
              "      <td>-0.313966</td>\n",
              "      <td>-0.395136</td>\n",
              "      <td>-0.503304</td>\n",
              "      <td>-0.547282</td>\n",
              "      <td>-0.550943</td>\n",
              "      <td>-0.534645</td>\n",
              "      <td>-0.951640</td>\n",
              "      <td>0.055176</td>\n",
              "      <td>...</td>\n",
              "      <td>-0.623177</td>\n",
              "      <td>-0.721595</td>\n",
              "      <td>0.448687</td>\n",
              "      <td>1.094166</td>\n",
              "      <td>1.006079</td>\n",
              "      <td>0.812997</td>\n",
              "      <td>0.470869</td>\n",
              "      <td>0.986943</td>\n",
              "      <td>1.298572</td>\n",
              "      <td>-0.362075</td>\n",
              "    </tr>\n",
              "    <tr>\n",
              "      <th>4</th>\n",
              "      <td>-0.634001</td>\n",
              "      <td>0.570619</td>\n",
              "      <td>-0.556254</td>\n",
              "      <td>-0.515678</td>\n",
              "      <td>-0.502625</td>\n",
              "      <td>-0.547282</td>\n",
              "      <td>-0.550943</td>\n",
              "      <td>-0.534645</td>\n",
              "      <td>0.011483</td>\n",
              "      <td>-0.481187</td>\n",
              "      <td>...</td>\n",
              "      <td>-0.623177</td>\n",
              "      <td>-0.401030</td>\n",
              "      <td>-0.728905</td>\n",
              "      <td>-0.728026</td>\n",
              "      <td>-0.824544</td>\n",
              "      <td>-1.299975</td>\n",
              "      <td>-1.161763</td>\n",
              "      <td>-1.156642</td>\n",
              "      <td>-1.045322</td>\n",
              "      <td>1.196876</td>\n",
              "    </tr>\n",
              "  </tbody>\n",
              "</table>\n",
              "<p>5 rows × 68 columns</p>\n",
              "</div>\n",
              "      <button class=\"colab-df-convert\" onclick=\"convertToInteractive('df-af3014a8-58bc-4a12-9857-40e3f5244eee')\"\n",
              "              title=\"Convert this dataframe to an interactive table.\"\n",
              "              style=\"display:none;\">\n",
              "        \n",
              "  <svg xmlns=\"http://www.w3.org/2000/svg\" height=\"24px\"viewBox=\"0 0 24 24\"\n",
              "       width=\"24px\">\n",
              "    <path d=\"M0 0h24v24H0V0z\" fill=\"none\"/>\n",
              "    <path d=\"M18.56 5.44l.94 2.06.94-2.06 2.06-.94-2.06-.94-.94-2.06-.94 2.06-2.06.94zm-11 1L8.5 8.5l.94-2.06 2.06-.94-2.06-.94L8.5 2.5l-.94 2.06-2.06.94zm10 10l.94 2.06.94-2.06 2.06-.94-2.06-.94-.94-2.06-.94 2.06-2.06.94z\"/><path d=\"M17.41 7.96l-1.37-1.37c-.4-.4-.92-.59-1.43-.59-.52 0-1.04.2-1.43.59L10.3 9.45l-7.72 7.72c-.78.78-.78 2.05 0 2.83L4 21.41c.39.39.9.59 1.41.59.51 0 1.02-.2 1.41-.59l7.78-7.78 2.81-2.81c.8-.78.8-2.07 0-2.86zM5.41 20L4 18.59l7.72-7.72 1.47 1.35L5.41 20z\"/>\n",
              "  </svg>\n",
              "      </button>\n",
              "      \n",
              "  <style>\n",
              "    .colab-df-container {\n",
              "      display:flex;\n",
              "      flex-wrap:wrap;\n",
              "      gap: 12px;\n",
              "    }\n",
              "\n",
              "    .colab-df-convert {\n",
              "      background-color: #E8F0FE;\n",
              "      border: none;\n",
              "      border-radius: 50%;\n",
              "      cursor: pointer;\n",
              "      display: none;\n",
              "      fill: #1967D2;\n",
              "      height: 32px;\n",
              "      padding: 0 0 0 0;\n",
              "      width: 32px;\n",
              "    }\n",
              "\n",
              "    .colab-df-convert:hover {\n",
              "      background-color: #E2EBFA;\n",
              "      box-shadow: 0px 1px 2px rgba(60, 64, 67, 0.3), 0px 1px 3px 1px rgba(60, 64, 67, 0.15);\n",
              "      fill: #174EA6;\n",
              "    }\n",
              "\n",
              "    [theme=dark] .colab-df-convert {\n",
              "      background-color: #3B4455;\n",
              "      fill: #D2E3FC;\n",
              "    }\n",
              "\n",
              "    [theme=dark] .colab-df-convert:hover {\n",
              "      background-color: #434B5C;\n",
              "      box-shadow: 0px 1px 3px 1px rgba(0, 0, 0, 0.15);\n",
              "      filter: drop-shadow(0px 1px 2px rgba(0, 0, 0, 0.3));\n",
              "      fill: #FFFFFF;\n",
              "    }\n",
              "  </style>\n",
              "\n",
              "      <script>\n",
              "        const buttonEl =\n",
              "          document.querySelector('#df-af3014a8-58bc-4a12-9857-40e3f5244eee button.colab-df-convert');\n",
              "        buttonEl.style.display =\n",
              "          google.colab.kernel.accessAllowed ? 'block' : 'none';\n",
              "\n",
              "        async function convertToInteractive(key) {\n",
              "          const element = document.querySelector('#df-af3014a8-58bc-4a12-9857-40e3f5244eee');\n",
              "          const dataTable =\n",
              "            await google.colab.kernel.invokeFunction('convertToInteractive',\n",
              "                                                     [key], {});\n",
              "          if (!dataTable) return;\n",
              "\n",
              "          const docLinkHtml = 'Like what you see? Visit the ' +\n",
              "            '<a target=\"_blank\" href=https://colab.research.google.com/notebooks/data_table.ipynb>data table notebook</a>'\n",
              "            + ' to learn more about interactive tables.';\n",
              "          element.innerHTML = '';\n",
              "          dataTable['output_type'] = 'display_data';\n",
              "          await google.colab.output.renderOutput(dataTable, element);\n",
              "          const docLink = document.createElement('div');\n",
              "          docLink.innerHTML = docLinkHtml;\n",
              "          element.appendChild(docLink);\n",
              "        }\n",
              "      </script>\n",
              "    </div>\n",
              "  </div>\n",
              "  "
            ]
          },
          "metadata": {},
          "execution_count": 67
        }
      ]
    },
    {
      "cell_type": "code",
      "source": [
        "scaled_X_test_optimal.head()"
      ],
      "metadata": {
        "colab": {
          "base_uri": "https://localhost:8080/",
          "height": 334
        },
        "id": "jF2Nca7pYSGf",
        "outputId": "199547d2-06e5-436a-d6fb-8c5c00dc9a04"
      },
      "execution_count": 68,
      "outputs": [
        {
          "output_type": "execute_result",
          "data": {
            "text/plain": [
              "   0_FFT mean coefficient_1  0_FFT mean coefficient_2  \\\n",
              "0                 -0.615865                 -0.564857   \n",
              "1                 -0.694057                 -0.541895   \n",
              "2                 -0.675247                  0.469088   \n",
              "3                  0.304504                 -0.401686   \n",
              "4                 -0.297214                 -0.415561   \n",
              "\n",
              "   0_FFT mean coefficient_3  0_FFT mean coefficient_4  \\\n",
              "0                  0.518000                 -0.485667   \n",
              "1                 -0.369317                 -0.496068   \n",
              "2                  1.679617                 -0.246453   \n",
              "3                 -0.559494                  0.414535   \n",
              "4                  1.150910                 -0.421528   \n",
              "\n",
              "   0_FFT mean coefficient_5  0_Histogram_2  0_Histogram_5  0_Histogram_8  \\\n",
              "0                 -0.397379      -0.547282      -0.550943      -0.534645   \n",
              "1                  0.063937      -0.547282      -0.550943      -0.534645   \n",
              "2                 -0.430847      -0.547282      -0.550943      -0.534645   \n",
              "3                  0.318229      -0.547282       1.156124      -0.534645   \n",
              "4                 -0.405975       1.178244      -0.550943      -0.534645   \n",
              "\n",
              "   0_LPCC_6  0_Mean absolute diff  ...  3_Histogram_7  3_LPCC_0  3_LPCC_1  \\\n",
              "0  0.707769             -0.824965  ...      -0.623177 -0.374995  0.638113   \n",
              "1 -0.069631             -0.430262  ...      -0.623177 -1.213049  0.694857   \n",
              "2  1.880417              1.786035  ...      -0.623177  1.562603 -0.884865   \n",
              "3  0.315604              1.086893  ...      -0.623177 -0.558536  1.239462   \n",
              "4  1.951621             -0.451138  ...       2.374086 -0.637068 -0.702485   \n",
              "\n",
              "   3_Mean absolute diff  3_Median absolute diff  3_Spectral kurtosis  \\\n",
              "0             -0.902547               -1.079842            -0.731382   \n",
              "1             -0.855896               -0.919459             0.140002   \n",
              "2              0.989423                0.940755            -0.511964   \n",
              "3             -0.936759               -0.801150             2.679604   \n",
              "4             -0.228921               -0.425670             0.139364   \n",
              "\n",
              "   3_Spectral skewness  3_Wavelet energy_2  3_Wavelet energy_3  \\\n",
              "0            -0.019261           -0.587512           -0.559209   \n",
              "1             1.093993           -0.190553           -0.332912   \n",
              "2            -0.653537            0.537631            0.790927   \n",
              "3             3.143983            2.601544            3.533628   \n",
              "4             0.290972           -0.559803           -1.058349   \n",
              "\n",
              "   3_Zero crossing rate  \n",
              "0              0.157575  \n",
              "1             -0.881726  \n",
              "2              1.196876  \n",
              "3             -1.401376  \n",
              "4             -0.362075  \n",
              "\n",
              "[5 rows x 68 columns]"
            ],
            "text/html": [
              "\n",
              "  <div id=\"df-cc0b388a-bda6-4832-aa22-425f316339af\">\n",
              "    <div class=\"colab-df-container\">\n",
              "      <div>\n",
              "<style scoped>\n",
              "    .dataframe tbody tr th:only-of-type {\n",
              "        vertical-align: middle;\n",
              "    }\n",
              "\n",
              "    .dataframe tbody tr th {\n",
              "        vertical-align: top;\n",
              "    }\n",
              "\n",
              "    .dataframe thead th {\n",
              "        text-align: right;\n",
              "    }\n",
              "</style>\n",
              "<table border=\"1\" class=\"dataframe\">\n",
              "  <thead>\n",
              "    <tr style=\"text-align: right;\">\n",
              "      <th></th>\n",
              "      <th>0_FFT mean coefficient_1</th>\n",
              "      <th>0_FFT mean coefficient_2</th>\n",
              "      <th>0_FFT mean coefficient_3</th>\n",
              "      <th>0_FFT mean coefficient_4</th>\n",
              "      <th>0_FFT mean coefficient_5</th>\n",
              "      <th>0_Histogram_2</th>\n",
              "      <th>0_Histogram_5</th>\n",
              "      <th>0_Histogram_8</th>\n",
              "      <th>0_LPCC_6</th>\n",
              "      <th>0_Mean absolute diff</th>\n",
              "      <th>...</th>\n",
              "      <th>3_Histogram_7</th>\n",
              "      <th>3_LPCC_0</th>\n",
              "      <th>3_LPCC_1</th>\n",
              "      <th>3_Mean absolute diff</th>\n",
              "      <th>3_Median absolute diff</th>\n",
              "      <th>3_Spectral kurtosis</th>\n",
              "      <th>3_Spectral skewness</th>\n",
              "      <th>3_Wavelet energy_2</th>\n",
              "      <th>3_Wavelet energy_3</th>\n",
              "      <th>3_Zero crossing rate</th>\n",
              "    </tr>\n",
              "  </thead>\n",
              "  <tbody>\n",
              "    <tr>\n",
              "      <th>0</th>\n",
              "      <td>-0.615865</td>\n",
              "      <td>-0.564857</td>\n",
              "      <td>0.518000</td>\n",
              "      <td>-0.485667</td>\n",
              "      <td>-0.397379</td>\n",
              "      <td>-0.547282</td>\n",
              "      <td>-0.550943</td>\n",
              "      <td>-0.534645</td>\n",
              "      <td>0.707769</td>\n",
              "      <td>-0.824965</td>\n",
              "      <td>...</td>\n",
              "      <td>-0.623177</td>\n",
              "      <td>-0.374995</td>\n",
              "      <td>0.638113</td>\n",
              "      <td>-0.902547</td>\n",
              "      <td>-1.079842</td>\n",
              "      <td>-0.731382</td>\n",
              "      <td>-0.019261</td>\n",
              "      <td>-0.587512</td>\n",
              "      <td>-0.559209</td>\n",
              "      <td>0.157575</td>\n",
              "    </tr>\n",
              "    <tr>\n",
              "      <th>1</th>\n",
              "      <td>-0.694057</td>\n",
              "      <td>-0.541895</td>\n",
              "      <td>-0.369317</td>\n",
              "      <td>-0.496068</td>\n",
              "      <td>0.063937</td>\n",
              "      <td>-0.547282</td>\n",
              "      <td>-0.550943</td>\n",
              "      <td>-0.534645</td>\n",
              "      <td>-0.069631</td>\n",
              "      <td>-0.430262</td>\n",
              "      <td>...</td>\n",
              "      <td>-0.623177</td>\n",
              "      <td>-1.213049</td>\n",
              "      <td>0.694857</td>\n",
              "      <td>-0.855896</td>\n",
              "      <td>-0.919459</td>\n",
              "      <td>0.140002</td>\n",
              "      <td>1.093993</td>\n",
              "      <td>-0.190553</td>\n",
              "      <td>-0.332912</td>\n",
              "      <td>-0.881726</td>\n",
              "    </tr>\n",
              "    <tr>\n",
              "      <th>2</th>\n",
              "      <td>-0.675247</td>\n",
              "      <td>0.469088</td>\n",
              "      <td>1.679617</td>\n",
              "      <td>-0.246453</td>\n",
              "      <td>-0.430847</td>\n",
              "      <td>-0.547282</td>\n",
              "      <td>-0.550943</td>\n",
              "      <td>-0.534645</td>\n",
              "      <td>1.880417</td>\n",
              "      <td>1.786035</td>\n",
              "      <td>...</td>\n",
              "      <td>-0.623177</td>\n",
              "      <td>1.562603</td>\n",
              "      <td>-0.884865</td>\n",
              "      <td>0.989423</td>\n",
              "      <td>0.940755</td>\n",
              "      <td>-0.511964</td>\n",
              "      <td>-0.653537</td>\n",
              "      <td>0.537631</td>\n",
              "      <td>0.790927</td>\n",
              "      <td>1.196876</td>\n",
              "    </tr>\n",
              "    <tr>\n",
              "      <th>3</th>\n",
              "      <td>0.304504</td>\n",
              "      <td>-0.401686</td>\n",
              "      <td>-0.559494</td>\n",
              "      <td>0.414535</td>\n",
              "      <td>0.318229</td>\n",
              "      <td>-0.547282</td>\n",
              "      <td>1.156124</td>\n",
              "      <td>-0.534645</td>\n",
              "      <td>0.315604</td>\n",
              "      <td>1.086893</td>\n",
              "      <td>...</td>\n",
              "      <td>-0.623177</td>\n",
              "      <td>-0.558536</td>\n",
              "      <td>1.239462</td>\n",
              "      <td>-0.936759</td>\n",
              "      <td>-0.801150</td>\n",
              "      <td>2.679604</td>\n",
              "      <td>3.143983</td>\n",
              "      <td>2.601544</td>\n",
              "      <td>3.533628</td>\n",
              "      <td>-1.401376</td>\n",
              "    </tr>\n",
              "    <tr>\n",
              "      <th>4</th>\n",
              "      <td>-0.297214</td>\n",
              "      <td>-0.415561</td>\n",
              "      <td>1.150910</td>\n",
              "      <td>-0.421528</td>\n",
              "      <td>-0.405975</td>\n",
              "      <td>1.178244</td>\n",
              "      <td>-0.550943</td>\n",
              "      <td>-0.534645</td>\n",
              "      <td>1.951621</td>\n",
              "      <td>-0.451138</td>\n",
              "      <td>...</td>\n",
              "      <td>2.374086</td>\n",
              "      <td>-0.637068</td>\n",
              "      <td>-0.702485</td>\n",
              "      <td>-0.228921</td>\n",
              "      <td>-0.425670</td>\n",
              "      <td>0.139364</td>\n",
              "      <td>0.290972</td>\n",
              "      <td>-0.559803</td>\n",
              "      <td>-1.058349</td>\n",
              "      <td>-0.362075</td>\n",
              "    </tr>\n",
              "  </tbody>\n",
              "</table>\n",
              "<p>5 rows × 68 columns</p>\n",
              "</div>\n",
              "      <button class=\"colab-df-convert\" onclick=\"convertToInteractive('df-cc0b388a-bda6-4832-aa22-425f316339af')\"\n",
              "              title=\"Convert this dataframe to an interactive table.\"\n",
              "              style=\"display:none;\">\n",
              "        \n",
              "  <svg xmlns=\"http://www.w3.org/2000/svg\" height=\"24px\"viewBox=\"0 0 24 24\"\n",
              "       width=\"24px\">\n",
              "    <path d=\"M0 0h24v24H0V0z\" fill=\"none\"/>\n",
              "    <path d=\"M18.56 5.44l.94 2.06.94-2.06 2.06-.94-2.06-.94-.94-2.06-.94 2.06-2.06.94zm-11 1L8.5 8.5l.94-2.06 2.06-.94-2.06-.94L8.5 2.5l-.94 2.06-2.06.94zm10 10l.94 2.06.94-2.06 2.06-.94-2.06-.94-.94-2.06-.94 2.06-2.06.94z\"/><path d=\"M17.41 7.96l-1.37-1.37c-.4-.4-.92-.59-1.43-.59-.52 0-1.04.2-1.43.59L10.3 9.45l-7.72 7.72c-.78.78-.78 2.05 0 2.83L4 21.41c.39.39.9.59 1.41.59.51 0 1.02-.2 1.41-.59l7.78-7.78 2.81-2.81c.8-.78.8-2.07 0-2.86zM5.41 20L4 18.59l7.72-7.72 1.47 1.35L5.41 20z\"/>\n",
              "  </svg>\n",
              "      </button>\n",
              "      \n",
              "  <style>\n",
              "    .colab-df-container {\n",
              "      display:flex;\n",
              "      flex-wrap:wrap;\n",
              "      gap: 12px;\n",
              "    }\n",
              "\n",
              "    .colab-df-convert {\n",
              "      background-color: #E8F0FE;\n",
              "      border: none;\n",
              "      border-radius: 50%;\n",
              "      cursor: pointer;\n",
              "      display: none;\n",
              "      fill: #1967D2;\n",
              "      height: 32px;\n",
              "      padding: 0 0 0 0;\n",
              "      width: 32px;\n",
              "    }\n",
              "\n",
              "    .colab-df-convert:hover {\n",
              "      background-color: #E2EBFA;\n",
              "      box-shadow: 0px 1px 2px rgba(60, 64, 67, 0.3), 0px 1px 3px 1px rgba(60, 64, 67, 0.15);\n",
              "      fill: #174EA6;\n",
              "    }\n",
              "\n",
              "    [theme=dark] .colab-df-convert {\n",
              "      background-color: #3B4455;\n",
              "      fill: #D2E3FC;\n",
              "    }\n",
              "\n",
              "    [theme=dark] .colab-df-convert:hover {\n",
              "      background-color: #434B5C;\n",
              "      box-shadow: 0px 1px 3px 1px rgba(0, 0, 0, 0.15);\n",
              "      filter: drop-shadow(0px 1px 2px rgba(0, 0, 0, 0.3));\n",
              "      fill: #FFFFFF;\n",
              "    }\n",
              "  </style>\n",
              "\n",
              "      <script>\n",
              "        const buttonEl =\n",
              "          document.querySelector('#df-cc0b388a-bda6-4832-aa22-425f316339af button.colab-df-convert');\n",
              "        buttonEl.style.display =\n",
              "          google.colab.kernel.accessAllowed ? 'block' : 'none';\n",
              "\n",
              "        async function convertToInteractive(key) {\n",
              "          const element = document.querySelector('#df-cc0b388a-bda6-4832-aa22-425f316339af');\n",
              "          const dataTable =\n",
              "            await google.colab.kernel.invokeFunction('convertToInteractive',\n",
              "                                                     [key], {});\n",
              "          if (!dataTable) return;\n",
              "\n",
              "          const docLinkHtml = 'Like what you see? Visit the ' +\n",
              "            '<a target=\"_blank\" href=https://colab.research.google.com/notebooks/data_table.ipynb>data table notebook</a>'\n",
              "            + ' to learn more about interactive tables.';\n",
              "          element.innerHTML = '';\n",
              "          dataTable['output_type'] = 'display_data';\n",
              "          await google.colab.output.renderOutput(dataTable, element);\n",
              "          const docLink = document.createElement('div');\n",
              "          docLink.innerHTML = docLinkHtml;\n",
              "          element.appendChild(docLink);\n",
              "        }\n",
              "      </script>\n",
              "    </div>\n",
              "  </div>\n",
              "  "
            ]
          },
          "metadata": {},
          "execution_count": 68
        }
      ]
    },
    {
      "cell_type": "code",
      "source": [
        "# Building ML models"
      ],
      "metadata": {
        "id": "VJzwAK8eYZKP"
      },
      "execution_count": 69,
      "outputs": []
    },
    {
      "cell_type": "code",
      "source": [],
      "metadata": {
        "id": "3OE2NAZ2ZVUY"
      },
      "execution_count": null,
      "outputs": []
    },
    {
      "cell_type": "code",
      "source": [
        "# Model 1: Support Vector Classifier - using linear kernel\n",
        "lin_clf = SVC(kernel=\"linear\", random_state=100)\n",
        "lin_clf.fit(scaled_X_train_optimal, y_train)"
      ],
      "metadata": {
        "colab": {
          "base_uri": "https://localhost:8080/"
        },
        "id": "Ya3KiZdlZF2-",
        "outputId": "18fcb98f-c7d0-4bf0-a2af-e837eadd7864"
      },
      "execution_count": 74,
      "outputs": [
        {
          "output_type": "execute_result",
          "data": {
            "text/plain": [
              "SVC(kernel='linear', random_state=100)"
            ]
          },
          "metadata": {},
          "execution_count": 74
        }
      ]
    },
    {
      "cell_type": "code",
      "source": [
        "# Generate predictions for test set.\n",
        "lin_clf_preds = lin_clf.predict(scaled_X_test_optimal)"
      ],
      "metadata": {
        "id": "iateR4sjZ1_F"
      },
      "execution_count": 75,
      "outputs": []
    },
    {
      "cell_type": "code",
      "source": [
        "# Assess the accuracy score obtained on test set.\n",
        "from sklearn.metrics import accuracy_score, confusion_matrix, f1_score, recall_score, classification_report, precision_score"
      ],
      "metadata": {
        "id": "FHPGhIbIaDwc"
      },
      "execution_count": 140,
      "outputs": []
    },
    {
      "cell_type": "code",
      "source": [
        "lin_acc_score = accuracy_score(y_test, lin_clf_preds)\n",
        "print(lin_acc_score)"
      ],
      "metadata": {
        "colab": {
          "base_uri": "https://localhost:8080/"
        },
        "id": "lywh2tksaOGk",
        "outputId": "7bfa7c9b-5bb3-4c86-d79b-9cd8c707a154"
      },
      "execution_count": 143,
      "outputs": [
        {
          "output_type": "stream",
          "name": "stdout",
          "text": [
            "0.997074122236671\n"
          ]
        }
      ]
    },
    {
      "cell_type": "code",
      "source": [
        "# Precision score\n",
        "lin_prec_score = precision_score(y_test, lin_clf_preds)\n",
        "print(lin_prec_score)"
      ],
      "metadata": {
        "colab": {
          "base_uri": "https://localhost:8080/"
        },
        "id": "C6lqNSrsmj9H",
        "outputId": "9dd57d49-56a5-4a07-e875-5fa9b92fb1cf"
      },
      "execution_count": 144,
      "outputs": [
        {
          "output_type": "stream",
          "name": "stdout",
          "text": [
            "0.9944367176634215\n"
          ]
        }
      ]
    },
    {
      "cell_type": "code",
      "source": [
        "# Confusion matrix\n",
        "print(confusion_matrix(y_test, lin_clf_preds))"
      ],
      "metadata": {
        "colab": {
          "base_uri": "https://localhost:8080/"
        },
        "id": "vAwyAbIRaT0b",
        "outputId": "5bf561ad-9aa4-4554-f398-a1fd0e4eeb5b"
      },
      "execution_count": 145,
      "outputs": [
        {
          "output_type": "stream",
          "name": "stdout",
          "text": [
            "[[1637    8]\n",
            " [   1 1430]]\n"
          ]
        }
      ]
    },
    {
      "cell_type": "code",
      "source": [
        "# f1_score\n",
        "lin_f1_score = f1_score(y_test, lin_clf_preds)\n",
        "print(lin_f1_score)"
      ],
      "metadata": {
        "colab": {
          "base_uri": "https://localhost:8080/"
        },
        "id": "YJGO-Dpuawmy",
        "outputId": "fbbc4e5a-5d9c-49d7-dcba-7dd8451fcbce"
      },
      "execution_count": 146,
      "outputs": [
        {
          "output_type": "stream",
          "name": "stdout",
          "text": [
            "0.9968630184733357\n"
          ]
        }
      ]
    },
    {
      "cell_type": "code",
      "source": [
        "# Recall score\n",
        "lin_recall_score = recall_score(y_test, lin_clf_preds)\n",
        "print(lin_recall_score)"
      ],
      "metadata": {
        "colab": {
          "base_uri": "https://localhost:8080/"
        },
        "id": "VdDmHz05a_XR",
        "outputId": "ceea4810-f048-4eef-95b4-7426977716c3"
      },
      "execution_count": 147,
      "outputs": [
        {
          "output_type": "stream",
          "name": "stdout",
          "text": [
            "0.9993011879804332\n"
          ]
        }
      ]
    },
    {
      "cell_type": "code",
      "source": [
        "# Classification report\n",
        "print(classification_report(y_test, lin_clf_preds, digits=5))"
      ],
      "metadata": {
        "colab": {
          "base_uri": "https://localhost:8080/"
        },
        "id": "QxrPz7vNbEvJ",
        "outputId": "ded4ab87-9fef-4521-c297-9db9559c53c3"
      },
      "execution_count": 148,
      "outputs": [
        {
          "output_type": "stream",
          "name": "stdout",
          "text": [
            "              precision    recall  f1-score   support\n",
            "\n",
            "         0.0    0.99939   0.99514   0.99726      1645\n",
            "         1.0    0.99444   0.99930   0.99686      1431\n",
            "\n",
            "    accuracy                        0.99707      3076\n",
            "   macro avg    0.99691   0.99722   0.99706      3076\n",
            "weighted avg    0.99709   0.99707   0.99707      3076\n",
            "\n"
          ]
        }
      ]
    },
    {
      "cell_type": "code",
      "source": [
        "# Model 2: Support Vector Classifier - using rbf kernel\n",
        "rbf_clf = SVC(kernel=\"rbf\", random_state=100)"
      ],
      "metadata": {
        "id": "pjbfy7tKck7Q"
      },
      "execution_count": 97,
      "outputs": []
    },
    {
      "cell_type": "code",
      "source": [
        "# Training\n",
        "rbf_clf.fit(scaled_X_train_optimal, y_train)"
      ],
      "metadata": {
        "colab": {
          "base_uri": "https://localhost:8080/"
        },
        "id": "-Ac2dkXHhEpn",
        "outputId": "6854c00e-cee9-4b6a-c940-51149d51458b"
      },
      "execution_count": 98,
      "outputs": [
        {
          "output_type": "execute_result",
          "data": {
            "text/plain": [
              "SVC(random_state=100)"
            ]
          },
          "metadata": {},
          "execution_count": 98
        }
      ]
    },
    {
      "cell_type": "code",
      "source": [
        "# Generate predictions for test set.\n",
        "rbf_clf_preds = rbf_clf.predict(scaled_X_test_optimal)"
      ],
      "metadata": {
        "id": "g1GZt2dOhHYf"
      },
      "execution_count": 99,
      "outputs": []
    },
    {
      "cell_type": "code",
      "source": [
        "# Assess the accuracy score obtained on test set.\n",
        "rbf_acc_score = accuracy_score(y_test, rbf_clf_preds)\n",
        "print(rbf_acc_score)"
      ],
      "metadata": {
        "colab": {
          "base_uri": "https://localhost:8080/"
        },
        "id": "PZY9ySj0hNf3",
        "outputId": "af977314-06dc-4ba8-9eea-4d0eace001b4"
      },
      "execution_count": 149,
      "outputs": [
        {
          "output_type": "stream",
          "name": "stdout",
          "text": [
            "0.9931729518855656\n"
          ]
        }
      ]
    },
    {
      "cell_type": "code",
      "source": [
        "# Precision score\n",
        "rbf_prec_score = precision_score(y_test, rbf_clf_preds)\n",
        "print(rbf_prec_score)"
      ],
      "metadata": {
        "colab": {
          "base_uri": "https://localhost:8080/"
        },
        "id": "YhGAgZpnnIs-",
        "outputId": "415b03bb-667c-4bb6-8e4a-c4b98ba0093a"
      },
      "execution_count": 151,
      "outputs": [
        {
          "output_type": "stream",
          "name": "stdout",
          "text": [
            "0.9889042995839112\n"
          ]
        }
      ]
    },
    {
      "cell_type": "code",
      "source": [
        "# Confusion matrix\n",
        "print(confusion_matrix(y_test, rbf_clf_preds))"
      ],
      "metadata": {
        "colab": {
          "base_uri": "https://localhost:8080/"
        },
        "id": "FEhcImfThSkm",
        "outputId": "29dc4c8b-fac4-40c7-93ec-60fe596e0450"
      },
      "execution_count": 152,
      "outputs": [
        {
          "output_type": "stream",
          "name": "stdout",
          "text": [
            "[[1629   16]\n",
            " [   5 1426]]\n"
          ]
        }
      ]
    },
    {
      "cell_type": "code",
      "source": [
        "# f1_score\n",
        "rbf_f1_score = f1_score(y_test, rbf_clf_preds)\n",
        "print(rbf_f1_score)"
      ],
      "metadata": {
        "colab": {
          "base_uri": "https://localhost:8080/"
        },
        "id": "A0qEhgDIhqxu",
        "outputId": "22cead27-47c4-49ca-8b86-ffae3d35611b"
      },
      "execution_count": 153,
      "outputs": [
        {
          "output_type": "stream",
          "name": "stdout",
          "text": [
            "0.9926905673512009\n"
          ]
        }
      ]
    },
    {
      "cell_type": "code",
      "source": [
        "# Recall score\n",
        "rbf_recall_score = recall_score(y_test, rbf_clf_preds)\n",
        "print(rbf_recall_score)"
      ],
      "metadata": {
        "colab": {
          "base_uri": "https://localhost:8080/"
        },
        "id": "Bs5vQr1HhvYd",
        "outputId": "2a8dee78-a416-4843-e181-6969869bcf90"
      },
      "execution_count": 154,
      "outputs": [
        {
          "output_type": "stream",
          "name": "stdout",
          "text": [
            "0.9965059399021663\n"
          ]
        }
      ]
    },
    {
      "cell_type": "code",
      "source": [
        "# Classification report\n",
        "print(classification_report(y_test, rbf_clf_preds, digits=5))"
      ],
      "metadata": {
        "colab": {
          "base_uri": "https://localhost:8080/"
        },
        "id": "b1EyQbjkhyXd",
        "outputId": "113144b1-e42b-410c-f04a-252d254bd7ff"
      },
      "execution_count": 155,
      "outputs": [
        {
          "output_type": "stream",
          "name": "stdout",
          "text": [
            "              precision    recall  f1-score   support\n",
            "\n",
            "         0.0    0.99694   0.99027   0.99360      1645\n",
            "         1.0    0.98890   0.99651   0.99269      1431\n",
            "\n",
            "    accuracy                        0.99317      3076\n",
            "   macro avg    0.99292   0.99339   0.99314      3076\n",
            "weighted avg    0.99320   0.99317   0.99317      3076\n",
            "\n"
          ]
        }
      ]
    },
    {
      "cell_type": "code",
      "source": [
        "# Model 3: Neural Network Implementation\n",
        "from sklearn.neural_network import MLPClassifier"
      ],
      "metadata": {
        "id": "hgHPCx1Oh002"
      },
      "execution_count": 105,
      "outputs": []
    },
    {
      "cell_type": "code",
      "source": [
        "nn_clf = MLPClassifier(max_iter=1000, random_state=100)"
      ],
      "metadata": {
        "id": "b2uy0muhiKet"
      },
      "execution_count": 106,
      "outputs": []
    },
    {
      "cell_type": "code",
      "source": [
        "nn_clf.fit(scaled_X_train_optimal, y_train)"
      ],
      "metadata": {
        "colab": {
          "base_uri": "https://localhost:8080/"
        },
        "id": "fSuP-LaniRmF",
        "outputId": "9e7717d3-0ffc-4de6-98ad-4c62e808c2c6"
      },
      "execution_count": 107,
      "outputs": [
        {
          "output_type": "execute_result",
          "data": {
            "text/plain": [
              "MLPClassifier(max_iter=1000, random_state=100)"
            ]
          },
          "metadata": {},
          "execution_count": 107
        }
      ]
    },
    {
      "cell_type": "code",
      "source": [
        "# Generate predictions for test set.\n",
        "nn_clf_preds = nn_clf.predict(scaled_X_test_optimal)"
      ],
      "metadata": {
        "id": "WuJaVLqKiVDk"
      },
      "execution_count": 108,
      "outputs": []
    },
    {
      "cell_type": "code",
      "source": [
        "# Assess the accuracy score obtained on test set.\n",
        "nn_acc_score = accuracy_score(y_test, nn_clf_preds)\n",
        "print(nn_acc_score)"
      ],
      "metadata": {
        "colab": {
          "base_uri": "https://localhost:8080/"
        },
        "id": "SQYhcdHmiaok",
        "outputId": "e6fae205-bbe1-4f20-ea81-828f962854df"
      },
      "execution_count": 156,
      "outputs": [
        {
          "output_type": "stream",
          "name": "stdout",
          "text": [
            "0.9960988296488946\n"
          ]
        }
      ]
    },
    {
      "cell_type": "code",
      "source": [
        "# Precision score\n",
        "nn_prec_score = precision_score(y_test, nn_clf_preds)\n",
        "print(nn_prec_score)"
      ],
      "metadata": {
        "colab": {
          "base_uri": "https://localhost:8080/"
        },
        "id": "EFfv64EYniiU",
        "outputId": "d1279e84-d7f1-485b-bd05-10668372777d"
      },
      "execution_count": 157,
      "outputs": [
        {
          "output_type": "stream",
          "name": "stdout",
          "text": [
            "0.9937369519832986\n"
          ]
        }
      ]
    },
    {
      "cell_type": "code",
      "source": [
        "# Confusion matrix\n",
        "print(confusion_matrix(y_test, nn_clf_preds))"
      ],
      "metadata": {
        "colab": {
          "base_uri": "https://localhost:8080/"
        },
        "id": "CvlIldKFidLc",
        "outputId": "ec481278-55d3-44c6-c902-674e246746b6"
      },
      "execution_count": 158,
      "outputs": [
        {
          "output_type": "stream",
          "name": "stdout",
          "text": [
            "[[1636    9]\n",
            " [   3 1428]]\n"
          ]
        }
      ]
    },
    {
      "cell_type": "code",
      "source": [
        "# f1_score\n",
        "nn_f1_score = f1_score(y_test, nn_clf_preds)\n",
        "print(nn_f1_score)"
      ],
      "metadata": {
        "colab": {
          "base_uri": "https://localhost:8080/"
        },
        "id": "6AjqC94nigB0",
        "outputId": "9fea2353-2a2b-4534-fa92-58ffa99dc2b5"
      },
      "execution_count": 159,
      "outputs": [
        {
          "output_type": "stream",
          "name": "stdout",
          "text": [
            "0.9958158995815899\n"
          ]
        }
      ]
    },
    {
      "cell_type": "code",
      "source": [
        "# Recall score\n",
        "nn_recall_score = recall_score(y_test, nn_clf_preds)\n",
        "print(nn_recall_score)"
      ],
      "metadata": {
        "colab": {
          "base_uri": "https://localhost:8080/"
        },
        "id": "1L1zvvIDiiS0",
        "outputId": "439367e5-3fe9-4806-f302-b9a4bebf5988"
      },
      "execution_count": 160,
      "outputs": [
        {
          "output_type": "stream",
          "name": "stdout",
          "text": [
            "0.9979035639412998\n"
          ]
        }
      ]
    },
    {
      "cell_type": "code",
      "source": [
        "# Classification report\n",
        "print(classification_report(y_test, nn_clf_preds, digits=5))"
      ],
      "metadata": {
        "colab": {
          "base_uri": "https://localhost:8080/"
        },
        "id": "LDtUcPHZikl0",
        "outputId": "1784ddae-6e33-4329-9190-b2978ebf78c7"
      },
      "execution_count": 161,
      "outputs": [
        {
          "output_type": "stream",
          "name": "stdout",
          "text": [
            "              precision    recall  f1-score   support\n",
            "\n",
            "         0.0    0.99817   0.99453   0.99635      1645\n",
            "         1.0    0.99374   0.99790   0.99582      1431\n",
            "\n",
            "    accuracy                        0.99610      3076\n",
            "   macro avg    0.99595   0.99622   0.99608      3076\n",
            "weighted avg    0.99611   0.99610   0.99610      3076\n",
            "\n"
          ]
        }
      ]
    },
    {
      "cell_type": "code",
      "source": [
        "# Model 4: Decision Tree Classification\n",
        "from sklearn.tree import DecisionTreeClassifier"
      ],
      "metadata": {
        "id": "iXfYMw63im5k"
      },
      "execution_count": 119,
      "outputs": []
    },
    {
      "cell_type": "code",
      "source": [
        "dtc_clf = DecisionTreeClassifier(criterion=\"entropy\")"
      ],
      "metadata": {
        "id": "0ZWxCdBYjKYT"
      },
      "execution_count": 132,
      "outputs": []
    },
    {
      "cell_type": "code",
      "source": [
        "dtc_clf.fit(scaled_X_train_optimal, y_train)"
      ],
      "metadata": {
        "colab": {
          "base_uri": "https://localhost:8080/"
        },
        "id": "peg4ruaNjPvD",
        "outputId": "ca57a8c7-4800-4acd-fecc-7ab748e1d46e"
      },
      "execution_count": 133,
      "outputs": [
        {
          "output_type": "execute_result",
          "data": {
            "text/plain": [
              "DecisionTreeClassifier(criterion='entropy')"
            ]
          },
          "metadata": {},
          "execution_count": 133
        }
      ]
    },
    {
      "cell_type": "code",
      "source": [
        "# Generate predictions for test set.\n",
        "dtc_clf_preds = dtc_clf.predict(scaled_X_test_optimal)"
      ],
      "metadata": {
        "id": "WghkeTdxjS5S"
      },
      "execution_count": 134,
      "outputs": []
    },
    {
      "cell_type": "code",
      "source": [
        "# Assess the accuracy score obtained on test set.\n",
        "dtc_acc_score = accuracy_score(y_test, dtc_clf_preds)\n",
        "print(dtc_acc_score)"
      ],
      "metadata": {
        "colab": {
          "base_uri": "https://localhost:8080/"
        },
        "id": "xzs2jpxyk4WQ",
        "outputId": "da3e2b68-f4ff-426d-e1c3-5ec50b27a148"
      },
      "execution_count": 162,
      "outputs": [
        {
          "output_type": "stream",
          "name": "stdout",
          "text": [
            "0.9788686605981795\n"
          ]
        }
      ]
    },
    {
      "cell_type": "code",
      "source": [
        "# Precision score\n",
        "dtc_prec_score = precision_score(y_test, dtc_clf_preds)\n",
        "print(dtc_prec_score)"
      ],
      "metadata": {
        "colab": {
          "base_uri": "https://localhost:8080/"
        },
        "id": "5VDd5xYX6vl4",
        "outputId": "431acb4a-366d-47bf-f8ac-b5c9550b3af5"
      },
      "execution_count": 183,
      "outputs": [
        {
          "output_type": "stream",
          "name": "stdout",
          "text": [
            "0.9756267409470752\n"
          ]
        }
      ]
    },
    {
      "cell_type": "code",
      "source": [
        "# Confusion matrix\n",
        "print(confusion_matrix(y_test, dtc_clf_preds))"
      ],
      "metadata": {
        "colab": {
          "base_uri": "https://localhost:8080/"
        },
        "id": "dz02PMqOk7_A",
        "outputId": "b6078a99-5a55-4ed4-aa43-2a2e200e90fa"
      },
      "execution_count": 184,
      "outputs": [
        {
          "output_type": "stream",
          "name": "stdout",
          "text": [
            "[[1610   35]\n",
            " [  30 1401]]\n"
          ]
        }
      ]
    },
    {
      "cell_type": "code",
      "source": [
        "# f1_score\n",
        "dtc_f1_score = f1_score(y_test, dtc_clf_preds)\n",
        "print(dtc_f1_score)"
      ],
      "metadata": {
        "colab": {
          "base_uri": "https://localhost:8080/"
        },
        "id": "QjE28zUxlTUv",
        "outputId": "2a65a312-d001-454a-aef7-baa9a786b1c3"
      },
      "execution_count": 185,
      "outputs": [
        {
          "output_type": "stream",
          "name": "stdout",
          "text": [
            "0.9773282176491106\n"
          ]
        }
      ]
    },
    {
      "cell_type": "code",
      "source": [
        "# Recall score\n",
        "dtc_recall_score = recall_score(y_test, dtc_clf_preds)\n",
        "print(dtc_recall_score)"
      ],
      "metadata": {
        "colab": {
          "base_uri": "https://localhost:8080/"
        },
        "id": "3BTpXWIjlVmX",
        "outputId": "7fd8593b-21ca-4eea-d45d-fd3cc4828f9c"
      },
      "execution_count": 186,
      "outputs": [
        {
          "output_type": "stream",
          "name": "stdout",
          "text": [
            "0.9790356394129979\n"
          ]
        }
      ]
    },
    {
      "cell_type": "code",
      "source": [
        "# Classification report\n",
        "print(classification_report(y_test, dtc_clf_preds, digits=5))"
      ],
      "metadata": {
        "colab": {
          "base_uri": "https://localhost:8080/"
        },
        "id": "_YEUFl9SlX-n",
        "outputId": "e3446a96-f2bf-4c92-ed6c-f64ba819cc0a"
      },
      "execution_count": 187,
      "outputs": [
        {
          "output_type": "stream",
          "name": "stdout",
          "text": [
            "              precision    recall  f1-score   support\n",
            "\n",
            "         0.0    0.98171   0.97872   0.98021      1645\n",
            "         1.0    0.97563   0.97904   0.97733      1431\n",
            "\n",
            "    accuracy                        0.97887      3076\n",
            "   macro avg    0.97867   0.97888   0.97877      3076\n",
            "weighted avg    0.97888   0.97887   0.97887      3076\n",
            "\n"
          ]
        }
      ]
    },
    {
      "cell_type": "code",
      "source": [
        "# Graphical representation of different model performance.\n",
        "lin_performance_data = [lin_acc_score, lin_prec_score, lin_recall_score, lin_f1_score]\n",
        "rbf_performance_data = [rbf_acc_score, rbf_prec_score, rbf_recall_score, rbf_f1_score]\n",
        "nn_performance_data = [nn_acc_score, nn_prec_score, nn_recall_score, nn_f1_score]\n",
        "dtc_performance_data = [dtc_acc_score, dtc_prec_score, dtc_recall_score, dtc_f1_score]\n"
      ],
      "metadata": {
        "id": "PNz056OFlanm"
      },
      "execution_count": 188,
      "outputs": []
    },
    {
      "cell_type": "code",
      "source": [
        "performance_df = pd.DataFrame([lin_performance_data, rbf_performance_data, nn_performance_data, dtc_performance_data],\n",
        "                       columns=[\"Accuracy\", \"Precision\", \"Recall\", \"F1\"],\n",
        "                       index=[\"SVC Linear Kernel\", \"SVC RBF Kernel\", \"MLPClassifier\", \"Decision Tree Classifier\"])"
      ],
      "metadata": {
        "id": "78wQUXRK6n9_"
      },
      "execution_count": 209,
      "outputs": []
    },
    {
      "cell_type": "code",
      "source": [
        "performance_df"
      ],
      "metadata": {
        "colab": {
          "base_uri": "https://localhost:8080/",
          "height": 175
        },
        "id": "7DcN02Xr6-Kk",
        "outputId": "c7c87d8d-0c9b-45b7-df99-89feabef8363"
      },
      "execution_count": 210,
      "outputs": [
        {
          "output_type": "execute_result",
          "data": {
            "text/plain": [
              "                          Accuracy  Precision    Recall        F1\n",
              "SVC Linear Kernel         0.997074   0.994437  0.999301  0.996863\n",
              "SVC RBF Kernel            0.993173   0.988904  0.996506  0.992691\n",
              "MLPClassifier             0.996099   0.993737  0.997904  0.995816\n",
              "Decision Tree Classifier  0.978869   0.975627  0.979036  0.977328"
            ],
            "text/html": [
              "\n",
              "  <div id=\"df-f1702822-597f-4f21-97f1-94ec61007ece\">\n",
              "    <div class=\"colab-df-container\">\n",
              "      <div>\n",
              "<style scoped>\n",
              "    .dataframe tbody tr th:only-of-type {\n",
              "        vertical-align: middle;\n",
              "    }\n",
              "\n",
              "    .dataframe tbody tr th {\n",
              "        vertical-align: top;\n",
              "    }\n",
              "\n",
              "    .dataframe thead th {\n",
              "        text-align: right;\n",
              "    }\n",
              "</style>\n",
              "<table border=\"1\" class=\"dataframe\">\n",
              "  <thead>\n",
              "    <tr style=\"text-align: right;\">\n",
              "      <th></th>\n",
              "      <th>Accuracy</th>\n",
              "      <th>Precision</th>\n",
              "      <th>Recall</th>\n",
              "      <th>F1</th>\n",
              "    </tr>\n",
              "  </thead>\n",
              "  <tbody>\n",
              "    <tr>\n",
              "      <th>SVC Linear Kernel</th>\n",
              "      <td>0.997074</td>\n",
              "      <td>0.994437</td>\n",
              "      <td>0.999301</td>\n",
              "      <td>0.996863</td>\n",
              "    </tr>\n",
              "    <tr>\n",
              "      <th>SVC RBF Kernel</th>\n",
              "      <td>0.993173</td>\n",
              "      <td>0.988904</td>\n",
              "      <td>0.996506</td>\n",
              "      <td>0.992691</td>\n",
              "    </tr>\n",
              "    <tr>\n",
              "      <th>MLPClassifier</th>\n",
              "      <td>0.996099</td>\n",
              "      <td>0.993737</td>\n",
              "      <td>0.997904</td>\n",
              "      <td>0.995816</td>\n",
              "    </tr>\n",
              "    <tr>\n",
              "      <th>Decision Tree Classifier</th>\n",
              "      <td>0.978869</td>\n",
              "      <td>0.975627</td>\n",
              "      <td>0.979036</td>\n",
              "      <td>0.977328</td>\n",
              "    </tr>\n",
              "  </tbody>\n",
              "</table>\n",
              "</div>\n",
              "      <button class=\"colab-df-convert\" onclick=\"convertToInteractive('df-f1702822-597f-4f21-97f1-94ec61007ece')\"\n",
              "              title=\"Convert this dataframe to an interactive table.\"\n",
              "              style=\"display:none;\">\n",
              "        \n",
              "  <svg xmlns=\"http://www.w3.org/2000/svg\" height=\"24px\"viewBox=\"0 0 24 24\"\n",
              "       width=\"24px\">\n",
              "    <path d=\"M0 0h24v24H0V0z\" fill=\"none\"/>\n",
              "    <path d=\"M18.56 5.44l.94 2.06.94-2.06 2.06-.94-2.06-.94-.94-2.06-.94 2.06-2.06.94zm-11 1L8.5 8.5l.94-2.06 2.06-.94-2.06-.94L8.5 2.5l-.94 2.06-2.06.94zm10 10l.94 2.06.94-2.06 2.06-.94-2.06-.94-.94-2.06-.94 2.06-2.06.94z\"/><path d=\"M17.41 7.96l-1.37-1.37c-.4-.4-.92-.59-1.43-.59-.52 0-1.04.2-1.43.59L10.3 9.45l-7.72 7.72c-.78.78-.78 2.05 0 2.83L4 21.41c.39.39.9.59 1.41.59.51 0 1.02-.2 1.41-.59l7.78-7.78 2.81-2.81c.8-.78.8-2.07 0-2.86zM5.41 20L4 18.59l7.72-7.72 1.47 1.35L5.41 20z\"/>\n",
              "  </svg>\n",
              "      </button>\n",
              "      \n",
              "  <style>\n",
              "    .colab-df-container {\n",
              "      display:flex;\n",
              "      flex-wrap:wrap;\n",
              "      gap: 12px;\n",
              "    }\n",
              "\n",
              "    .colab-df-convert {\n",
              "      background-color: #E8F0FE;\n",
              "      border: none;\n",
              "      border-radius: 50%;\n",
              "      cursor: pointer;\n",
              "      display: none;\n",
              "      fill: #1967D2;\n",
              "      height: 32px;\n",
              "      padding: 0 0 0 0;\n",
              "      width: 32px;\n",
              "    }\n",
              "\n",
              "    .colab-df-convert:hover {\n",
              "      background-color: #E2EBFA;\n",
              "      box-shadow: 0px 1px 2px rgba(60, 64, 67, 0.3), 0px 1px 3px 1px rgba(60, 64, 67, 0.15);\n",
              "      fill: #174EA6;\n",
              "    }\n",
              "\n",
              "    [theme=dark] .colab-df-convert {\n",
              "      background-color: #3B4455;\n",
              "      fill: #D2E3FC;\n",
              "    }\n",
              "\n",
              "    [theme=dark] .colab-df-convert:hover {\n",
              "      background-color: #434B5C;\n",
              "      box-shadow: 0px 1px 3px 1px rgba(0, 0, 0, 0.15);\n",
              "      filter: drop-shadow(0px 1px 2px rgba(0, 0, 0, 0.3));\n",
              "      fill: #FFFFFF;\n",
              "    }\n",
              "  </style>\n",
              "\n",
              "      <script>\n",
              "        const buttonEl =\n",
              "          document.querySelector('#df-f1702822-597f-4f21-97f1-94ec61007ece button.colab-df-convert');\n",
              "        buttonEl.style.display =\n",
              "          google.colab.kernel.accessAllowed ? 'block' : 'none';\n",
              "\n",
              "        async function convertToInteractive(key) {\n",
              "          const element = document.querySelector('#df-f1702822-597f-4f21-97f1-94ec61007ece');\n",
              "          const dataTable =\n",
              "            await google.colab.kernel.invokeFunction('convertToInteractive',\n",
              "                                                     [key], {});\n",
              "          if (!dataTable) return;\n",
              "\n",
              "          const docLinkHtml = 'Like what you see? Visit the ' +\n",
              "            '<a target=\"_blank\" href=https://colab.research.google.com/notebooks/data_table.ipynb>data table notebook</a>'\n",
              "            + ' to learn more about interactive tables.';\n",
              "          element.innerHTML = '';\n",
              "          dataTable['output_type'] = 'display_data';\n",
              "          await google.colab.output.renderOutput(dataTable, element);\n",
              "          const docLink = document.createElement('div');\n",
              "          docLink.innerHTML = docLinkHtml;\n",
              "          element.appendChild(docLink);\n",
              "        }\n",
              "      </script>\n",
              "    </div>\n",
              "  </div>\n",
              "  "
            ]
          },
          "metadata": {},
          "execution_count": 210
        }
      ]
    },
    {
      "cell_type": "code",
      "source": [],
      "metadata": {
        "id": "PmowM8naC7fN"
      },
      "execution_count": null,
      "outputs": []
    }
  ]
}